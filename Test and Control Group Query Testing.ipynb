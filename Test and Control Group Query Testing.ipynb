{
 "cells": [
  {
   "cell_type": "code",
   "execution_count": 2,
   "metadata": {},
   "outputs": [],
   "source": [
    "import pandas as pd\n",
    "import pyodbc\n",
    "import numpy as np\n",
    "import plotly.express as px\n",
    "from datetime import datetime\n",
    "import statsmodels.api as sm\n",
    "\n",
    "pd.options.display.float_format = '{:,.2f}'.format\n",
    "pd.options.display.max_columns = 50\n",
    "pd.options.display.max_rows = 100\n",
    "\n",
    "def read_query_file(fileName):\n",
    "    file = open(fileName,'r')\n",
    "    string = file.read()\n",
    "    file.close()\n",
    "    return string\n",
    "\n",
    "def timestamp():\n",
    "    return datetime.now().strftime('%Y-%m-%d %I:%M:%S %p')   \n",
    "\n",
    "def run_query(query):\n",
    "    cnxn = pyodbc.connect('DSN=edp-workbench-cshub', autocommit=True)\n",
    "    df = pd.read_sql_query(query,cnxn)\n",
    "    cnxn.close()\n",
    "    return df"
   ]
  },
  {
   "cell_type": "code",
   "execution_count": null,
   "metadata": {},
   "outputs": [],
   "source": [
    "pd.options.display.max_rows = 80\n",
    "table"
   ]
  },
  {
   "cell_type": "code",
   "execution_count": null,
   "metadata": {},
   "outputs": [],
   "source": [
    "df = run_query(read_query_file(\"SQL\\SamplingTest\\KeyMetrics_ForGroupSelection\"))\n"
   ]
  },
  {
   "cell_type": "code",
   "execution_count": null,
   "metadata": {},
   "outputs": [],
   "source": [
    "for column in df.columns:\n",
    "    display(df[df[column].isna()][column].sum())"
   ]
  },
  {
   "cell_type": "code",
   "execution_count": 12,
   "metadata": {},
   "outputs": [
    {
     "data": {
      "text/html": [
       "<div>\n",
       "<style scoped>\n",
       "    .dataframe tbody tr th:only-of-type {\n",
       "        vertical-align: middle;\n",
       "    }\n",
       "\n",
       "    .dataframe tbody tr th {\n",
       "        vertical-align: top;\n",
       "    }\n",
       "\n",
       "    .dataframe thead th {\n",
       "        text-align: right;\n",
       "    }\n",
       "</style>\n",
       "<table border=\"1\" class=\"dataframe\">\n",
       "  <thead>\n",
       "    <tr style=\"text-align: right;\">\n",
       "      <th></th>\n",
       "      <th>Date</th>\n",
       "      <th>Employee</th>\n",
       "      <th>CXP_Prob_Sum</th>\n",
       "      <th>CXP_Prob_Count</th>\n",
       "    </tr>\n",
       "  </thead>\n",
       "  <tbody>\n",
       "    <tr>\n",
       "      <th>0</th>\n",
       "      <td>2023-08-25</td>\n",
       "      <td>575713</td>\n",
       "      <td>14.87</td>\n",
       "      <td>29</td>\n",
       "    </tr>\n",
       "    <tr>\n",
       "      <th>1</th>\n",
       "      <td>2023-06-16</td>\n",
       "      <td>395307</td>\n",
       "      <td>25.57</td>\n",
       "      <td>50</td>\n",
       "    </tr>\n",
       "    <tr>\n",
       "      <th>2</th>\n",
       "      <td>2023-07-05</td>\n",
       "      <td>520641</td>\n",
       "      <td>5.63</td>\n",
       "      <td>11</td>\n",
       "    </tr>\n",
       "    <tr>\n",
       "      <th>3</th>\n",
       "      <td>2023-06-02</td>\n",
       "      <td>470400</td>\n",
       "      <td>2.62</td>\n",
       "      <td>5</td>\n",
       "    </tr>\n",
       "    <tr>\n",
       "      <th>4</th>\n",
       "      <td>2023-08-01</td>\n",
       "      <td>437217</td>\n",
       "      <td>9.28</td>\n",
       "      <td>18</td>\n",
       "    </tr>\n",
       "  </tbody>\n",
       "</table>\n",
       "</div>"
      ],
      "text/plain": [
       "         Date  Employee  CXP_Prob_Sum  CXP_Prob_Count\n",
       "0  2023-08-25    575713         14.87              29\n",
       "1  2023-06-16    395307         25.57              50\n",
       "2  2023-07-05    520641          5.63              11\n",
       "3  2023-06-02    470400          2.62               5\n",
       "4  2023-08-01    437217          9.28              18"
      ]
     },
     "metadata": {},
     "output_type": "display_data"
    },
    {
     "data": {
      "text/plain": [
       "768368"
      ]
     },
     "metadata": {},
     "output_type": "display_data"
    },
    {
     "name": "stdout",
     "output_type": "stream",
     "text": [
      "<class 'pandas.core.frame.DataFrame'>\n",
      "RangeIndex: 192092 entries, 0 to 192091\n",
      "Data columns (total 4 columns):\n",
      " #   Column          Non-Null Count   Dtype  \n",
      "---  ------          --------------   -----  \n",
      " 0   Date            192092 non-null  object \n",
      " 1   Employee        192092 non-null  int64  \n",
      " 2   CXP_Prob_Sum    192092 non-null  float64\n",
      " 3   CXP_Prob_Count  192092 non-null  int64  \n",
      "dtypes: float64(1), int64(2), object(1)\n",
      "memory usage: 5.9+ MB\n"
     ]
    },
    {
     "data": {
      "text/plain": [
       "None"
      ]
     },
     "metadata": {},
     "output_type": "display_data"
    }
   ],
   "source": [
    "cxp = run_query(read_query_file('SQL\\PBIX\\CXP'))\n",
    "display(cxp.head(5))\n",
    "# display(cxp['id'].value_counts())\n",
    "display(cxp.size)\n",
    "display(cxp.info())"
   ]
  },
  {
   "cell_type": "code",
   "execution_count": 9,
   "metadata": {},
   "outputs": [],
   "source": [
    "test_table_df = run_query(\"\"\"SELECT * from hive.care.l1_asurion_app_analytics_eds_ml_pipeline_results ml where trans_id = '182550938' \"\"\")\n",
    "display(test_table_df.columns)\n",
    "display(test_table_df.head())"
   ]
  },
  {
   "cell_type": "code",
   "execution_count": null,
   "metadata": {},
   "outputs": [],
   "source": [
    "run_query(\"\"\"\n",
    "SELECT \n",
    "*\n",
    "FROM\n",
    "care.l3_quality_insights_transactions\n",
    "WHERE trans_id in ('98793274',\n",
    " '98813142',\n",
    " '98807852',\n",
    " '98804657',\n",
    " '98815467',\n",
    " '98779623',\n",
    " '98775699',\n",
    " '98764853',\n",
    " '98766663',\n",
    " '98747702',\n",
    " '98735130',\n",
    " '98806321',\n",
    " '98740709',\n",
    " '98761560',\n",
    " '98739143',\n",
    " '98755731',\n",
    " '98755019',\n",
    " '98749287',\n",
    " '98812534',\n",
    " '98821094',\n",
    " '98734256') \"\"\").sort_values('trans_id')"
   ]
  }
 ],
 "metadata": {
  "kernelspec": {
   "display_name": "Python 3",
   "language": "python",
   "name": "python3"
  },
  "language_info": {
   "codemirror_mode": {
    "name": "ipython",
    "version": 3
   },
   "file_extension": ".py",
   "mimetype": "text/x-python",
   "name": "python",
   "nbconvert_exporter": "python",
   "pygments_lexer": "ipython3",
   "version": "3.11.2"
  },
  "orig_nbformat": 4
 },
 "nbformat": 4,
 "nbformat_minor": 2
}
