{
 "cells": [
  {
   "cell_type": "code",
   "execution_count": null,
   "metadata": {},
   "outputs": [],
   "source": [
    "import pandas as pd\n",
    "import pyodbc\n",
    "import numpy as np\n",
    "import plotly.express as px\n",
    "from datetime import datetime\n",
    "import statsmodels.api as sm\n",
    "import json\n",
    "\n",
    "pd.options.display.float_format = '{:,.2f}'.format\n",
    "pd.options.display.max_columns = 50\n",
    "pd.options.display.max_rows = 30\n",
    "\n",
    "def file_to_string(fileName,start,end):\n",
    "    file = open(fileName,'r')\n",
    "    string = file.read()\n",
    "    file.close()\n",
    "    return string.replace('$startDate$',start).replace('$endDate$',end)\n",
    "\n",
    "def run_query(query):\n",
    "    cnxn = pyodbc.connect('DSN=edp-workbench-cshub', autocommit=True)\n",
    "    df = pd.read_sql_query(query,cnxn)\n",
    "    cnxn.close()\n",
    "    return df\n",
    "    \n",
    "def timestamp():\n",
    "    return datetime.now().strftime('%Y-%m-%d %I:%M:%S %p')\n",
    "\n",
    "def add_conditionals(df):\n",
    "    df['Date']=pd.to_datetime(df['Date'])\n",
    "    test_group = np.array(['364717','426097','547655','552121',\n",
    "        '554487','569375','572247','572815',\n",
    "        '572909','573190','573192','573276',\n",
    "        '573573','573585','575731','575996',\n",
    "        '576565','576911','577073','577246',\n",
    "        '579162','580895','580911','581015',\n",
    "        '581139','581145','581275']).astype(int)\n",
    "    df['TestGroup'] = (df['Employee'].isin((test_group))).astype(int)\n",
    "    df['AfterExpertAssistLaunch']=(df['Date']>=datetime(2023,9,25)).astype(int)\n",
    "    df['ExpertAssistOnForThisUser'] = df['AfterExpertAssistLaunch']*df['TestGroup']\n",
    "    df['Constant'] =1\n",
    "    return df\n",
    "    \n",
    "def overlaid_histogram(df, seriesNameList, title, x_axisTitle, histnorm='',bins=100):\n",
    "    import plotly.graph_objects as go\n",
    "    # Build histograms\n",
    "    df = df.copy()\n",
    "    fig = go.Figure()\n",
    "    for series in seriesNameList:\n",
    "        fig.add_trace(go.Histogram(x=df[series],histnorm=histnorm,name=series, nbinsx=bins ))\n",
    "\n",
    "    # Overlay histograms\n",
    "    fig.update_layout(\n",
    "        barmode='overlay',\n",
    "        xaxis_title_text=x_axisTitle,\n",
    "        yaxis_title_text=histnorm,\n",
    "        title = title)\n",
    "    # Reduce opacity to see both histograms\n",
    "    fig.update_traces(opacity=0.6)\n",
    "    fig.show()"
   ]
  },
  {
   "cell_type": "markdown",
   "metadata": {},
   "source": [
    "# Run query\n",
    "Uses a fuzzy join to see how many helix searchs/expert assist messages an expert had durring the time where they were taking a call."
   ]
  },
  {
   "cell_type": "code",
   "execution_count": null,
   "metadata": {},
   "outputs": [],
   "source": [
    "dfp = run_query(\n",
    "    file_to_string(\n",
    "        fileName='AHT And Sales - With Helix and Expert Assist Fuzzy Join.SQL',\n",
    "        start='2023-08-18',\n",
    "        end = '2023-11-02'\n",
    "    ))\n",
    "display(dfp.describe(),dfp.head())"
   ]
  },
  {
   "cell_type": "code",
   "execution_count": null,
   "metadata": {},
   "outputs": [],
   "source": [
    "df = dfp.copy()\n",
    "conds = [np.logical_and(df['HelixSearches']>=1,df['ExpertAssistSearches']>=1),df['ExpertAssistSearches']>=1,df['HelixSearches']>=1]\n",
    "choices=['Both','Expert Assist','Helix']\n",
    "df['Tool Used'] = np.select(condlist=conds,choicelist=choices,default='None')\n",
    "# display(df.head())\n",
    "percentile_List = [.1,.2,.3,.4,.5,.6,.7,.8,.9] #[.5,.75,.9,.95]\n",
    "describe_df = pd.DataFrame(df['HandleTime'].describe(percentiles=percentile_List)).rename({'HandleTime':'Total With or Without Tools'},axis=1)\n",
    "for tool in ['None','Expert Assist','Helix','Both']:\n",
    "        describe_df=describe_df.join(pd.DataFrame(df[df['Tool Used']==tool]['HandleTime'].describe(percentiles=percentile_List)).rename({'HandleTime':tool},axis=1))\n",
    "        # px.histogram(df[df['Tool Used']==tool],color='Tool Used',x='HandleTime',range_x=[0,10000],nbins=10,histnorm='percent').show()\n",
    "del tool\n",
    "        \n",
    "        \n",
    "display(describe_df)\n",
    "del df, conds, choices, percentile_List, describe_df"
   ]
  },
  {
   "cell_type": "code",
   "execution_count": null,
   "metadata": {},
   "outputs": [],
   "source": [
    "df =dfp.copy()\n",
    "df = add_conditionals(df)\n",
    "print(df.columns)\n",
    "df[[\n",
    "    'Date', 'Employee', 'HandleTime', 'Offered',\n",
    "    'Accepted','HelixSearches', 'ExpertAssistSearches',\n",
    "    'TestGroup','AfterExpertAssistLaunch'\n",
    "    ]].to_excel('AHT And Sales - With Helix and Expert Assist Fuzzy Join.xlsx')\n",
    "del df"
   ]
  },
  {
   "cell_type": "code",
   "execution_count": null,
   "metadata": {},
   "outputs": [],
   "source": [
    "df = dfp.copy()\n",
    "conds = [np.logical_and(df['HelixSearches']>=1,df['ExpertAssistSearches']>=1),df['ExpertAssistSearches']>=1,df['HelixSearches']>=1]\n",
    "choices=['Both','Expert Assist','Helix']\n",
    "df['Tool Used'] = np.select(condlist=conds,choicelist=choices,default='None')\n",
    "px.strip(df[df['Tool Used'].isin(['Expert Assist','Helix'])].copy(),y='HandleTime',hover_data=['Date'],color='Tool Used').show()\n",
    "px.scatter(df[df['Tool Used'].isin(['Expert Assist','Helix'])].copy(),y='HandleTime',x='Date',color='Tool Used').show()\n",
    "df = df.pivot(columns='Tool Used',values='HandleTime')\n",
    "\n",
    "overlaid_histogram(df,\n",
    "    seriesNameList=['Helix','Expert Assist'],\n",
    "    x_axisTitle='Handle Time',title='AHT by Tool Use',\n",
    "    bins=30,\n",
    "    histnorm='percent')\n",
    "\n",
    "del df, conds, choices"
   ]
  }
 ],
 "metadata": {
  "kernelspec": {
   "display_name": "Python 3",
   "language": "python",
   "name": "python3"
  },
  "language_info": {
   "codemirror_mode": {
    "name": "ipython",
    "version": 3
   },
   "file_extension": ".py",
   "mimetype": "text/x-python",
   "name": "python",
   "nbconvert_exporter": "python",
   "pygments_lexer": "ipython3",
   "version": "3.11.2"
  },
  "orig_nbformat": 4
 },
 "nbformat": 4,
 "nbformat_minor": 2
}
