{
 "cells": [
  {
   "cell_type": "code",
   "execution_count": 2,
   "metadata": {},
   "outputs": [],
   "source": [
    "FILE_START_DATE ='2023-09-25'\n",
    "FILE_END_DATE = '2023-12-31'\n",
    "\n",
    "import pandas as pd\n",
    "import pyodbc\n",
    "import numpy as np\n",
    "import plotly.express as px\n",
    "from datetime import datetime\n",
    "import statsmodels.api as sm\n",
    "\n",
    "pd.options.display.float_format = '{:,.2f}'.format\n",
    "pd.options.display.max_columns = 100\n",
    "pd.options.display.max_rows = 30\n",
    "\n",
    "def file_to_string(fileName, startDate=FILE_START_DATE, endDate=FILE_END_DATE):\n",
    "    file = open(fileName,'r')\n",
    "    string = file.read()\n",
    "    file.close()\n",
    "    print(\"StartDate \"+startDate,\"\\nEndDate \"+endDate)\n",
    "    return string.replace('$STARTDATE$',startDate).replace('$ENDDATE$',endDate)\n",
    "\n",
    "def timestamp():\n",
    "    return datetime.now().strftime('%Y-%m-%d %I:%M:%S %p')\n",
    "\n",
    "def run_query(query):\n",
    "    print(\"Query Start \" + timestamp())\n",
    "    cnxn = pyodbc.connect('DSN=edp-workbench-cshub', autocommit=True)\n",
    "    df = pd.read_sql_query(query,cnxn)\n",
    "    cnxn.close()\n",
    "    print(\"Query End \" + timestamp())\n",
    "    return df\n",
    "    \n",
    "def add_conditionals(df):\n",
    "    df = df.copy()\n",
    "    df['Date']=pd.to_datetime(df['Date'])\n",
    "    \n",
    "    df['Proactive ExAsst Group'] = (df['Employee'].isin((\n",
    "        573190, 573276, 572909, 573192, 573585,\n",
    "        573573, 572815, 552121, 576911, 572247\n",
    "        ))).astype(int)\n",
    "\n",
    "    df['After Reactive  ExAsst Launch']=(df['Date']>=datetime(2023,9,25)).astype(int)\n",
    "    df['After Proactive ExAsst Launch']=(df['Date']>=datetime(2023,11,10)).astype(int)\n",
    "\n",
    "    df['Has Proactive'] = df['Proactive ExAsst Group'] * df['After Proactive ExAsst Launch']\n",
    "    \n",
    "    df['Has Reactive'] = (df['Days Since First Expert Assist Use']>=0).astype(int)\n",
    "\n",
    "    df['Test Group For This Period'] = np.select(\n",
    "        condlist = [df['Has Proactive']==1,\n",
    "                    df['Has Reactive']==1],\n",
    "                    choicelist = ['Proactive','Reactive'],\n",
    "                    default='Control')\n",
    "\n",
    "    df['Day'] = df['Date'].dt.weekday\n",
    "    days = {0:'Monday',1:'Tuesday',2:'Wednesday',3:'Thursday',4:'Friday',5:'Saturday',6:'Sunday'}\n",
    "    for day in days:\n",
    "        df[days[day]]=(df['Day']==day).astype(int)\n",
    "    df['Week']=df['Date'].dt.isocalendar().week\n",
    "    df['Weeks Ago'] = df['Week'].astype(int).max() - df['Week'].astype(int)\n",
    "    \n",
    "    for week in df['Week'].unique():\n",
    "        df['Week '+str(week)]= (df['Week']==week).astype(int)\n",
    "    \n",
    "    if df.columns.isin(['TaskQueue']).any():\n",
    "        for queue in df['TaskQueue'].unique():\n",
    "            df[queue] = (df['TaskQueue']==queue).astype(int)\n",
    "    df['Constant'] =1\n",
    "    return df\n",
    "\n",
    "def add_metrics(df):\n",
    "    df = df.copy()\n",
    "    df['AHT'] = df['Total_Resolution_Time']/df['Sessions']\n",
    "    df['HERO'] = df['HERO_XR_Score']/df['HERO_XR_Count']\n",
    "    df['SP100'] = 100*df['Total_Accepted']/df['Total_Eligible']\n",
    "    df['Transfers'] = df['Transfer_Count']/df['Transfer_Score']\n",
    "    df['Constant'] =1\n",
    "    return df"
   ]
  },
  {
   "cell_type": "code",
   "execution_count": null,
   "metadata": {},
   "outputs": [],
   "source": [
    "df.columns.isin(['TaskQueue']).any()"
   ]
  },
  {
   "cell_type": "code",
   "execution_count": null,
   "metadata": {},
   "outputs": [],
   "source": [
    "df_daily = run_query(file_to_string('DailyMetrics.SQL'))\n",
    "df_daily.head()\n",
    "df_daily['Date'] = pd.to_datetime(df_daily['Date'])"
   ]
  },
  {
   "cell_type": "code",
   "execution_count": null,
   "metadata": {},
   "outputs": [],
   "source": [
    "metric = {'SP100':['Total_Accepted','Total_Eligible']}\n",
    "metric\n",
    "\n",
    "weekly_summary = df_daily.copy()\n",
    "weekly_summary = add_conditionals(weekly_summary)\n",
    "weekly_summary['Week'] = weekly_summary['Date'].dt.isocalendar().week\n",
    "weekly_summary['SP100']=100*weekly_summary['Total_Accepted']/weekly_summary['Total_Eligible']\n",
    "weekly_summary['After Proactive ExAsst Launch']=weekly_summary['After Proactive ExAsst Launch'].astype(bool)\n",
    "px.box(weekly_summary,y='SP100',color='After Proactive ExAsst Launch')\n",
    "\n",
    "# weekly_summary = pd.pivot_table(weekly_summary,index='Date',aggfunc=sum,columns='Test Group After Launch',values=['Total_Accepted','Total_Eligible'])\n",
    "# weekly_summary=weekly_summary['Total_Accepted']/weekly_summary['Total_Eligible']\n",
    "# weekly_summary = weekly_summary*100\n",
    "# # weekly_summary['Proactive Average'] = weekly_summary['Proactive'].mean()\n",
    "# px.line(weekly_summary,title='SP100').update_layout(yaxis_title=\"SP100\")\n"
   ]
  },
  {
   "cell_type": "code",
   "execution_count": null,
   "metadata": {},
   "outputs": [],
   "source": [
    "metricList = ['Total_Resolution_Time']\n",
    "metric_Inputs = ['Sessions','Total_Resolution_Time''HERO_XR_Score','HERO_XR_Count', 'Transfer_Score', 'Transfer_Count',\n",
    "              'Helix_Searches', 'Helix_Sessions' 'Total_Eligible','Total_Accepted']\n",
    "test_df = add_conditionals(df_daily)\n",
    "test_df = add_metrics(test_df)\n",
    "px.histogram(test_df['Total_Resolution_Time']).show()\n",
    "test_df = test_df.dropna()\n",
    "test_df.info(verbose=False)\n",
    "del test_df, metricList, metric_Inputs"
   ]
  },
  {
   "cell_type": "code",
   "execution_count": null,
   "metadata": {},
   "outputs": [],
   "source": [
    "test_df = add_conditionals(df_daily)\n",
    "test_df = add_metrics(test_df)\n",
    "\n",
    "test_df = test_df.dropna()\n",
    "# display(test_df.head(5))\n",
    "\n",
    "display(sm.OLS(\n",
    "    endog = test_df['AHT'],\n",
    "    exog = test_df[['Has Proactive','Weeks Ago','Constant']]\n",
    "    ).fit().summary())\n",
    "del test_df"
   ]
  },
  {
   "cell_type": "code",
   "execution_count": 5,
   "metadata": {},
   "outputs": [
    {
     "name": "stdout",
     "output_type": "stream",
     "text": [
      "StartDate 2023-09-25 \n",
      "EndDate 2023-12-31\n",
      "Query Start 2024-01-17 10:11:46 AM\n"
     ]
    },
    {
     "name": "stderr",
     "output_type": "stream",
     "text": [
      "C:\\Users\\austen.moore\\AppData\\Local\\Temp\\ipykernel_20004\\968787740.py:28: UserWarning: pandas only supports SQLAlchemy connectable (engine/connection) or database string URI or sqlite3 DBAPI2 connection. Other DBAPI2 objects are not tested. Please consider using SQLAlchemy.\n",
      "  df = pd.read_sql_query(query,cnxn)\n"
     ]
    },
    {
     "name": "stdout",
     "output_type": "stream",
     "text": [
      "Query End 2024-01-17 10:13:25 AM\n"
     ]
    },
    {
     "data": {
      "text/plain": [
       "datetime.date(2023, 9, 25)"
      ]
     },
     "metadata": {},
     "output_type": "display_data"
    },
    {
     "data": {
      "text/plain": [
       "datetime.date(2023, 12, 31)"
      ]
     },
     "metadata": {},
     "output_type": "display_data"
    }
   ],
   "source": [
    "df_sessions = run_query(file_to_string('AHT And Sales.SQL'))\n",
    "display(df_sessions['Date'].min(),df_sessions['Date'].max())"
   ]
  },
  {
   "cell_type": "code",
   "execution_count": 10,
   "metadata": {},
   "outputs": [
    {
     "data": {
      "text/plain": [
       "Index(['Date', 'Employee', 'Calls', 'TaskQueue', 'ucid',\n",
       "       'Days Since First Expert Assist Use', 'Handle Time', 'SR_Hits',\n",
       "       'SO_Hits', 'Any Offer', 'Any Accept', 'Proactive ExAsst Group',\n",
       "       'After Reactive  ExAsst Launch', 'After Proactive ExAsst Launch',\n",
       "       'Has Proactive', 'Has Reactive', 'Test Group For This Period', 'Day',\n",
       "       'Monday', 'Tuesday', 'Wednesday', 'Thursday', 'Friday', 'Saturday',\n",
       "       'Sunday', 'Week', 'Weeks Ago', 'Week 43', 'Week 39', 'Week 45',\n",
       "       'Week 44', 'Week 50', 'Week 52', 'Week 47', 'Week 48', 'Week 46',\n",
       "       'Week 42', 'Week 51', 'Week 49', 'Week 40', 'Week 41',\n",
       "       'VZN_5G_UPSELL_5013', 'VZN_Onboarding_2628', 'VZN_MTS_Bundle_EN_2233',\n",
       "       'VZN_MTS_Bundle_SP_2234', 'VZN_SameDay_Replac_ACT_2792',\n",
       "       'HZNVZN_Service_En_5019', 'HZNVZN_Security_Advisor_EN_2603',\n",
       "       'VZN_ASG_To_Soluto_2485', 'VZN_Onboarding_SP_2629',\n",
       "       'VZN_Resolution_SP_2462', 'HZNVZN_GAI_5084',\n",
       "       'HZNVZN_Security_Advisor_SP_2604', 'Constant'],\n",
       "      dtype='object')"
      ]
     },
     "metadata": {},
     "output_type": "display_data"
    },
    {
     "data": {
      "text/plain": [
       "Timestamp('2023-09-25 00:00:00')"
      ]
     },
     "metadata": {},
     "output_type": "display_data"
    },
    {
     "data": {
      "text/plain": [
       "Timestamp('2023-12-31 00:00:00')"
      ]
     },
     "metadata": {},
     "output_type": "display_data"
    },
    {
     "data": {
      "text/html": [
       "<table class=\"simpletable\">\n",
       "<caption>OLS Regression Results</caption>\n",
       "<tr>\n",
       "  <th>Dep. Variable:</th>       <td>Handle Time</td>   <th>  R-squared:         </th>  <td>   0.059</td>  \n",
       "</tr>\n",
       "<tr>\n",
       "  <th>Model:</th>                   <td>OLS</td>       <th>  Adj. R-squared:    </th>  <td>   0.059</td>  \n",
       "</tr>\n",
       "<tr>\n",
       "  <th>Method:</th>             <td>Least Squares</td>  <th>  F-statistic:       </th>  <td>   8870.</td>  \n",
       "</tr>\n",
       "<tr>\n",
       "  <th>Date:</th>             <td>Wed, 17 Jan 2024</td> <th>  Prob (F-statistic):</th>   <td>  0.00</td>   \n",
       "</tr>\n",
       "<tr>\n",
       "  <th>Time:</th>                 <td>10:19:11</td>     <th>  Log-Likelihood:    </th> <td>-9.3987e+06</td>\n",
       "</tr>\n",
       "<tr>\n",
       "  <th>No. Observations:</th>      <td>1126411</td>     <th>  AIC:               </th>  <td>1.880e+07</td> \n",
       "</tr>\n",
       "<tr>\n",
       "  <th>Df Residuals:</th>          <td>1126402</td>     <th>  BIC:               </th>  <td>1.880e+07</td> \n",
       "</tr>\n",
       "<tr>\n",
       "  <th>Df Model:</th>              <td>     8</td>      <th>                     </th>      <td> </td>     \n",
       "</tr>\n",
       "<tr>\n",
       "  <th>Covariance Type:</th>      <td>nonrobust</td>    <th>                     </th>      <td> </td>     \n",
       "</tr>\n",
       "</table>\n",
       "<table class=\"simpletable\">\n",
       "<tr>\n",
       "             <td></td>               <th>coef</th>     <th>std err</th>      <th>t</th>      <th>P>|t|</th>  <th>[0.025</th>    <th>0.975]</th>  \n",
       "</tr>\n",
       "<tr>\n",
       "  <th>Constant</th>               <td>  882.1393</td> <td>    4.167</td> <td>  211.681</td> <td> 0.000</td> <td>  873.972</td> <td>  890.307</td>\n",
       "</tr>\n",
       "<tr>\n",
       "  <th>Has Proactive</th>          <td>    8.0521</td> <td>   23.546</td> <td>    0.342</td> <td> 0.732</td> <td>  -38.097</td> <td>   54.201</td>\n",
       "</tr>\n",
       "<tr>\n",
       "  <th>Has Reactive</th>           <td>    0.2738</td> <td>    3.047</td> <td>    0.090</td> <td> 0.928</td> <td>   -5.698</td> <td>    6.245</td>\n",
       "</tr>\n",
       "<tr>\n",
       "  <th>Proactive ExAsst Group</th> <td> -208.2596</td> <td>   17.067</td> <td>  -12.203</td> <td> 0.000</td> <td> -241.710</td> <td> -174.809</td>\n",
       "</tr>\n",
       "<tr>\n",
       "  <th>Any Offer</th>              <td>  292.1017</td> <td>    2.042</td> <td>  143.024</td> <td> 0.000</td> <td>  288.099</td> <td>  296.105</td>\n",
       "</tr>\n",
       "<tr>\n",
       "  <th>Any Accept</th>             <td>  649.9605</td> <td>    3.890</td> <td>  167.068</td> <td> 0.000</td> <td>  642.335</td> <td>  657.586</td>\n",
       "</tr>\n",
       "<tr>\n",
       "  <th>Weeks Ago</th>              <td>    4.2987</td> <td>    0.309</td> <td>   13.929</td> <td> 0.000</td> <td>    3.694</td> <td>    4.904</td>\n",
       "</tr>\n",
       "<tr>\n",
       "  <th>VZN_MTS_Bundle_EN_2233</th> <td>  166.8749</td> <td>    3.322</td> <td>   50.234</td> <td> 0.000</td> <td>  160.364</td> <td>  173.386</td>\n",
       "</tr>\n",
       "<tr>\n",
       "  <th>VZN_Onboarding_2628</th>    <td>  451.0320</td> <td>    4.007</td> <td>  112.548</td> <td> 0.000</td> <td>  443.177</td> <td>  458.886</td>\n",
       "</tr>\n",
       "</table>\n",
       "<table class=\"simpletable\">\n",
       "<tr>\n",
       "  <th>Omnibus:</th>       <td>686273.069</td> <th>  Durbin-Watson:     </th>   <td>   2.000</td>  \n",
       "</tr>\n",
       "<tr>\n",
       "  <th>Prob(Omnibus):</th>   <td> 0.000</td>   <th>  Jarque-Bera (JB):  </th> <td>30321891.780</td>\n",
       "</tr>\n",
       "<tr>\n",
       "  <th>Skew:</th>            <td> 2.305</td>   <th>  Prob(JB):          </th>   <td>    0.00</td>  \n",
       "</tr>\n",
       "<tr>\n",
       "  <th>Kurtosis:</th>        <td>27.996</td>   <th>  Cond. No.          </th>   <td>    213.</td>  \n",
       "</tr>\n",
       "</table><br/><br/>Notes:<br/>[1] Standard Errors assume that the covariance matrix of the errors is correctly specified."
      ],
      "text/plain": [
       "<class 'statsmodels.iolib.summary.Summary'>\n",
       "\"\"\"\n",
       "                            OLS Regression Results                            \n",
       "==============================================================================\n",
       "Dep. Variable:            Handle Time   R-squared:                       0.059\n",
       "Model:                            OLS   Adj. R-squared:                  0.059\n",
       "Method:                 Least Squares   F-statistic:                     8870.\n",
       "Date:                Wed, 17 Jan 2024   Prob (F-statistic):               0.00\n",
       "Time:                        10:19:11   Log-Likelihood:            -9.3987e+06\n",
       "No. Observations:             1126411   AIC:                         1.880e+07\n",
       "Df Residuals:                 1126402   BIC:                         1.880e+07\n",
       "Df Model:                           8                                         \n",
       "Covariance Type:            nonrobust                                         \n",
       "==========================================================================================\n",
       "                             coef    std err          t      P>|t|      [0.025      0.975]\n",
       "------------------------------------------------------------------------------------------\n",
       "Constant                 882.1393      4.167    211.681      0.000     873.972     890.307\n",
       "Has Proactive              8.0521     23.546      0.342      0.732     -38.097      54.201\n",
       "Has Reactive               0.2738      3.047      0.090      0.928      -5.698       6.245\n",
       "Proactive ExAsst Group  -208.2596     17.067    -12.203      0.000    -241.710    -174.809\n",
       "Any Offer                292.1017      2.042    143.024      0.000     288.099     296.105\n",
       "Any Accept               649.9605      3.890    167.068      0.000     642.335     657.586\n",
       "Weeks Ago                  4.2987      0.309     13.929      0.000       3.694       4.904\n",
       "VZN_MTS_Bundle_EN_2233   166.8749      3.322     50.234      0.000     160.364     173.386\n",
       "VZN_Onboarding_2628      451.0320      4.007    112.548      0.000     443.177     458.886\n",
       "==============================================================================\n",
       "Omnibus:                   686273.069   Durbin-Watson:                   2.000\n",
       "Prob(Omnibus):                  0.000   Jarque-Bera (JB):         30321891.780\n",
       "Skew:                           2.305   Prob(JB):                         0.00\n",
       "Kurtosis:                      27.996   Cond. No.                         213.\n",
       "==============================================================================\n",
       "\n",
       "Notes:\n",
       "[1] Standard Errors assume that the covariance matrix of the errors is correctly specified.\n",
       "\"\"\""
      ]
     },
     "metadata": {},
     "output_type": "display_data"
    }
   ],
   "source": [
    "test_df = add_conditionals(df_sessions.copy())\n",
    "\n",
    "# test_df = test_df[test_df['Handle Time']<=5000]\n",
    "# test_df['Handle Time Log'] = np.log(test_df['Handle Time'])\n",
    "\n",
    "\n",
    "for queue in test_df['TaskQueue'].unique():\n",
    "    test_df[queue] = (test_df['TaskQueue']==queue).astype(int)\n",
    "display(test_df.columns)\n",
    "display(test_df['Date'].min(),test_df['Date'].max())\n",
    "X = test_df[[ 'Constant', \n",
    "            'Has Proactive',\n",
    "            'Has Reactive',\n",
    "            # 'After Proactive ExAsst Launch',\n",
    "            'Proactive ExAsst Group',\n",
    "            'Any Offer', 'Any Accept',\n",
    "            'Weeks Ago',\n",
    "            'VZN_MTS_Bundle_EN_2233', 'VZN_Onboarding_2628'\n",
    "            ]]\n",
    "\n",
    "mdl = sm.OLS(\n",
    "    endog = test_df['Handle Time'],\n",
    "    exog = X\n",
    "    ).fit()\n",
    "display(mdl.summary())\n",
    "test_df['Prediction']=mdl.predict(X)\n",
    "test_df['Resid'] = test_df['Handle Time']-test_df['Prediction']\n",
    "\n",
    "# import scipy.stats as stats\n",
    "# from matplotlib import pyplot as plt\n",
    "# fig = sm.qqplot(test_df['Resid'], stats.t, distargs=(7,),line='45', fit=True)\n",
    "# plt.show()\n",
    "\n",
    "# px.histogram(test_df['Resid']).show()\n",
    "# px.scatter(test_df, x='Handle Time',y='Resid', color='Has Proactive', opacity=.2).show()\n",
    "# test_df.to_excel('Dataset.xlsx')\n",
    "del test_df, mdl, queue, X"
   ]
  }
 ],
 "metadata": {
  "kernelspec": {
   "display_name": "Python 3",
   "language": "python",
   "name": "python3"
  },
  "language_info": {
   "codemirror_mode": {
    "name": "ipython",
    "version": 3
   },
   "file_extension": ".py",
   "mimetype": "text/x-python",
   "name": "python",
   "nbconvert_exporter": "python",
   "pygments_lexer": "ipython3",
   "version": "3.11.2"
  }
 },
 "nbformat": 4,
 "nbformat_minor": 2
}
