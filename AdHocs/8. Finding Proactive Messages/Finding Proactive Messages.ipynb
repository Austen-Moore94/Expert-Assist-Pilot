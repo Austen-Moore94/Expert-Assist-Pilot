{
 "cells": [
  {
   "cell_type": "markdown",
   "metadata": {},
   "source": [
    "# Define Functions and Run Initial Query"
   ]
  },
  {
   "cell_type": "code",
   "execution_count": null,
   "metadata": {},
   "outputs": [],
   "source": [
    "import pandas as pd\n",
    "import pyodbc\n",
    "import numpy as np\n",
    "import plotly.express as px\n",
    "from datetime import datetime\n",
    "import json\n",
    "\n",
    "pd.options.display.float_format = '{:,.5f}'.format\n",
    "pd.options.display.max_columns = 500\n",
    "pd.options.display.max_rows = 20\n",
    "\n",
    "def file_to_string(fileName):\n",
    "    file = open(fileName,'r')\n",
    "    string = file.read()\n",
    "    file.close()\n",
    "    return string\n",
    "\n",
    "def run_query(query):\n",
    "    cnxn = pyodbc.connect('DSN=edp-workbench-cshub', autocommit=True)\n",
    "    df = pd.read_sql_query(query,cnxn)\n",
    "    cnxn.close()\n",
    "    return df\n",
    "    \n",
    "def timestamp():\n",
    "    return datetime.now().strftime('%Y-%m-%d %I:%M:%S %p')\n",
    "\n",
    "def add_conditionals(df):\n",
    "    df = df.copy()\n",
    "    df['Date'] = pd.to_datetime(df['Date'])\n",
    "    TestGroup = np.array(('364717','426097','547655','552121',\n",
    "        '554487','569375','572247','572815',\n",
    "        '572909','573190','573192','573276',\n",
    "        '573573','573585','575731','575996',\n",
    "        '576565','576911','577073','577246',\n",
    "        '579162','580895','580911','581015',\n",
    "        '581139','581145','581275')).astype(int)\n",
    "    df['TestGroup'] = (df['Employee'].isin(TestGroup)).astype(int)\n",
    "    df['AfterExpertAssistLaunch']=(df['Date']>=datetime(2023,9,25)).astype(int)\n",
    "    df['ExpertAssistOnForThisUser'] = df['AfterExpertAssistLaunch']*df['TestGroup']\n",
    "    df['Day'] = df['Date'].dt.weekday\n",
    "    days = {0:'Monday',1:'Tuesday',2:'Wednesday',3:'Thursday',4:'Friday',5:'Saturday',6:'Sunday'}\n",
    "    for day in days:\n",
    "        df[days[day]]=(df['Day']==day).astype(int)\n",
    "    df['Week']=df['Date'].dt.isocalendar().week\n",
    "    df['Weeks Ago'] = df['Week'].astype(int).max() - df['Week'].astype(int)\n",
    "    for week in df['Week'].unique():\n",
    "        df['Week '+str(week)]= (df['Week']==week).astype(int)\n",
    "    df['Proactive Launched']=(df['Date']>=datetime(2023,11,10)).astype(int)\n",
    "    df['Constant'] =1\n",
    "    return df"
   ]
  },
  {
   "cell_type": "code",
   "execution_count": null,
   "metadata": {},
   "outputs": [],
   "source": [
    "vhe_dfp = run_query(\n",
    "\"\"\"\n",
    "select *\n",
    "FROM \n",
    "    hive.care.l1_verizon_home_events VHE\n",
    "WHERE 1=1\n",
    "    AND element_at(VHE.edp_raw_data_map, '_header_eventContext_producer') = 'eip-ingestion-data-science'\n",
    "    AND element_at(VHE.edp_raw_data_map, 'Identities_messageSid') IS NOT NULL\n",
    "    AND element_at(VHE.edp_raw_data_map, 'Name') = 'RequestSummaryVoice'\n",
    "    AND element_at(VHE.edp_raw_data_map, 'Scope')='GenerativeAISearchBotVoice'\n",
    "    AND element_at(VHE.edp_raw_data_map, 'ExtraData_inputMessage') in ('That worked!', 'Still need help', 'Wrong issue')\n",
    "    AND TRY(CAST(element_at(VHE.edp_raw_data_map, 'ExtraData_agentId') AS INT) in (573190, 573276, 572909, 573192, 573585, 573573, 572815, 552121, 576911, 572247)\n",
    "    OR CAST(element_at(VHE.edp_raw_data_map, 'ExtraData_agentId') AS INT) is null)\n",
    "    AND DATE(edp_updated_date) > DATE('2023-11-10')\n",
    "\"\"\")"
   ]
  },
  {
   "cell_type": "code",
   "execution_count": null,
   "metadata": {},
   "outputs": [],
   "source": [
    "df = vhe_dfp.copy()\n",
    "json_df = pd.DataFrame.from_records(df['edp_raw_data_map'].apply(json.loads))\n",
    "# display(vhe_dfp.head(),json_df.head(),json_df.columns)\n",
    "display(json_df[json_df['ExtraData_inputMessage']=='Wrong issue']['ExtraData_messageType'].head())\n",
    "display(pd.DataFrame(json_df['ExtraData_inputMessage'].value_counts()).sort_values('ExtraData_inputMessage',ascending=False).head(20))\n",
    "# json_df.to_excel('JsonData.xlsx')\n",
    "del df, json_df\n"
   ]
  },
  {
   "cell_type": "code",
   "execution_count": null,
   "metadata": {},
   "outputs": [],
   "source": [
    "home_df = run_query(\n",
    "\"\"\"\n",
    "SELECT\n",
    "element_at(VHE.edp_raw_data_map, 'ExtraData_inputMessage') AutoFeedback,\n",
    "element_at(VHE.edp_raw_data_map, 'Name')\n",
    "FROM \n",
    "    hive.care.l1_verizon_home_events VHE\n",
    "WHERE 1=1\n",
    "    AND element_at(VHE.edp_raw_data_map, '_header_eventContext_producer') = 'eip-ingestion-data-science'\n",
    "    AND element_at(VHE.edp_raw_data_map, 'Identities_messageSid') IS NOT NULL\n",
    "    --AND element_at(VHE.edp_raw_data_map, 'Name') = 'RequestSummaryVoice'\n",
    "    AND element_at(VHE.edp_raw_data_map, 'Scope')='GenerativeAISearchBotVoice'\n",
    "    AND (element_at(VHE.edp_raw_data_map, 'ExtraData_inputMessage') in ('That worked!', 'Still need help', 'Wrong issue') or element_at(VHE.edp_raw_data_map, 'ExtraData_inputMessage') is null)\n",
    "    AND (CAST(element_at(VHE.edp_raw_data_map, 'ExtraData_agentId') AS INT) in (573190, 573276, 572909, 573192, 573585, 573573, 572815, 552121, 576911, 572247)\n",
    "    OR TRY CAST(element_at(VHE.edp_raw_data_map, 'ExtraData_agentId') AS INT) is null)\n",
    "    AND DATE(edp_updated_date) > DATE('2023-11-10')\n",
    "    \n",
    "\"\"\")\n",
    "home_df"
   ]
  },
  {
   "cell_type": "code",
   "execution_count": null,
   "metadata": {},
   "outputs": [],
   "source": [
    "df_er=run_query(file_to_string(r'G:\\Decision_Support\\Reporting\\Business Insights\\Power BI\\Generative AI Dashboards\\Expert Assist Pilot\\AdHocs\\8. Finding Proactive Messages\\ExpertAssistResponsesByType.sql'))\n"
   ]
  },
  {
   "cell_type": "code",
   "execution_count": null,
   "metadata": {},
   "outputs": [],
   "source": [
    "df = df_er.copy()\n",
    "df['Date']=pd.to_datetime(df['Date'])\n",
    "df = df[df['Date']>='2023-11-10']\n",
    "df = df[df['Date']<='2023-12-17']\n",
    "df.sum()"
   ]
  }
 ],
 "metadata": {
  "kernelspec": {
   "display_name": "Python 3",
   "language": "python",
   "name": "python3"
  },
  "language_info": {
   "codemirror_mode": {
    "name": "ipython",
    "version": 3
   },
   "file_extension": ".py",
   "mimetype": "text/x-python",
   "name": "python",
   "nbconvert_exporter": "python",
   "pygments_lexer": "ipython3",
   "version": "3.11.2"
  },
  "orig_nbformat": 4
 },
 "nbformat": 4,
 "nbformat_minor": 2
}
