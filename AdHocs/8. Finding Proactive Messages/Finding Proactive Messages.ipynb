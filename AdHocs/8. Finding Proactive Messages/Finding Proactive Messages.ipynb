{
 "cells": [
  {
   "cell_type": "markdown",
   "metadata": {},
   "source": [
    "# Define Functions and Run Initial Query"
   ]
  },
  {
   "cell_type": "code",
   "execution_count": 2,
   "metadata": {},
   "outputs": [],
   "source": [
    "import pandas as pd\n",
    "import pyodbc\n",
    "import numpy as np\n",
    "import plotly.express as px\n",
    "from datetime import datetime\n",
    "import json\n",
    "\n",
    "pd.options.display.float_format = '{:,.5f}'.format\n",
    "pd.options.display.max_columns = 500\n",
    "pd.options.display.max_rows = 20\n",
    "\n",
    "def file_to_string(fileName):\n",
    "    file = open(fileName,'r')\n",
    "    string = file.read()\n",
    "    file.close()\n",
    "    return string\n",
    "\n",
    "def run_query(query):\n",
    "    cnxn = pyodbc.connect('DSN=edp-workbench-cshub', autocommit=True)\n",
    "    df = pd.read_sql_query(query,cnxn)\n",
    "    cnxn.close()\n",
    "    return df\n",
    "    \n",
    "def timestamp():\n",
    "    return datetime.now().strftime('%Y-%m-%d %I:%M:%S %p')\n",
    "\n",
    "def add_conditionals(df):\n",
    "    df = df.copy()\n",
    "    df['Date'] = pd.to_datetime(df['Date'])\n",
    "    TestGroup = np.array(('364717','426097','547655','552121',\n",
    "        '554487','569375','572247','572815',\n",
    "        '572909','573190','573192','573276',\n",
    "        '573573','573585','575731','575996',\n",
    "        '576565','576911','577073','577246',\n",
    "        '579162','580895','580911','581015',\n",
    "        '581139','581145','581275')).astype(int)\n",
    "    df['TestGroup'] = (df['Employee'].isin(TestGroup)).astype(int)\n",
    "    df['AfterExpertAssistLaunch']=(df['Date']>=datetime(2023,9,25)).astype(int)\n",
    "    df['ExpertAssistOnForThisUser'] = df['AfterExpertAssistLaunch']*df['TestGroup']\n",
    "    df['Day'] = df['Date'].dt.weekday\n",
    "    days = {0:'Monday',1:'Tuesday',2:'Wednesday',3:'Thursday',4:'Friday',5:'Saturday',6:'Sunday'}\n",
    "    for day in days:\n",
    "        df[days[day]]=(df['Day']==day).astype(int)\n",
    "    df['Week']=df['Date'].dt.isocalendar().week\n",
    "    df['Weeks Ago'] = df['Week'].astype(int).max() - df['Week'].astype(int)\n",
    "    for week in df['Week'].unique():\n",
    "        df['Week '+str(week)]= (df['Week']==week).astype(int)\n",
    "    df['Proactive Launched']=(df['Date']>=datetime(2023,11,10)).astype(int)\n",
    "    df['Constant'] =1\n",
    "    return df"
   ]
  },
  {
   "cell_type": "code",
   "execution_count": 20,
   "metadata": {},
   "outputs": [
    {
     "name": "stderr",
     "output_type": "stream",
     "text": [
      "C:\\Users\\austen.moore\\AppData\\Local\\Temp\\ipykernel_4916\\494237659.py:20: UserWarning: pandas only supports SQLAlchemy connectable (engine/connection) or database string URI or sqlite3 DBAPI2 connection. Other DBAPI2 objects are not tested. Please consider using SQLAlchemy.\n",
      "  df = pd.read_sql_query(query,cnxn)\n"
     ]
    },
    {
     "data": {
      "text/html": [
       "<div>\n",
       "<style scoped>\n",
       "    .dataframe tbody tr th:only-of-type {\n",
       "        vertical-align: middle;\n",
       "    }\n",
       "\n",
       "    .dataframe tbody tr th {\n",
       "        vertical-align: top;\n",
       "    }\n",
       "\n",
       "    .dataframe thead th {\n",
       "        text-align: right;\n",
       "    }\n",
       "</style>\n",
       "<table border=\"1\" class=\"dataframe\">\n",
       "  <thead>\n",
       "    <tr style=\"text-align: right;\">\n",
       "      <th></th>\n",
       "      <th>expert_id</th>\n",
       "      <th>Metric</th>\n",
       "      <th>metric_level</th>\n",
       "      <th>numerator_name</th>\n",
       "      <th>denominator_name</th>\n",
       "      <th>numerator</th>\n",
       "      <th>denominator</th>\n",
       "      <th>Date</th>\n",
       "      <th>client</th>\n",
       "      <th>subclient</th>\n",
       "      <th>icp_Client</th>\n",
       "      <th>LOB</th>\n",
       "      <th>channel_name</th>\n",
       "      <th>operator</th>\n",
       "      <th>dm_source</th>\n",
       "      <th>year_month</th>\n",
       "      <th>Month</th>\n",
       "      <th>metrics_group</th>\n",
       "      <th>Block</th>\n",
       "      <th>emp_sk</th>\n",
       "      <th>OS</th>\n",
       "      <th>site</th>\n",
       "      <th>username</th>\n",
       "      <th>Expert</th>\n",
       "      <th>Coach</th>\n",
       "      <th>manager</th>\n",
       "      <th>tenure_group</th>\n",
       "      <th>metric_lob</th>\n",
       "      <th>MetricType</th>\n",
       "      <th>supervisor_id</th>\n",
       "      <th>manager_id</th>\n",
       "    </tr>\n",
       "  </thead>\n",
       "  <tbody>\n",
       "    <tr>\n",
       "      <th>0</th>\n",
       "      <td>579450</td>\n",
       "      <td>checkout claims</td>\n",
       "      <td>true</td>\n",
       "      <td>checkout_claims</td>\n",
       "      <td></td>\n",
       "      <td>3.00000</td>\n",
       "      <td>None</td>\n",
       "      <td>2023-10-29</td>\n",
       "      <td>verizon wireless</td>\n",
       "      <td>verizon wireless</td>\n",
       "      <td>MOB-Verizon</td>\n",
       "      <td>mobility</td>\n",
       "      <td>voice</td>\n",
       "      <td>add</td>\n",
       "      <td>all</td>\n",
       "      <td>2023-10</td>\n",
       "      <td>2023-10-01</td>\n",
       "      <td></td>\n",
       "      <td></td>\n",
       "      <td></td>\n",
       "      <td></td>\n",
       "      <td>bears</td>\n",
       "      <td>mariacamila.heredia</td>\n",
       "      <td>maría heredia</td>\n",
       "      <td>julieth andrea almeida</td>\n",
       "      <td>charlie escobar</td>\n",
       "      <td>121-180</td>\n",
       "      <td></td>\n",
       "      <td></td>\n",
       "      <td>568497</td>\n",
       "      <td>524531</td>\n",
       "    </tr>\n",
       "  </tbody>\n",
       "</table>\n",
       "</div>"
      ],
      "text/plain": [
       "  expert_id           Metric metric_level   numerator_name denominator_name  \\\n",
       "0    579450  checkout claims         true  checkout_claims                    \n",
       "\n",
       "   numerator denominator        Date            client         subclient  \\\n",
       "0    3.00000        None  2023-10-29  verizon wireless  verizon wireless   \n",
       "\n",
       "    icp_Client       LOB channel_name operator dm_source year_month  \\\n",
       "0  MOB-Verizon  mobility        voice      add       all    2023-10   \n",
       "\n",
       "        Month metrics_group Block emp_sk OS   site             username  \\\n",
       "0  2023-10-01                                bears  mariacamila.heredia   \n",
       "\n",
       "          Expert                   Coach          manager tenure_group  \\\n",
       "0  maría heredia  julieth andrea almeida  charlie escobar      121-180   \n",
       "\n",
       "  metric_lob MetricType supervisor_id manager_id  \n",
       "0                              568497     524531  "
      ]
     },
     "execution_count": 20,
     "metadata": {},
     "output_type": "execute_result"
    }
   ],
   "source": [
    "dfp = run_query(\n",
    "\"\"\"\n",
    "SELECT\n",
    "    Metric\n",
    "FROM\n",
    "    hive.care.expert_performance_metrics\n",
    "GROUP BY METRIC\n",
    "\"\"\")\n",
    "dfp"
   ]
  },
  {
   "cell_type": "code",
   "execution_count": 23,
   "metadata": {},
   "outputs": [
    {
     "name": "stderr",
     "output_type": "stream",
     "text": [
      "C:\\Users\\austen.moore\\AppData\\Local\\Temp\\ipykernel_4916\\494237659.py:20: UserWarning: pandas only supports SQLAlchemy connectable (engine/connection) or database string URI or sqlite3 DBAPI2 connection. Other DBAPI2 objects are not tested. Please consider using SQLAlchemy.\n",
      "  df = pd.read_sql_query(query,cnxn)\n"
     ]
    }
   ],
   "source": [
    "vhe_dfp = run_query(\n",
    "\"\"\"\n",
    "select UPPER(metric), MIN(Date), MAX(DATE)\n",
    "FROM \n",
    "     hive.care.expert_performance_metrics\n",
    "GROUP BY \n",
    "UPPER(metric)\n",
    "\"\"\")"
   ]
  },
  {
   "cell_type": "code",
   "execution_count": 24,
   "metadata": {},
   "outputs": [
    {
     "data": {
      "text/html": [
       "<div>\n",
       "<style scoped>\n",
       "    .dataframe tbody tr th:only-of-type {\n",
       "        vertical-align: middle;\n",
       "    }\n",
       "\n",
       "    .dataframe tbody tr th {\n",
       "        vertical-align: top;\n",
       "    }\n",
       "\n",
       "    .dataframe thead th {\n",
       "        text-align: right;\n",
       "    }\n",
       "</style>\n",
       "<table border=\"1\" class=\"dataframe\">\n",
       "  <thead>\n",
       "    <tr style=\"text-align: right;\">\n",
       "      <th></th>\n",
       "      <th>_col0</th>\n",
       "      <th>_col1</th>\n",
       "    </tr>\n",
       "  </thead>\n",
       "  <tbody>\n",
       "    <tr>\n",
       "      <th>0</th>\n",
       "      <td>2022-09-01</td>\n",
       "      <td>2023-12-12</td>\n",
       "    </tr>\n",
       "  </tbody>\n",
       "</table>\n",
       "</div>"
      ],
      "text/plain": [
       "        _col0       _col1\n",
       "0  2022-09-01  2023-12-12"
      ]
     },
     "execution_count": 24,
     "metadata": {},
     "output_type": "execute_result"
    }
   ],
   "source": [
    "vhe_dfp\n",
    "# vhe_dfp[].values_count()"
   ]
  },
  {
   "cell_type": "code",
   "execution_count": null,
   "metadata": {},
   "outputs": [],
   "source": [
    "df = vhe_dfp.copy()\n",
    "json_df = pd.DataFrame.from_records(df['edp_raw_data_map'].apply(json.loads))\n",
    "display(vhe_dfp.head(),json_df.head(),json_df.columns)\n",
    "display(pd.DataFrame(json_df['ExtraData_inputMessage'].value_counts()).sort_values('ExtraData_inputMessage',ascending=False).head(20))\n",
    "# json_df.to_excel('JsonData.xlsx')\n",
    "del df, json_df\n"
   ]
  },
  {
   "cell_type": "code",
   "execution_count": null,
   "metadata": {},
   "outputs": [],
   "source": [
    "home_df = run_query(\n",
    "\"\"\"\n",
    "SELECT\n",
    "element_at(VHE.edp_raw_data_map, 'ExtraData_inputMessage') AutoFeedback,\n",
    "element_at(VHE.edp_raw_data_map, 'Name')\n",
    "FROM \n",
    "    hive.care.l1_verizon_home_events VHE\n",
    "WHERE 1=1\n",
    "    AND element_at(VHE.edp_raw_data_map, '_header_eventContext_producer') = 'eip-ingestion-data-science'\n",
    "    AND element_at(VHE.edp_raw_data_map, 'Identities_messageSid') IS NOT NULL\n",
    "    --AND element_at(VHE.edp_raw_data_map, 'Name') = 'RequestSummaryVoice'\n",
    "    AND element_at(VHE.edp_raw_data_map, 'Scope')='GenerativeAISearchBotVoice'\n",
    "    AND (element_at(VHE.edp_raw_data_map, 'ExtraData_inputMessage') in ('That worked!', 'Still need help', 'Wrong issue') or element_at(VHE.edp_raw_data_map, 'ExtraData_inputMessage') is null)\n",
    "    AND (CAST(element_at(VHE.edp_raw_data_map, 'ExtraData_agentId') AS INT) in (573190, 573276, 572909, 573192, 573585, 573573, 572815, 552121, 576911, 572247)\n",
    "    OR CAST(element_at(VHE.edp_raw_data_map, 'ExtraData_agentId') AS INT) is null)\n",
    "    AND DATE(edp_updated_date) > DATE('2023-11-10')\n",
    "    \n",
    "\"\"\")\n",
    "home_df"
   ]
  },
  {
   "cell_type": "code",
   "execution_count": null,
   "metadata": {},
   "outputs": [],
   "source": [
    "df=run_query(file_to_string(r'G:\\Decision_Support\\Reporting\\Business Insights\\Power BI\\Generative AI Dashboards\\Expert Assist Pilot\\AdHocs\\8. Finding Proactive Messages\\ExpertAssistResponsesByType.sql'))\n"
   ]
  },
  {
   "cell_type": "code",
   "execution_count": null,
   "metadata": {},
   "outputs": [],
   "source": [
    "df[['Proactive Messages','Reactive Messages']].sum()"
   ]
  }
 ],
 "metadata": {
  "kernelspec": {
   "display_name": "Python 3",
   "language": "python",
   "name": "python3"
  },
  "language_info": {
   "codemirror_mode": {
    "name": "ipython",
    "version": 3
   },
   "file_extension": ".py",
   "mimetype": "text/x-python",
   "name": "python",
   "nbconvert_exporter": "python",
   "pygments_lexer": "ipython3",
   "version": "3.11.2"
  },
  "orig_nbformat": 4
 },
 "nbformat": 4,
 "nbformat_minor": 2
}
