{
 "cells": [
  {
   "cell_type": "code",
   "execution_count": null,
   "metadata": {},
   "outputs": [],
   "source": [
    "import pandas as pd\n",
    "import pyodbc\n",
    "import numpy as np\n",
    "import plotly.express as px\n",
    "from datetime import datetime\n",
    "import statsmodels.api as sm\n",
    "import statsmodels.tsa.api as tsa\n",
    "\n",
    "pd.options.display.float_format = '{:,.2f}'.format\n",
    "pd.options.display.max_columns = 50\n",
    "pd.options.display.max_rows = 30\n",
    "\n",
    "def file_to_string(fileName):\n",
    "    file = open(fileName,'r')\n",
    "    string = file.read()\n",
    "    file.close()\n",
    "    return string\n",
    "\n",
    "def run_query(query):\n",
    "    cnxn = pyodbc.connect('DSN=edp-workbench-cshub', autocommit=True)\n",
    "    df = pd.read_sql_query(query,cnxn)\n",
    "    cnxn.close()\n",
    "    return df\n",
    "    \n",
    "def timestamp():\n",
    "    return datetime.now().strftime('%Y-%m-%d %I:%M:%S %p')\n",
    "\n",
    "def add_conditionals(df):\n",
    "    df['Date']=pd.to_datetime(df['Date'])\n",
    "    df['TestGroup'] = (df['Employee'].isin((\n",
    "        '364717','426097','547655','552121','554487','575731'\n",
    "        '569375','572247','572815','572909','573190','580895'\n",
    "        '573192','573276','573573','573585','575996','580911'\n",
    "        '576565','576911','579162','581139','581275','581015'))).astype(int)\n",
    "    df['AfterExpertAssistLaunch']=(df['Date']>=datetime(2023,9,25)).astype(int)\n",
    "    df['ExpertAssistOnForThisUser'] = df['AfterExpertAssistLaunch']*df['TestGroup']\n",
    "    df['Day'] = df['Date'].dt.weekday\n",
    "    days = {0:'Monday',1:'Tuesday',2:'Wednesday',3:'Thursday',4:'Friday',5:'Saturday',6:'Sunday'}\n",
    "    for day in days:\n",
    "        df[days[day]]=(df['Day']==day).astype(int)\n",
    "    df['Week']=df['Date'].dt.isocalendar().week\n",
    "    for week in df['Week'].unique():\n",
    "        df['Week '+str(week)]= (df['Week']==week).astype(int)\n",
    "    for queue in df['TaskQueue'].unique():\n",
    "        df[queue] = (df['TaskQueue']==queue).astype(int)\n",
    "    df['HandleTimeZ']=(df['HandleTime']-df['HandleTime'].mean())/df['HandleTime'].std()\n",
    "    df['Log(HandleTime)']=np.log(df['HandleTime'].replace(0,1))\n",
    "    df['Log(HandleTime)Z']=(df['Log(HandleTime)']-df['Log(HandleTime)'].mean())/df['Log(HandleTime)'].std()\n",
    "    df['Constant'] =1\n",
    "    return df\n",
    "\n",
    "PILOT_EXPERTS = \"\"\"\n",
    "    '293932','321930','364717','393198','426097',\n",
    "    '536491','538855','547381','547655','548026',\n",
    "    '548646','549667','550446','552121','552402',\n",
    "    '554243','554487','561761','567519','567620',\n",
    "    '568127','568568','568651','569153','569375',\n",
    "    '569498','570227','572247','572815','572909',\n",
    "    '573190','573192','573276','573573','573585',\n",
    "    '574166','575731','575996','576565','576601',\n",
    "    '576911','577073','577246','578299','579162',\n",
    "    '579630','580895','580911','581015','581139',\n",
    "    '581145','581275','581396','581694' \n",
    "    \"\"\"\n"
   ]
  },
  {
   "cell_type": "code",
   "execution_count": null,
   "metadata": {},
   "outputs": [],
   "source": [
    "dfp = run_query(file_to_string('AHT And Sales.SQL').replace('$pilot_experts$', PILOT_EXPERTS ))\n",
    "dfp.describe()\n",
    "dfp.head()\n",
    "dfp"
   ]
  },
  {
   "cell_type": "markdown",
   "metadata": {},
   "source": [
    "# EDA Graphs"
   ]
  },
  {
   "cell_type": "markdown",
   "metadata": {},
   "source": [
    "## Boxplots and numbers per group"
   ]
  },
  {
   "cell_type": "code",
   "execution_count": null,
   "metadata": {},
   "outputs": [],
   "source": [
    "df = dfp.copy()\n",
    "df = add_conditionals(df)\n",
    "\n",
    "\n",
    "px.box(x=df['TaskQueue'],y=df['HandleTime']).show()\n",
    "pivot=pd.pivot_table(df,columns='TaskQueue',index='Date',values='HandleTime')\n",
    "display(pivot.describe())\n",
    "del pivot\n",
    "display(pd.pivot_table(df,index='TaskQueue',values=['HandleTime']))\n",
    "display('Percent of Each Task',df[df['TaskQueue'].unique()].mean())\n",
    "del df"
   ]
  },
  {
   "cell_type": "markdown",
   "metadata": {},
   "source": [
    "## Boxplots and numbers per week"
   ]
  },
  {
   "cell_type": "code",
   "execution_count": null,
   "metadata": {},
   "outputs": [],
   "source": [
    "df = dfp.copy()\n",
    "df = add_conditionals(df)\n",
    "\n",
    "df['Group'] = np.where(df['TestGroup'],'Test','Control')\n",
    "px.box(df,x='Week',y='HandleTimeZ',color='TestGroup').show()\n",
    "pivot=pd.pivot_table(df,columns='Week',index='Employee',values='HandleTimeZ',aggfunc=np.mean)\n",
    "display(pivot.describe())\n",
    "del df, pivot"
   ]
  },
  {
   "cell_type": "code",
   "execution_count": null,
   "metadata": {},
   "outputs": [],
   "source": [
    "df = dfp.copy()\n",
    "df = add_conditionals(df)\n",
    "\n",
    "px.histogram(df,x='HandleTimeZ',histnorm='percent').show()\n",
    "px.histogram(df,x='Log(HandleTime)Z',histnorm='percent').show()\n",
    "\n",
    "px.histogram(df,x='HandleTimeZ',nbins=20,histnorm='percent').show()\n",
    "px.histogram(df,x='Log(HandleTime)Z',nbins=20,histnorm='percent').show()\n",
    "del df"
   ]
  },
  {
   "cell_type": "markdown",
   "metadata": {},
   "source": [
    "# Stats Work"
   ]
  },
  {
   "cell_type": "markdown",
   "metadata": {},
   "source": [
    "## Difference In Differences"
   ]
  },
  {
   "cell_type": "code",
   "execution_count": null,
   "metadata": {},
   "outputs": [],
   "source": [
    "df = dfp.copy()\n",
    "df.head()\n",
    "df = add_conditionals(df)\n",
    "df['Group'] = np.where(df['TestGroup'],'Test','Control')\n",
    "df['Period']=np.where(df['AfterExpertAssistLaunch'],'PostLaunch','PreLaunch')\n",
    "\n",
    "pivot = pd.pivot_table(df,columns=['AfterExpertAssistLaunch','TestGroup'],index='TaskQueue',values='HandleTime',margins=True)\n",
    "display(pivot.sort_index())\n",
    "del pivot\n",
    "\n",
    "pivot = pd.pivot_table(df,columns=['Period','Group'],index='TaskQueue',values='HandleTime',margins=True)\n",
    "for col in pivot['PostLaunch'].columns:\n",
    "        pivot['% Difference',col]=((pivot['PostLaunch',col]/pivot['PreLaunch',col])-1)\n",
    "        pivot['Abs Difference',col]=((pivot['PostLaunch',col]-pivot['PreLaunch',col]))\n",
    "        pivot['Total Calls in Queue',col]=df[df['Group']==col]['TaskQueue'].value_counts()\n",
    "        pivot.loc['All']['Total Calls in Queue',col]=pivot['Total Calls in Queue',col].sum()\n",
    "pivot['% Difference','B/-(W) Than Control']=pivot['% Difference','Control']-pivot['% Difference','Test']\n",
    "pivot['Abs Difference','B/-(W) Than Control']=pivot['Abs Difference','Control']-pivot['Abs Difference','Test']\n",
    "\n",
    "pivot = pivot.sort_values(by=[('Total Calls in Queue','Test')],axis=0,ascending=False)\n",
    "pivot = pivot.sort_index(axis=1,ascending=False)\n",
    "del pivot['All']\n",
    "\n",
    "display(\"AHT by Test Period and Group\",pivot)\n",
    "# pivot.to_excel('AHT.xlsx')\n",
    "del pivot, df, col"
   ]
  },
  {
   "cell_type": "markdown",
   "metadata": {},
   "source": [
    "## Regression of Handle Time\n",
    "Benifit of increased explainability. However as we saw the data is not Gaussian so the likelyhood of it being highly accurate are low"
   ]
  },
  {
   "cell_type": "code",
   "execution_count": null,
   "metadata": {},
   "outputs": [],
   "source": [
    "df = dfp.copy()\n",
    "df = add_conditionals(df)\n",
    "\n",
    "\n",
    "# Look at only 2 queue types\n",
    "df['Having ExpertAssist Effect on Onboarding']=df['VZN_Onboarding_2628']*df['ExpertAssistOnForThisUser']\n",
    "df['Having ExpertAssist Effect on MTS Bundle']=df['VZN_MTS_Bundle_EN_2233']*df['ExpertAssistOnForThisUser']\n",
    "df['Onboarding Post Launch']=df['VZN_Onboarding_2628']*df['AfterExpertAssistLaunch']\n",
    "\n",
    "df['Week']=df['Week'].astype(int)\n",
    "df['WeeksAgo']=-(df['Week']-df['Week'].max())\n",
    "\n",
    "model = sm.OLS(\n",
    "    endog=df['HandleTime'],\n",
    "    exog=df[[\n",
    "        'Having ExpertAssist Effect on Onboarding',\n",
    "        'Having ExpertAssist Effect on MTS Bundle','Constant','TestGroup','WeeksAgo',\n",
    "        \"VZN_Onboarding_2628\",'Offered','Accepted'\n",
    "]]).fit()\n",
    "display(model.summary())\n",
    "del df, model"
   ]
  },
  {
   "cell_type": "markdown",
   "metadata": {},
   "source": [
    "# Regression of LogHandleTime with prediction\n",
    "Less explainable, however it should be more accurate as the AHT data was much closer to Lognormal than normal Gaussian"
   ]
  },
  {
   "cell_type": "code",
   "execution_count": null,
   "metadata": {},
   "outputs": [],
   "source": [
    "df = dfp.copy()\n",
    "df = add_conditionals(df)\n",
    "\n",
    "df['Having ExpertAssist Effect on Onboarding']=df['VZN_Onboarding_2628']*df['ExpertAssistOnForThisUser']\n",
    "df['Having ExpertAssist Effect on MTS Bundle']=df['VZN_MTS_Bundle_EN_2233']*df['ExpertAssistOnForThisUser']\n",
    "\n",
    "df['Onboarding Post Launch']=df['VZN_Onboarding_2628']*df['AfterExpertAssistLaunch']\n",
    "df['MTS Bundle Post Launch']=df['VZN_MTS_Bundle_EN_2233']*df['AfterExpertAssistLaunch']\n",
    "\n",
    "df['Week']=df['Week'].astype(int)\n",
    "df['WeeksAgo']=-(df['Week']-df['Week'].max())\n",
    "\n",
    "model = sm.OLS(\n",
    "    endog=df['Log(HandleTime)'],\n",
    "    # endog=df['HandleTime'],\n",
    "    exog=df[[\n",
    "        'Having ExpertAssist Effect on Onboarding',\n",
    "        \"VZN_Onboarding_2628\",\n",
    "        'Having ExpertAssist Effect on MTS Bundle',\n",
    "        # 'ExpertAssistOnForThisUser',\n",
    "        'Constant','TestGroup',\n",
    "        'Offered','Accepted'\n",
    "]]).fit()\n",
    "\n",
    "# Not up to date prediction\n",
    "# print(\n",
    "#     \"Expert Assist Being on For this user leads  to\",\n",
    "#     (np.exp(model.predict(exog=[1,1,1,df['VZN_Onboarding_2628'].mean(),df['Offered'].mean(),df['Accepted'].mean()]))\n",
    "#     -np.exp(model.predict(exog=[0,1,1,df['VZN_Onboarding_2628'].mean(),df['Offered'].mean(),df['Accepted'].mean()])))[0],\n",
    "#     \" Additional(-Fewer) Seconds of AHT\"\n",
    "#     )\n",
    "\n",
    "display(model.summary(),model.summary2().tables[1])\n",
    "del df, model"
   ]
  }
 ],
 "metadata": {
  "kernelspec": {
   "display_name": "Python 3",
   "language": "python",
   "name": "python3"
  },
  "language_info": {
   "codemirror_mode": {
    "name": "ipython",
    "version": 3
   },
   "file_extension": ".py",
   "mimetype": "text/x-python",
   "name": "python",
   "nbconvert_exporter": "python",
   "pygments_lexer": "ipython3",
   "version": "3.11.2"
  },
  "orig_nbformat": 4
 },
 "nbformat": 4,
 "nbformat_minor": 2
}
