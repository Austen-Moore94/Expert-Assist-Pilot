{
 "cells": [
  {
   "cell_type": "markdown",
   "metadata": {},
   "source": [
    "# Define Functions and Run Initial Query"
   ]
  },
  {
   "cell_type": "code",
   "execution_count": 3,
   "metadata": {},
   "outputs": [
    {
     "ename": "DatabaseError",
     "evalue": "Execution failed on sql 'WITH\nDateSelector As (\n    /*\n    Builds a table with min and max dates.\n    Kind of overengineered but it prevents dates\n    getting changed in one place but not another.\n    */\n    SELECT *\n    FROM\n        ( VALUES (CAST('2023-06-01' AS DATE), CAST(CURRENT_DATE AS DATE)) )\n        as t (\"StartDate\",\"EndDate\")\n),\n\nEligibleEmployees AS(\n    /*Finds currently active\n     Employees in the orlando office and their tenure group */\nSELECT\n    CAST(eh.expert_id AS BIGINT) as \"Employee\",\n    eh.tenure_group as \"TenureGroup\"\nFROM\n    hive.care.l3_asurion_whole_home_expert_hierarchy eh\nWHERE 1=1\n    AND UPPER(eh.business_unit) = 'PSS'\n    AND eh.location = 'flor'\n    AND (SELECT MAX(EndDate) FROM DateSelector)\n        BETWEEN eh.eff_start_dt and eh.eff_end_dt\n),\n\nEfficiencyMetrics AS(\n    /*\n    Agregates total hous worked and total sessions and finds total resolution time for crt\n    */\n    SELECT \n        CAST(sfd.emplid AS BIGINT) as \"Employee\",\n        CAST(sfd.clndr_dt_cst  AS date) \"Date\",\n        SUM(COALESCE(sfd.total_stafftime,0)/3600.00) as \"HoursWorked\",\n        SUM(sfd.total_service_events) as \"Sessions\",\n        SUM(COALESCE(sfd.total_workload,0))as \"Total_Resolution_Time\"\n    FROM\n        care.l3_asurion_soluto_finance_datamart_v1 sfd\n    WHERE 1=1\n        AND channel in ('C2C','IVR')\n        AND sfd.total_service_events is not null\n        AND sfd.total_service_events != 0 \n        --Show only necessary rows\n        AND CAST(sfd.emplid AS BIGINT) in (SELECT Employee FROM EligibleEmployees)\n        and CAST(sfd.clndr_dt_cst  AS date)\n            BETWEEN \n                (SELECT MAX(StartDate) FROM DateSelector)\n                and\n                (SELECT MAX(EndDate) FROM DateSelector)\n    GROUP BY\n        CAST(sfd.emplid AS BIGINT),\n        CAST(sfd.clndr_dt_cst  AS date)\n),\n\nHELIX_Usage as  (\n    SELECT\n        CAST(empid AS BIGINT) AS \"Employee\",\n        CAST(hae.eventdatetime_cst as DATE) AS \"Date\",\n        COUNT(eventtype) as \"Helix Searches\",\n        COUNT(DISTINCT helix_sessionid) as \"Sessions With Helix Search\"\n    FROM hive.care.l3_asurion_helix_search_all_events hae\n    WHERE 1=1\n        AND lower(hae.helix_lob) = 'soluto'\n        AND hae.event = 'Search_Helix_Search_Performed'\n        --Show only necessary rows\n        AND CAST(hae.empid AS BIGINT) in (SELECT Employee FROM EligibleEmployees)\n        and CAST(hae.eventdatetime_cst as DATE)\n            BETWEEN \n                (SELECT MAX(StartDate) FROM DateSelector)\n                and\n                (SELECT MAX(EndDate) FROM DateSelector)\n    GROUP BY\n        CAST(empid AS BIGINT),\n        CAST(hae.eventdatetime_cst as DATE)\n),\n\nSales AS (\n    /*Sums the total eligible and accepted\n      Messages per employee per day.*/\n    SELECT\n        CAST(epm.expert_id AS BIGINT) as \"Employee\",\n        epm.date as \"Date\",\n        SUM(COALESCE(epm.denominator,0)) as \"Total_Eligible\",\n        SUM(COALESCE(epm.numerator,0)) as \"Total_Accepted\"\n    FROM hive.care.expert_performance_metrics epm\n    WHERE 1=1\n        AND epm.metric = 'SP100'\n        AND upper(epm.lob) = 'PSS'\n        AND TRY_CAST(epm.expert_id AS BIGINT) is not null\n        --Show only necessary rows\n        AND CAST(epm.expert_id AS BIGINT) in (SELECT Employee FROM EligibleEmployees)\n        AND CAST(epm.date as DATE)\n            BETWEEN \n                (SELECT MAX(StartDate) FROM DateSelector)\n                AND\n                (SELECT MAX(EndDate) FROM DateSelector)\n    GROUP BY\n        epm.expert_id,\n        epm.date\n),\n\nml_duplicate_remover AS(\n\n    SELECT\n        CAST(ml.trans_id as BIGINT) as trans_id,\n        max(ml.created_dt) as last_update_date,\n        max(ml.eventid) as last_eventid\n    FROM\n        hive.care.l1_asurion_app_analytics_eds_ml_pipeline_results ml\n    WHERE 1=1\n        AND ml.name = 'cxpVoice'\n        AND ml.key = 'cxp_prob'\n        AND CAST( ml.created_dt AS DATE) >= (SELECT MAX(StartDate) FROM DateSelector)\n    GROUP BY \n       CAST(ml.trans_id as BIGINT)\n),\n\nTransactionSummary as(\n    SELECT\n        CAST(qi.trans_id as BIGINT) AS trans_id,\n        MIN(CAST(qi.expert_id as BIGINT)) as \"Employee\",\n        MIN(CAST(qi.trans_date as date)) as trans_date\n    FROM care.l3_quality_insights_transactions qi\n    WHERE 1=1 \n        AND qi.business_unit = 'pss' \n        AND qi.channel = 'voice'\n        AND CAST(qi.trans_date as date) >= (SELECT MAX(StartDate) FROM DateSelector)\n        --Show only necessary rows\n        AND CAST(qi.expert_id  as BIGINT) in (SELECT Employee FROM EligibleEmployees)\n        and CAST(qi.trans_date as date)\n            BETWEEN \n                (SELECT MAX(StartDate) FROM DateSelector)\n                and\n                (SELECT MAX(EndDate) FROM DateSelector)\n    GROUP BY\n        CAST(qi.trans_id as BIGINT)\n),\n\nCXP_Scores as(\n    SELECT\n        ts.trans_date as \"Date\",\n        ts.Employee as \"Employee\",\n        SUM(CAST(ml.value AS DOUBLE)) as CXP_Prob_Sum,\n        COUNT(ml.value) as CXP_Prob_Count\n    FROM \n        TransactionSummary ts\n        LEFT OUTER JOIN\n        ml_duplicate_remover dr\n            ON ts.trans_id = dr.trans_id\n        INNER JOIN\n        hive.care.l1_asurion_app_analytics_eds_ml_pipeline_results ml\n            ON CAST(ml.trans_id as BIGINT) = dr.trans_id\n                AND ml.created_dt = dr.last_update_date\n                AND ml.eventid =dr.last_eventid\n\n    WHERE 1=1\n        AND ml.name = 'cxpVoice'\n        AND ml.key = 'cxp_prob'\n\n    GROUP BY\n        ts.trans_date,\n        ts.Employee\n)\n\nSELECT\n    ee.Employee,\n    ee.TenureGroup,\n    em.Date,\n    em.HoursWorked,\n    em.Sessions,\n    em.Total_Resolution_Time,\n    s.Total_Accepted,\n    s.Total_Eligible,\n    COALESCE(hu.\"Helix Searches\",0) as \"Helix_Searches\",\n    COALESCE(hu.\"Sessions With Helix Search\",0) as \"Helix_Sessions\",\n    cxp.CXP_Prob_Sum,\n    cxp.CXP_Prob_Count\nFROM\n    EligibleEmployees ee\n    LEFT OUTER JOIN\n    EfficiencyMetrics em\n        ON ee.Employee = em.Employee\n    LEFT OUTER JOIN\n    Sales s\n        ON ee.Employee = s.Employee\n        AND em.Date = s.Date\n    LEFT OUTER JOIN\n    HELIX_Usage hu\n        on ee.Employee = hu.Employee\n        AND em.Date = hu.Date\n    LEFT OUTER JOIN\n    CXP_Scores cxp\n        on ee.Employee = cxp.Employee\n        AND em.Date = cxp.Date\nWHERE\n    ee.Employee IS NOT NULL': ('HY000', '[HY000] [Starburst][Trino] (1060) Trino Query Error: Value cannot be cast to date: 2022-04-01T23:13:02.815Z (9) (1060) (SQLExecDirectW)')",
     "output_type": "error",
     "traceback": [
      "\u001b[1;31m---------------------------------------------------------------------------\u001b[0m",
      "\u001b[1;31mError\u001b[0m                                     Traceback (most recent call last)",
      "File \u001b[1;32mc:\\Users\\austen.moore\\AppData\\Local\\Programs\\Python\\Python311\\Lib\\site-packages\\pandas\\io\\sql.py:2018\u001b[0m, in \u001b[0;36mSQLiteDatabase.execute\u001b[1;34m(self, *args, **kwargs)\u001b[0m\n\u001b[0;32m   2017\u001b[0m \u001b[39mtry\u001b[39;00m:\n\u001b[1;32m-> 2018\u001b[0m     cur\u001b[39m.\u001b[39;49mexecute(\u001b[39m*\u001b[39;49margs, \u001b[39m*\u001b[39;49m\u001b[39m*\u001b[39;49mkwargs)\n\u001b[0;32m   2019\u001b[0m     \u001b[39mreturn\u001b[39;00m cur\n",
      "\u001b[1;31mError\u001b[0m: ('HY000', '[HY000] [Starburst][Trino] (1060) Trino Query Error: Value cannot be cast to date: 2022-04-01T23:13:02.815Z (9) (1060) (SQLExecDirectW)')",
      "\nThe above exception was the direct cause of the following exception:\n",
      "\u001b[1;31mDatabaseError\u001b[0m                             Traceback (most recent call last)",
      "Cell \u001b[1;32mIn[3], line 24\u001b[0m\n\u001b[0;32m     21\u001b[0m     cnxn\u001b[39m.\u001b[39mclose()\n\u001b[0;32m     22\u001b[0m     \u001b[39mreturn\u001b[39;00m df\n\u001b[1;32m---> 24\u001b[0m df \u001b[39m=\u001b[39m run_query(read_query_file(\u001b[39m'\u001b[39;49m\u001b[39mSQL\u001b[39;49m\u001b[39m\\\u001b[39;49m\u001b[39mSamplingTest\u001b[39;49m\u001b[39m\\\u001b[39;49m\u001b[39mKeyMetrics_ForGroupSelection.SQL\u001b[39;49m\u001b[39m'\u001b[39;49m))\n\u001b[0;32m     25\u001b[0m df\u001b[39m.\u001b[39mhead()\n",
      "Cell \u001b[1;32mIn[3], line 20\u001b[0m, in \u001b[0;36mrun_query\u001b[1;34m(query)\u001b[0m\n\u001b[0;32m     18\u001b[0m \u001b[39mdef\u001b[39;00m \u001b[39mrun_query\u001b[39m(query):\n\u001b[0;32m     19\u001b[0m     cnxn \u001b[39m=\u001b[39m pyodbc\u001b[39m.\u001b[39mconnect(\u001b[39m'\u001b[39m\u001b[39mDSN=edp-workbench-cshub\u001b[39m\u001b[39m'\u001b[39m, autocommit\u001b[39m=\u001b[39m\u001b[39mTrue\u001b[39;00m)\n\u001b[1;32m---> 20\u001b[0m     df \u001b[39m=\u001b[39m pd\u001b[39m.\u001b[39;49mread_sql_query(query,cnxn)\n\u001b[0;32m     21\u001b[0m     cnxn\u001b[39m.\u001b[39mclose()\n\u001b[0;32m     22\u001b[0m     \u001b[39mreturn\u001b[39;00m df\n",
      "File \u001b[1;32mc:\\Users\\austen.moore\\AppData\\Local\\Programs\\Python\\Python311\\Lib\\site-packages\\pandas\\io\\sql.py:397\u001b[0m, in \u001b[0;36mread_sql_query\u001b[1;34m(sql, con, index_col, coerce_float, params, parse_dates, chunksize, dtype)\u001b[0m\n\u001b[0;32m    339\u001b[0m \u001b[39m\u001b[39m\u001b[39m\"\"\"\u001b[39;00m\n\u001b[0;32m    340\u001b[0m \u001b[39mRead SQL query into a DataFrame.\u001b[39;00m\n\u001b[0;32m    341\u001b[0m \n\u001b[1;32m   (...)\u001b[0m\n\u001b[0;32m    394\u001b[0m \u001b[39mparameter will be converted to UTC.\u001b[39;00m\n\u001b[0;32m    395\u001b[0m \u001b[39m\"\"\"\u001b[39;00m\n\u001b[0;32m    396\u001b[0m pandas_sql \u001b[39m=\u001b[39m pandasSQL_builder(con)\n\u001b[1;32m--> 397\u001b[0m \u001b[39mreturn\u001b[39;00m pandas_sql\u001b[39m.\u001b[39;49mread_query(\n\u001b[0;32m    398\u001b[0m     sql,\n\u001b[0;32m    399\u001b[0m     index_col\u001b[39m=\u001b[39;49mindex_col,\n\u001b[0;32m    400\u001b[0m     params\u001b[39m=\u001b[39;49mparams,\n\u001b[0;32m    401\u001b[0m     coerce_float\u001b[39m=\u001b[39;49mcoerce_float,\n\u001b[0;32m    402\u001b[0m     parse_dates\u001b[39m=\u001b[39;49mparse_dates,\n\u001b[0;32m    403\u001b[0m     chunksize\u001b[39m=\u001b[39;49mchunksize,\n\u001b[0;32m    404\u001b[0m     dtype\u001b[39m=\u001b[39;49mdtype,\n\u001b[0;32m    405\u001b[0m )\n",
      "File \u001b[1;32mc:\\Users\\austen.moore\\AppData\\Local\\Programs\\Python\\Python311\\Lib\\site-packages\\pandas\\io\\sql.py:2078\u001b[0m, in \u001b[0;36mSQLiteDatabase.read_query\u001b[1;34m(self, sql, index_col, coerce_float, params, parse_dates, chunksize, dtype)\u001b[0m\n\u001b[0;32m   2066\u001b[0m \u001b[39mdef\u001b[39;00m \u001b[39mread_query\u001b[39m(\n\u001b[0;32m   2067\u001b[0m     \u001b[39mself\u001b[39m,\n\u001b[0;32m   2068\u001b[0m     sql,\n\u001b[1;32m   (...)\u001b[0m\n\u001b[0;32m   2074\u001b[0m     dtype: DtypeArg \u001b[39m|\u001b[39m \u001b[39mNone\u001b[39;00m \u001b[39m=\u001b[39m \u001b[39mNone\u001b[39;00m,\n\u001b[0;32m   2075\u001b[0m ) \u001b[39m-\u001b[39m\u001b[39m>\u001b[39m DataFrame \u001b[39m|\u001b[39m Iterator[DataFrame]:\n\u001b[0;32m   2077\u001b[0m     args \u001b[39m=\u001b[39m _convert_params(sql, params)\n\u001b[1;32m-> 2078\u001b[0m     cursor \u001b[39m=\u001b[39m \u001b[39mself\u001b[39;49m\u001b[39m.\u001b[39;49mexecute(\u001b[39m*\u001b[39;49margs)\n\u001b[0;32m   2079\u001b[0m     columns \u001b[39m=\u001b[39m [col_desc[\u001b[39m0\u001b[39m] \u001b[39mfor\u001b[39;00m col_desc \u001b[39min\u001b[39;00m cursor\u001b[39m.\u001b[39mdescription]\n\u001b[0;32m   2081\u001b[0m     \u001b[39mif\u001b[39;00m chunksize \u001b[39mis\u001b[39;00m \u001b[39mnot\u001b[39;00m \u001b[39mNone\u001b[39;00m:\n",
      "File \u001b[1;32mc:\\Users\\austen.moore\\AppData\\Local\\Programs\\Python\\Python311\\Lib\\site-packages\\pandas\\io\\sql.py:2030\u001b[0m, in \u001b[0;36mSQLiteDatabase.execute\u001b[1;34m(self, *args, **kwargs)\u001b[0m\n\u001b[0;32m   2027\u001b[0m     \u001b[39mraise\u001b[39;00m ex \u001b[39mfrom\u001b[39;00m \u001b[39minner_exc\u001b[39;00m\n\u001b[0;32m   2029\u001b[0m ex \u001b[39m=\u001b[39m DatabaseError(\u001b[39mf\u001b[39m\u001b[39m\"\u001b[39m\u001b[39mExecution failed on sql \u001b[39m\u001b[39m'\u001b[39m\u001b[39m{\u001b[39;00margs[\u001b[39m0\u001b[39m]\u001b[39m}\u001b[39;00m\u001b[39m'\u001b[39m\u001b[39m: \u001b[39m\u001b[39m{\u001b[39;00mexc\u001b[39m}\u001b[39;00m\u001b[39m\"\u001b[39m)\n\u001b[1;32m-> 2030\u001b[0m \u001b[39mraise\u001b[39;00m ex \u001b[39mfrom\u001b[39;00m \u001b[39mexc\u001b[39;00m\n",
      "\u001b[1;31mDatabaseError\u001b[0m: Execution failed on sql 'WITH\nDateSelector As (\n    /*\n    Builds a table with min and max dates.\n    Kind of overengineered but it prevents dates\n    getting changed in one place but not another.\n    */\n    SELECT *\n    FROM\n        ( VALUES (CAST('2023-06-01' AS DATE), CAST(CURRENT_DATE AS DATE)) )\n        as t (\"StartDate\",\"EndDate\")\n),\n\nEligibleEmployees AS(\n    /*Finds currently active\n     Employees in the orlando office and their tenure group */\nSELECT\n    CAST(eh.expert_id AS BIGINT) as \"Employee\",\n    eh.tenure_group as \"TenureGroup\"\nFROM\n    hive.care.l3_asurion_whole_home_expert_hierarchy eh\nWHERE 1=1\n    AND UPPER(eh.business_unit) = 'PSS'\n    AND eh.location = 'flor'\n    AND (SELECT MAX(EndDate) FROM DateSelector)\n        BETWEEN eh.eff_start_dt and eh.eff_end_dt\n),\n\nEfficiencyMetrics AS(\n    /*\n    Agregates total hous worked and total sessions and finds total resolution time for crt\n    */\n    SELECT \n        CAST(sfd.emplid AS BIGINT) as \"Employee\",\n        CAST(sfd.clndr_dt_cst  AS date) \"Date\",\n        SUM(COALESCE(sfd.total_stafftime,0)/3600.00) as \"HoursWorked\",\n        SUM(sfd.total_service_events) as \"Sessions\",\n        SUM(COALESCE(sfd.total_workload,0))as \"Total_Resolution_Time\"\n    FROM\n        care.l3_asurion_soluto_finance_datamart_v1 sfd\n    WHERE 1=1\n        AND channel in ('C2C','IVR')\n        AND sfd.total_service_events is not null\n        AND sfd.total_service_events != 0 \n        --Show only necessary rows\n        AND CAST(sfd.emplid AS BIGINT) in (SELECT Employee FROM EligibleEmployees)\n        and CAST(sfd.clndr_dt_cst  AS date)\n            BETWEEN \n                (SELECT MAX(StartDate) FROM DateSelector)\n                and\n                (SELECT MAX(EndDate) FROM DateSelector)\n    GROUP BY\n        CAST(sfd.emplid AS BIGINT),\n        CAST(sfd.clndr_dt_cst  AS date)\n),\n\nHELIX_Usage as  (\n    SELECT\n        CAST(empid AS BIGINT) AS \"Employee\",\n        CAST(hae.eventdatetime_cst as DATE) AS \"Date\",\n        COUNT(eventtype) as \"Helix Searches\",\n        COUNT(DISTINCT helix_sessionid) as \"Sessions With Helix Search\"\n    FROM hive.care.l3_asurion_helix_search_all_events hae\n    WHERE 1=1\n        AND lower(hae.helix_lob) = 'soluto'\n        AND hae.event = 'Search_Helix_Search_Performed'\n        --Show only necessary rows\n        AND CAST(hae.empid AS BIGINT) in (SELECT Employee FROM EligibleEmployees)\n        and CAST(hae.eventdatetime_cst as DATE)\n            BETWEEN \n                (SELECT MAX(StartDate) FROM DateSelector)\n                and\n                (SELECT MAX(EndDate) FROM DateSelector)\n    GROUP BY\n        CAST(empid AS BIGINT),\n        CAST(hae.eventdatetime_cst as DATE)\n),\n\nSales AS (\n    /*Sums the total eligible and accepted\n      Messages per employee per day.*/\n    SELECT\n        CAST(epm.expert_id AS BIGINT) as \"Employee\",\n        epm.date as \"Date\",\n        SUM(COALESCE(epm.denominator,0)) as \"Total_Eligible\",\n        SUM(COALESCE(epm.numerator,0)) as \"Total_Accepted\"\n    FROM hive.care.expert_performance_metrics epm\n    WHERE 1=1\n        AND epm.metric = 'SP100'\n        AND upper(epm.lob) = 'PSS'\n        AND TRY_CAST(epm.expert_id AS BIGINT) is not null\n        --Show only necessary rows\n        AND CAST(epm.expert_id AS BIGINT) in (SELECT Employee FROM EligibleEmployees)\n        AND CAST(epm.date as DATE)\n            BETWEEN \n                (SELECT MAX(StartDate) FROM DateSelector)\n                AND\n                (SELECT MAX(EndDate) FROM DateSelector)\n    GROUP BY\n        epm.expert_id,\n        epm.date\n),\n\nml_duplicate_remover AS(\n\n    SELECT\n        CAST(ml.trans_id as BIGINT) as trans_id,\n        max(ml.created_dt) as last_update_date,\n        max(ml.eventid) as last_eventid\n    FROM\n        hive.care.l1_asurion_app_analytics_eds_ml_pipeline_results ml\n    WHERE 1=1\n        AND ml.name = 'cxpVoice'\n        AND ml.key = 'cxp_prob'\n        AND CAST( ml.created_dt AS DATE) >= (SELECT MAX(StartDate) FROM DateSelector)\n    GROUP BY \n       CAST(ml.trans_id as BIGINT)\n),\n\nTransactionSummary as(\n    SELECT\n        CAST(qi.trans_id as BIGINT) AS trans_id,\n        MIN(CAST(qi.expert_id as BIGINT)) as \"Employee\",\n        MIN(CAST(qi.trans_date as date)) as trans_date\n    FROM care.l3_quality_insights_transactions qi\n    WHERE 1=1 \n        AND qi.business_unit = 'pss' \n        AND qi.channel = 'voice'\n        AND CAST(qi.trans_date as date) >= (SELECT MAX(StartDate) FROM DateSelector)\n        --Show only necessary rows\n        AND CAST(qi.expert_id  as BIGINT) in (SELECT Employee FROM EligibleEmployees)\n        and CAST(qi.trans_date as date)\n            BETWEEN \n                (SELECT MAX(StartDate) FROM DateSelector)\n                and\n                (SELECT MAX(EndDate) FROM DateSelector)\n    GROUP BY\n        CAST(qi.trans_id as BIGINT)\n),\n\nCXP_Scores as(\n    SELECT\n        ts.trans_date as \"Date\",\n        ts.Employee as \"Employee\",\n        SUM(CAST(ml.value AS DOUBLE)) as CXP_Prob_Sum,\n        COUNT(ml.value) as CXP_Prob_Count\n    FROM \n        TransactionSummary ts\n        LEFT OUTER JOIN\n        ml_duplicate_remover dr\n            ON ts.trans_id = dr.trans_id\n        INNER JOIN\n        hive.care.l1_asurion_app_analytics_eds_ml_pipeline_results ml\n            ON CAST(ml.trans_id as BIGINT) = dr.trans_id\n                AND ml.created_dt = dr.last_update_date\n                AND ml.eventid =dr.last_eventid\n\n    WHERE 1=1\n        AND ml.name = 'cxpVoice'\n        AND ml.key = 'cxp_prob'\n\n    GROUP BY\n        ts.trans_date,\n        ts.Employee\n)\n\nSELECT\n    ee.Employee,\n    ee.TenureGroup,\n    em.Date,\n    em.HoursWorked,\n    em.Sessions,\n    em.Total_Resolution_Time,\n    s.Total_Accepted,\n    s.Total_Eligible,\n    COALESCE(hu.\"Helix Searches\",0) as \"Helix_Searches\",\n    COALESCE(hu.\"Sessions With Helix Search\",0) as \"Helix_Sessions\",\n    cxp.CXP_Prob_Sum,\n    cxp.CXP_Prob_Count\nFROM\n    EligibleEmployees ee\n    LEFT OUTER JOIN\n    EfficiencyMetrics em\n        ON ee.Employee = em.Employee\n    LEFT OUTER JOIN\n    Sales s\n        ON ee.Employee = s.Employee\n        AND em.Date = s.Date\n    LEFT OUTER JOIN\n    HELIX_Usage hu\n        on ee.Employee = hu.Employee\n        AND em.Date = hu.Date\n    LEFT OUTER JOIN\n    CXP_Scores cxp\n        on ee.Employee = cxp.Employee\n        AND em.Date = cxp.Date\nWHERE\n    ee.Employee IS NOT NULL': ('HY000', '[HY000] [Starburst][Trino] (1060) Trino Query Error: Value cannot be cast to date: 2022-04-01T23:13:02.815Z (9) (1060) (SQLExecDirectW)')"
     ]
    }
   ],
   "source": [
    "import pandas as pd\n",
    "import pyodbc\n",
    "import numpy as np\n",
    "import plotly.express as px\n",
    "from datetime import datetime\n",
    "import statsmodels.api as sm\n",
    "\n",
    "pd.options.display.float_format = '{:,.2f}'.format\n",
    "pd.options.display.max_columns = 50\n",
    "pd.options.display.max_rows = 10\n",
    "\n",
    "def read_query_file(fileName):\n",
    "    file = open(fileName,'r')\n",
    "    string = file.read()\n",
    "    file.close()\n",
    "    return string\n",
    "\n",
    "def run_query(query):\n",
    "    cnxn = pyodbc.connect('DSN=edp-workbench-cshub', autocommit=True)\n",
    "    df = pd.read_sql_query(query,cnxn)\n",
    "    cnxn.close()\n",
    "    return df\n",
    "\n",
    "df = run_query(read_query_file('SQL\\SamplingTest\\KeyMetrics_ForGroupSelection.SQL'))\n",
    "df.head()"
   ]
  },
  {
   "cell_type": "code",
   "execution_count": null,
   "metadata": {},
   "outputs": [],
   "source": [
    "df['CXP_Prob_Count'].value_counts()"
   ]
  },
  {
   "cell_type": "markdown",
   "metadata": {},
   "source": [
    "# Build out the metrics from the Query"
   ]
  },
  {
   "cell_type": "code",
   "execution_count": null,
   "metadata": {},
   "outputs": [],
   "source": [
    "df['SP100'] = df['Total_Accepted']/df['Total_Eligible']\n",
    "df['CXP_Score']=df['CXP_Prob_Sum']/df['CXP_Prob_Count']\n",
    "df['Sessions Per Hour'] = df['Sessions']/df['HoursWorked']\n",
    "df['CRT']= df['Total_Resolution_Time']/df['Sessions']\n",
    "df['Searches Per Session']= df['Helix_Searches']/df['Sessions']\n",
    "df['%Sessions With Search']= df['Helix_Sessions']/df['Sessions']\n",
    "df=df.join(pd.get_dummies(df['TenureGroup']))\n",
    "employees_df = df[['Employee','TenureGroup']].copy().drop_duplicates(subset='Employee')\n",
    "display(employees_df)\n",
    "display(df.head())"
   ]
  },
  {
   "cell_type": "markdown",
   "metadata": {},
   "source": [
    "# Select Sample Size by Tenure Group\n",
    "Using the current number of experts find the number of samples needed in each group to be representative of the general population at Orlando"
   ]
  },
  {
   "cell_type": "code",
   "execution_count": null,
   "metadata": {},
   "outputs": [],
   "source": [
    "SAMPLE_SIZE = 30\n",
    "sample_size_df=pd.pivot_table(df.copy(),index='TenureGroup',values='Employee',aggfunc=lambda x: len(x.unique()),margins=True,)\n",
    "sample_size_df['Total Employees']=sample_size_df['Employee']\n",
    "del sample_size_df['Employee']\n",
    "sample_size_df['% of Employees'] = sample_size_df['Total Employees']/sample_size_df['Total Employees'].loc['All']\n",
    "sample_size_df['n Employees'] = (sample_size_df['% of Employees']* SAMPLE_SIZE).round()\n",
    "\n",
    "sample_size_df=sample_size_df.iloc[:-1]\n",
    "display(sample_size_df.sum())\n",
    "display(sample_size_df)\n",
    "\n",
    "del SAMPLE_SIZE"
   ]
  },
  {
   "cell_type": "markdown",
   "metadata": {},
   "source": [
    "# Test\n",
    "1. Creates representative samples\n",
    "2. Tests those samples to see if they have a meaningful effect on the metric\n",
    "    1. Runs an OLS on the sample to see if they have high p val for the metric. If they have a low value for all metrics they are saved as a good possible sample."
   ]
  },
  {
   "cell_type": "code",
   "execution_count": null,
   "metadata": {},
   "outputs": [],
   "source": [
    "P_VAL_FLOOR = .5\n",
    "SAMPLES = 10000\n",
    "\n",
    "SelectionMetrics = ['CRT','%Sessions With Search','SP100','CXP_Score']\n",
    "\n",
    "results_df = pd.DataFrame(columns=['Members']+SelectionMetrics)\n",
    "\n",
    "# Build test dataframe dft and get groups setup\n",
    "groups = sample_size_df.index.to_list()\n",
    "dft = df[['Employee']+SelectionMetrics+groups].copy()\n",
    "dft['Constant']=1\n",
    "dft = dft.replace({np.inf : np.nan,np.inf : np.nan})\n",
    "dft= dft.dropna()\n",
    "\n",
    "# Make a loop to run this a bunch\n",
    "for run in range(1,SAMPLES):\n",
    "    # creates a list for the sampled employes\n",
    "    # then adds the correct number of samples from each group to it\n",
    "    sample_group = []\n",
    "    for group in groups:\n",
    "        sample_df = employees_df[employees_df['TenureGroup']==group]\n",
    "        sample_group= sample_group+ sample_df['Employee'].sample(\n",
    "            n=int(sample_size_df.loc[group]['n Employees'])\n",
    "            ,replace=False\n",
    "            ,random_state=run\n",
    "            ).tolist()\n",
    "    del group\n",
    "    \n",
    "    # Flag the employees in the group\n",
    "    dft['TestSample']=(dft['Employee'].isin(sample_group)).astype(int)\n",
    "    \n",
    "    # Make sure the p vals are high enough to assume no statistical significance\n",
    "    # Also added a lower and upper bound to make sure it could be positive or negative\n",
    "    p_val_list = []\n",
    "    for y in SelectionMetrics:\n",
    "        model = sm.OLS(endog=dft[y].copy(),exog=dft.copy()[groups+['TestSample','Constant']]).fit().summary2().tables[1]\n",
    "        p_val = model['P>|t|'].loc['TestSample']\n",
    "        lower = model['[0.025'].loc['TestSample']\n",
    "        upper = model['0.975]'].loc['TestSample']\n",
    "        if p_val >= P_VAL_FLOOR and lower<0 and upper>0:\n",
    "            p_val_list.append(p_val)\n",
    "        del p_val, y\n",
    "    # add sample group to results list if the results were not significant\n",
    "    if len(p_val_list)==len(SelectionMetrics):\n",
    "        current_result = dict(zip(['Members']+SelectionMetrics,[[sample_group]]+p_val_list))\n",
    "        results_df=pd.concat([results_df,pd.DataFrame(current_result,index=[run])])\n",
    "    del sample_group, p_val_list, dft['TestSample'], sample_df\n",
    "\n",
    "del dft, SAMPLES, P_VAL_FLOOR, run, groups, \n",
    "\n",
    "results_df\n",
    "# results_df.to_excel('Unbiased Sample Selections.xlsx')"
   ]
  },
  {
   "cell_type": "markdown",
   "metadata": {},
   "source": [
    "# Find and display subsets that do not have any duplicate members"
   ]
  },
  {
   "cell_type": "code",
   "execution_count": null,
   "metadata": {},
   "outputs": [],
   "source": [
    "results_df = pd.read_excel('Unbiased Sample Selections.xlsx')\n",
    "# SelectionMetrics = ['CRT','%Sessions With Search','SP100','CXP_Score']\n",
    "results_df['TotalPVal']=0\n",
    "for metric in SelectionMetrics:\n",
    "    results_df['TotalPVal'] = results_df['TotalPVal']+results_df[metric]\n",
    "results_df['AvgPVal']= results_df['TotalPVal']/len(SelectionMetrics)\n",
    "\n",
    "del metric\n",
    "for row1 in range(len(results_df['Members'])):\n",
    "    for row2 in range(1,len(results_df['Members'])):\n",
    "        duplicates = 0\n",
    "        for item in results_df['Members'].iloc[row1]:\n",
    "            if item in results_df['Members'].iloc[row2]: \n",
    "                duplicates=duplicates+1\n",
    "                display(item)\n",
    "        if duplicates == 0:\n",
    "            display(pd.concat([results_df.iloc[[row1]],results_df.iloc[[row2]]]))\n",
    "del row1, row2, duplicates, item"
   ]
  },
  {
   "cell_type": "code",
   "execution_count": null,
   "metadata": {},
   "outputs": [],
   "source": [
    "results_df.to_excel('Unbiased Sample Selections.xlsx')"
   ]
  },
  {
   "cell_type": "markdown",
   "metadata": {},
   "source": [
    "# Changes\n",
    "1. Drop Sessions Per Hour\n",
    "2. Get SP100 and CXP from Brian Vickers\n",
    "3. Check on Helx Search Ravi"
   ]
  }
 ],
 "metadata": {
  "kernelspec": {
   "display_name": "Python 3",
   "language": "python",
   "name": "python3"
  },
  "language_info": {
   "codemirror_mode": {
    "name": "ipython",
    "version": 3
   },
   "file_extension": ".py",
   "mimetype": "text/x-python",
   "name": "python",
   "nbconvert_exporter": "python",
   "pygments_lexer": "ipython3",
   "version": "3.11.2"
  },
  "orig_nbformat": 4
 },
 "nbformat": 4,
 "nbformat_minor": 2
}
