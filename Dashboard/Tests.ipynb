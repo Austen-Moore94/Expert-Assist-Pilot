{
 "cells": [
  {
   "cell_type": "markdown",
   "metadata": {},
   "source": [
    "## Function to read json rows into a dataframe\n",
    "json_df = pd.DataFrame.from_records(df['edp_raw_data_map'].apply(json.loads))"
   ]
  },
  {
   "cell_type": "code",
   "execution_count": 1,
   "metadata": {},
   "outputs": [],
   "source": [
    "import  plotly.express as px\n",
    "import pandas as pd\n",
    "import pyodbc\n",
    "import json\n",
    "from datetime import datetime \n",
    "\n",
    "def timestamp():\n",
    "    return datetime.now().strftime('%Y-%m-%d %I:%M:%S %p')\n",
    "pd.options.display.max_columns = 100\n",
    "\n",
    "# Here is a function I use to read a file with a sql query\n",
    "def file_to_string(fileName):\n",
    "    file = open(fileName,'r')\n",
    "    string = file.read()\n",
    "    file.close()\n",
    "    return string\n",
    "\n",
    "# Then I use this to run the query and get the results as a dataframe\n",
    "def run_query(query, dsn='edp-workbench-cshub'):\n",
    "    cnxn = pyodbc.connect('DSN='+dsn, autocommit=True)\n",
    "    df = pd.read_sql_query(query,cnxn)\n",
    "    cnxn.close()\n",
    "    return df\n"
   ]
  },
  {
   "cell_type": "code",
   "execution_count": null,
   "metadata": {},
   "outputs": [],
   "source": [
    "df = run_query(file_to_string('SQL/EfficiencyMetrics.SQL'))"
   ]
  },
  {
   "cell_type": "code",
   "execution_count": 9,
   "metadata": {},
   "outputs": [
    {
     "name": "stderr",
     "output_type": "stream",
     "text": [
      "C:\\Users\\austen.moore\\AppData\\Local\\Temp\\ipykernel_16012\\1418089109.py:17: UserWarning: pandas only supports SQLAlchemy connectable (engine/connection) or database string URI or sqlite3 DBAPI2 connection. Other DBAPI2 objects are not tested. Please consider using SQLAlchemy.\n",
      "  df = pd.read_sql_query(query,cnxn)\n"
     ]
    },
    {
     "data": {
      "text/html": [
       "<div>\n",
       "<style scoped>\n",
       "    .dataframe tbody tr th:only-of-type {\n",
       "        vertical-align: middle;\n",
       "    }\n",
       "\n",
       "    .dataframe tbody tr th {\n",
       "        vertical-align: top;\n",
       "    }\n",
       "\n",
       "    .dataframe thead th {\n",
       "        text-align: right;\n",
       "    }\n",
       "</style>\n",
       "<table border=\"1\" class=\"dataframe\">\n",
       "  <thead>\n",
       "    <tr style=\"text-align: right;\">\n",
       "      <th></th>\n",
       "      <th>batchid</th>\n",
       "      <th>edp_raw_data</th>\n",
       "      <th>edp_headers</th>\n",
       "      <th>meta_kafka_metadata</th>\n",
       "      <th>eventid</th>\n",
       "      <th>op</th>\n",
       "      <th>edp_updated_date</th>\n",
       "      <th>dms_time_stamp</th>\n",
       "      <th>edp_raw_data_map</th>\n",
       "      <th>_col9</th>\n",
       "      <th>_col10</th>\n",
       "    </tr>\n",
       "  </thead>\n",
       "  <tbody>\n",
       "    <tr>\n",
       "      <th>0</th>\n",
       "      <td>54962</td>\n",
       "      <td>{\"Name\":\"RequestSummaryVoice\",\"Scope\":\"Generat...</td>\n",
       "      <td>{\"/encryption/AES_KMS/encryptedKey\":\"\\u0001\\u0...</td>\n",
       "      <td>[\"platform.ingest.app.home-events\",1,302439086...</td>\n",
       "      <td>497567964</td>\n",
       "      <td>I</td>\n",
       "      <td>2023-09-26</td>\n",
       "      <td>1695771315534</td>\n",
       "      <td>{\"ExtraData_totalTime\":\"3.8022686690001137\",\"_...</td>\n",
       "      <td>3.8022686690001137</td>\n",
       "      <td>349e81b9-01fc-49c4-89e7-6c052ebdf61d</td>\n",
       "    </tr>\n",
       "    <tr>\n",
       "      <th>1</th>\n",
       "      <td>54962</td>\n",
       "      <td>{\"Name\":\"RequestSummaryVoice\",\"Scope\":\"Generat...</td>\n",
       "      <td>{\"/encryption/AES_KMS/encryptedKey\":\"\\u0001\\u0...</td>\n",
       "      <td>[\"platform.ingest.app.home-events\",3,302440269...</td>\n",
       "      <td>1994435431</td>\n",
       "      <td>I</td>\n",
       "      <td>2023-09-26</td>\n",
       "      <td>1695771315787</td>\n",
       "      <td>{\"ExtraData_totalTime\":\"2.7861030620006204\",\"_...</td>\n",
       "      <td>2.7861030620006204</td>\n",
       "      <td>67417a9d-00cd-40c8-b16a-53f7eceff8c8</td>\n",
       "    </tr>\n",
       "    <tr>\n",
       "      <th>2</th>\n",
       "      <td>54962</td>\n",
       "      <td>{\"Name\":\"RequestSummaryVoice\",\"Scope\":\"Generat...</td>\n",
       "      <td>{\"/encryption/AES_KMS/encryptedKey\":\"\\u0001\\u0...</td>\n",
       "      <td>[\"platform.ingest.app.home-events\",3,302443174...</td>\n",
       "      <td>872528317</td>\n",
       "      <td>I</td>\n",
       "      <td>2023-09-26</td>\n",
       "      <td>1695771315826</td>\n",
       "      <td>{\"ExtraData_totalTime\":\"3.334132605999912\",\"_h...</td>\n",
       "      <td>3.334132605999912</td>\n",
       "      <td>2a36c6ec-4134-42c6-aa78-f453b9c202d3</td>\n",
       "    </tr>\n",
       "    <tr>\n",
       "      <th>3</th>\n",
       "      <td>54962</td>\n",
       "      <td>{\"Name\":\"RequestSummaryVoice\",\"Scope\":\"Generat...</td>\n",
       "      <td>{\"/encryption/AES_KMS/encryptedKey\":\"\\u0001\\u0...</td>\n",
       "      <td>[\"platform.ingest.app.home-events\",2,302427564...</td>\n",
       "      <td>-16827371</td>\n",
       "      <td>I</td>\n",
       "      <td>2023-09-26</td>\n",
       "      <td>1695771327382</td>\n",
       "      <td>{\"ExtraData_totalTime\":\"1.994491477000338\",\"_h...</td>\n",
       "      <td>1.994491477000338</td>\n",
       "      <td>0b5af463-5375-433a-9bf2-7f036334a97b</td>\n",
       "    </tr>\n",
       "    <tr>\n",
       "      <th>4</th>\n",
       "      <td>54962</td>\n",
       "      <td>{\"Name\":\"RequestSummaryVoice\",\"Scope\":\"Generat...</td>\n",
       "      <td>{\"/encryption/AES_KMS/encryptedKey\":\"\\u0001\\u0...</td>\n",
       "      <td>[\"platform.ingest.app.home-events\",2,302425264...</td>\n",
       "      <td>810664310</td>\n",
       "      <td>I</td>\n",
       "      <td>2023-09-26</td>\n",
       "      <td>1695771319682</td>\n",
       "      <td>{\"ExtraData_totalTime\":\"3.921798305000266\",\"_h...</td>\n",
       "      <td>3.921798305000266</td>\n",
       "      <td>5708f6d3-32af-42ab-a5df-ac9c8df004b2</td>\n",
       "    </tr>\n",
       "  </tbody>\n",
       "</table>\n",
       "</div>"
      ],
      "text/plain": [
       "   batchid                                       edp_raw_data  \\\n",
       "0    54962  {\"Name\":\"RequestSummaryVoice\",\"Scope\":\"Generat...   \n",
       "1    54962  {\"Name\":\"RequestSummaryVoice\",\"Scope\":\"Generat...   \n",
       "2    54962  {\"Name\":\"RequestSummaryVoice\",\"Scope\":\"Generat...   \n",
       "3    54962  {\"Name\":\"RequestSummaryVoice\",\"Scope\":\"Generat...   \n",
       "4    54962  {\"Name\":\"RequestSummaryVoice\",\"Scope\":\"Generat...   \n",
       "\n",
       "                                         edp_headers  \\\n",
       "0  {\"/encryption/AES_KMS/encryptedKey\":\"\\u0001\\u0...   \n",
       "1  {\"/encryption/AES_KMS/encryptedKey\":\"\\u0001\\u0...   \n",
       "2  {\"/encryption/AES_KMS/encryptedKey\":\"\\u0001\\u0...   \n",
       "3  {\"/encryption/AES_KMS/encryptedKey\":\"\\u0001\\u0...   \n",
       "4  {\"/encryption/AES_KMS/encryptedKey\":\"\\u0001\\u0...   \n",
       "\n",
       "                                 meta_kafka_metadata     eventid op  \\\n",
       "0  [\"platform.ingest.app.home-events\",1,302439086...   497567964  I   \n",
       "1  [\"platform.ingest.app.home-events\",3,302440269...  1994435431  I   \n",
       "2  [\"platform.ingest.app.home-events\",3,302443174...   872528317  I   \n",
       "3  [\"platform.ingest.app.home-events\",2,302427564...   -16827371  I   \n",
       "4  [\"platform.ingest.app.home-events\",2,302425264...   810664310  I   \n",
       "\n",
       "  edp_updated_date  dms_time_stamp  \\\n",
       "0       2023-09-26   1695771315534   \n",
       "1       2023-09-26   1695771315787   \n",
       "2       2023-09-26   1695771315826   \n",
       "3       2023-09-26   1695771327382   \n",
       "4       2023-09-26   1695771319682   \n",
       "\n",
       "                                    edp_raw_data_map               _col9  \\\n",
       "0  {\"ExtraData_totalTime\":\"3.8022686690001137\",\"_...  3.8022686690001137   \n",
       "1  {\"ExtraData_totalTime\":\"2.7861030620006204\",\"_...  2.7861030620006204   \n",
       "2  {\"ExtraData_totalTime\":\"3.334132605999912\",\"_h...   3.334132605999912   \n",
       "3  {\"ExtraData_totalTime\":\"1.994491477000338\",\"_h...   1.994491477000338   \n",
       "4  {\"ExtraData_totalTime\":\"3.921798305000266\",\"_h...   3.921798305000266   \n",
       "\n",
       "                                 _col10  \n",
       "0  349e81b9-01fc-49c4-89e7-6c052ebdf61d  \n",
       "1  67417a9d-00cd-40c8-b16a-53f7eceff8c8  \n",
       "2  2a36c6ec-4134-42c6-aa78-f453b9c202d3  \n",
       "3  0b5af463-5375-433a-9bf2-7f036334a97b  \n",
       "4  5708f6d3-32af-42ab-a5df-ac9c8df004b2  "
      ]
     },
     "metadata": {},
     "output_type": "display_data"
    },
    {
     "data": {
      "text/html": [
       "<div>\n",
       "<style scoped>\n",
       "    .dataframe tbody tr th:only-of-type {\n",
       "        vertical-align: middle;\n",
       "    }\n",
       "\n",
       "    .dataframe tbody tr th {\n",
       "        vertical-align: top;\n",
       "    }\n",
       "\n",
       "    .dataframe thead th {\n",
       "        text-align: right;\n",
       "    }\n",
       "</style>\n",
       "<table border=\"1\" class=\"dataframe\">\n",
       "  <thead>\n",
       "    <tr style=\"text-align: right;\">\n",
       "      <th></th>\n",
       "      <th>ExtraData_totalTime</th>\n",
       "      <th>_header_client</th>\n",
       "      <th>Identities_callSid</th>\n",
       "      <th>MetaData_RequestContext_Host</th>\n",
       "      <th>MetaData_RequestContext_User-Agent</th>\n",
       "      <th>ExtraData_openAITime</th>\n",
       "      <th>Name</th>\n",
       "      <th>_header_eventContext_producer</th>\n",
       "      <th>ExtraData_isLive</th>\n",
       "      <th>_header_category</th>\n",
       "      <th>_header_eventId</th>\n",
       "      <th>MetaData_RequestContext_Accept</th>\n",
       "      <th>_header_domain</th>\n",
       "      <th>_header_schema</th>\n",
       "      <th>EventId</th>\n",
       "      <th>_header_object</th>\n",
       "      <th>ExtraData_agentId</th>\n",
       "      <th>_header_eventContext_category</th>\n",
       "      <th>MetaData_RequestContext_Accept-Encoding</th>\n",
       "      <th>ExtraData_botResponse</th>\n",
       "      <th>_header_eventContext_sourceType</th>\n",
       "      <th>ExtraData_inputMessage</th>\n",
       "      <th>ExtraData_helixTime</th>\n",
       "      <th>_header_eventContext_region</th>\n",
       "      <th>_header_eventContext_ingestionTimestamp</th>\n",
       "      <th>_header_eventContext_endpoint</th>\n",
       "      <th>ExtraData_promptTranscript</th>\n",
       "      <th>_header_source</th>\n",
       "      <th>MetaData_RequestContext_X-Forwarded-For</th>\n",
       "      <th>ExtraData_ozmoTime</th>\n",
       "      <th>ExtraData_Time</th>\n",
       "      <th>MetaData_ServerTime</th>\n",
       "      <th>MetaData_Client</th>\n",
       "      <th>MetaData_RequestContext_X-Forwarded-Proto</th>\n",
       "      <th>ExtraData_endRequestTime</th>\n",
       "      <th>Time</th>\n",
       "      <th>_header_tags</th>\n",
       "      <th>_header_timestamp</th>\n",
       "      <th>ExtraData_transcriptsTime</th>\n",
       "      <th>MetaData__eventType</th>\n",
       "      <th>MetaData_RequestContext_X-Amzn-Trace-Id</th>\n",
       "      <th>MetaData_ProcessorType</th>\n",
       "      <th>ExtraData_totalTokens</th>\n",
       "      <th>MetaData_IsTest</th>\n",
       "      <th>Identities_messageSid</th>\n",
       "      <th>ExtraData_embeddingsTime</th>\n",
       "      <th>ExtraData_startRequestTime</th>\n",
       "      <th>ExtraData_helixNewTime</th>\n",
       "      <th>_header_action</th>\n",
       "      <th>MetaData_RequestContext_Content-Type</th>\n",
       "      <th>Scope</th>\n",
       "      <th>FullName</th>\n",
       "      <th>MetaData_RequestContext_X-Forwarded-Port</th>\n",
       "      <th>_header_eventContext_correlationId</th>\n",
       "      <th>Identities_SessionId</th>\n",
       "      <th>ExtraData_deviceDetectionTime</th>\n",
       "    </tr>\n",
       "  </thead>\n",
       "  <tbody>\n",
       "    <tr>\n",
       "      <th>0</th>\n",
       "      <td>3.8022686690001137</td>\n",
       "      <td>verizon</td>\n",
       "      <td>No_CallSid</td>\n",
       "      <td>ingestion.events.asurion.com</td>\n",
       "      <td>Python/3.10 aiohttp/3.8.5</td>\n",
       "      <td>3.081180687999222</td>\n",
       "      <td>RequestSummaryVoice</td>\n",
       "      <td>eip-ingestion-data-science</td>\n",
       "      <td>true</td>\n",
       "      <td>Analytics</td>\n",
       "      <td>387bd557-69bc-46c2-9d2d-b83d532d45ec</td>\n",
       "      <td>*/*</td>\n",
       "      <td>event</td>\n",
       "      <td>analytics.ingestion.v1</td>\n",
       "      <td>387bd557-69bc-46c2-9d2d-b83d532d45ec</td>\n",
       "      <td>GenerativeAISearchBotVoice</td>\n",
       "      <td>575731</td>\n",
       "      <td>analytics</td>\n",
       "      <td>gzip, deflate</td>\n",
       "      <td>If your network extender is not activating, he...</td>\n",
       "      <td>HTTP</td>\n",
       "      <td>not activating</td>\n",
       "      <td>0.030364360000021406</td>\n",
       "      <td>us-east-1</td>\n",
       "      <td>1695770180092</td>\n",
       "      <td>ingestion</td>\n",
       "      <td>[{\"callSid\":\"No_CallSid\",\"content\":\"step 11 d ...</td>\n",
       "      <td>EDaaS|Eventing|US</td>\n",
       "      <td>34.205.188.78</td>\n",
       "      <td>0</td>\n",
       "      <td>2023-09-26T23:16:20.092Z</td>\n",
       "      <td>2023-09-26T23:16:20.100328458Z</td>\n",
       "      <td>verizon</td>\n",
       "      <td>https</td>\n",
       "      <td>2023-09-26 18:16:20.053577</td>\n",
       "      <td>2023-09-26T23:16:20.092Z</td>\n",
       "      <td>[]</td>\n",
       "      <td>1695770180100</td>\n",
       "      <td>0.05530893299874151</td>\n",
       "      <td>event</td>\n",
       "      <td>Root=1-65136644-7063bf0816eefcf41c144323</td>\n",
       "      <td>EIP</td>\n",
       "      <td>1729</td>\n",
       "      <td>false</td>\n",
       "      <td>349e81b9-01fc-49c4-89e7-6c052ebdf61d</td>\n",
       "      <td>0.48574388599990925</td>\n",
       "      <td>2023-09-26 18:16:16.238988</td>\n",
       "      <td>0.06988517699937802</td>\n",
       "      <td>created</td>\n",
       "      <td>application/json</td>\n",
       "      <td>GenerativeAISearchBotVoice</td>\n",
       "      <td>GenerativeAISearchBotVoice_RequestSummaryVoice</td>\n",
       "      <td>443</td>\n",
       "      <td>220d2d60-ced3-4921-9b3f-3428c0d0a0c2</td>\n",
       "      <td>b2dc7364-4dbd-45a8-a1b8-e9ee5483ef81</td>\n",
       "      <td>0.000260409999100375</td>\n",
       "    </tr>\n",
       "    <tr>\n",
       "      <th>1</th>\n",
       "      <td>2.7861030620006204</td>\n",
       "      <td>verizon</td>\n",
       "      <td>No_CallSid</td>\n",
       "      <td>ingestion.events.asurion.com</td>\n",
       "      <td>Python/3.10 aiohttp/3.8.5</td>\n",
       "      <td>2.079903544999979</td>\n",
       "      <td>RequestSummaryVoice</td>\n",
       "      <td>eip-ingestion-data-science</td>\n",
       "      <td>true</td>\n",
       "      <td>Analytics</td>\n",
       "      <td>7d96c350-08f9-4f3c-a09e-627866db9796</td>\n",
       "      <td>*/*</td>\n",
       "      <td>event</td>\n",
       "      <td>analytics.ingestion.v1</td>\n",
       "      <td>7d96c350-08f9-4f3c-a09e-627866db9796</td>\n",
       "      <td>GenerativeAISearchBotVoice</td>\n",
       "      <td>573192</td>\n",
       "      <td>analytics</td>\n",
       "      <td>gzip, deflate</td>\n",
       "      <td>Okay, let's try resetting the network settings...</td>\n",
       "      <td>HTTP</td>\n",
       "      <td>yes</td>\n",
       "      <td>0.03296359299929463</td>\n",
       "      <td>us-east-2</td>\n",
       "      <td>1695768471287</td>\n",
       "      <td>ingestion</td>\n",
       "      <td>[{\"callSid\":\"No_CallSid\",\"content\":\"galaxy s23...</td>\n",
       "      <td>EDaaS|Eventing|US</td>\n",
       "      <td>34.203.46.168</td>\n",
       "      <td>0</td>\n",
       "      <td>2023-09-26T22:47:51.287Z</td>\n",
       "      <td>2023-09-26T22:47:51.304571439Z</td>\n",
       "      <td>verizon</td>\n",
       "      <td>https</td>\n",
       "      <td>2023-09-26 17:47:51.246594</td>\n",
       "      <td>2023-09-26T22:47:51.287Z</td>\n",
       "      <td>[]</td>\n",
       "      <td>1695768471304</td>\n",
       "      <td>0.04840254800001276</td>\n",
       "      <td>event</td>\n",
       "      <td>Root=1-65135f97-660ade4660f07b111de0922c</td>\n",
       "      <td>EIP</td>\n",
       "      <td>1711</td>\n",
       "      <td>false</td>\n",
       "      <td>67417a9d-00cd-40c8-b16a-53f7eceff8c8</td>\n",
       "      <td>0.4644443269990006</td>\n",
       "      <td>2023-09-26 17:47:48.447687</td>\n",
       "      <td>0.04149109399986628</td>\n",
       "      <td>created</td>\n",
       "      <td>application/json</td>\n",
       "      <td>GenerativeAISearchBotVoice</td>\n",
       "      <td>GenerativeAISearchBotVoice_RequestSummaryVoice</td>\n",
       "      <td>443</td>\n",
       "      <td>1c6bee25-9f72-40dc-8846-a0e08184e8f3</td>\n",
       "      <td>79876eba-fcfe-4747-b475-d863689f6333</td>\n",
       "      <td>0.004443159999937052</td>\n",
       "    </tr>\n",
       "    <tr>\n",
       "      <th>2</th>\n",
       "      <td>3.334132605999912</td>\n",
       "      <td>verizon</td>\n",
       "      <td>No_CallSid</td>\n",
       "      <td>ingestion.events.asurion.com</td>\n",
       "      <td>Python/3.10 aiohttp/3.8.5</td>\n",
       "      <td>2.4827243970012205</td>\n",
       "      <td>RequestSummaryVoice</td>\n",
       "      <td>eip-ingestion-data-science</td>\n",
       "      <td>true</td>\n",
       "      <td>Analytics</td>\n",
       "      <td>7fb24bb3-b5df-47ac-b2b9-dc3c3cf17355</td>\n",
       "      <td>*/*</td>\n",
       "      <td>event</td>\n",
       "      <td>analytics.ingestion.v1</td>\n",
       "      <td>7fb24bb3-b5df-47ac-b2b9-dc3c3cf17355</td>\n",
       "      <td>GenerativeAISearchBotVoice</td>\n",
       "      <td>573192</td>\n",
       "      <td>analytics</td>\n",
       "      <td>gzip, deflate</td>\n",
       "      <td>I'm sorry to hear that the previous solution d...</td>\n",
       "      <td>HTTP</td>\n",
       "      <td>didnt work</td>\n",
       "      <td>0.03825017400049546</td>\n",
       "      <td>us-east-2</td>\n",
       "      <td>1695768880438</td>\n",
       "      <td>ingestion</td>\n",
       "      <td>[{\"callSid\":\"No_CallSid\",\"content\":\"Galaxy s23...</td>\n",
       "      <td>EDaaS|Eventing|US</td>\n",
       "      <td>34.203.46.168</td>\n",
       "      <td>0</td>\n",
       "      <td>2023-09-26T22:54:40.438Z</td>\n",
       "      <td>2023-09-26T22:54:40.450029970Z</td>\n",
       "      <td>verizon</td>\n",
       "      <td>https</td>\n",
       "      <td>2023-09-26 17:54:40.386673</td>\n",
       "      <td>2023-09-26T22:54:40.438Z</td>\n",
       "      <td>[]</td>\n",
       "      <td>1695768880450</td>\n",
       "      <td>0.11415497899906768</td>\n",
       "      <td>event</td>\n",
       "      <td>Root=1-65136130-3be3b7be7815fc2c493b248f</td>\n",
       "      <td>EIP</td>\n",
       "      <td>1777</td>\n",
       "      <td>false</td>\n",
       "      <td>2a36c6ec-4134-42c6-aa78-f453b9c202d3</td>\n",
       "      <td>0.5510034550006822</td>\n",
       "      <td>2023-09-26 17:54:37.039836</td>\n",
       "      <td>0.07380995499988785</td>\n",
       "      <td>created</td>\n",
       "      <td>application/json</td>\n",
       "      <td>GenerativeAISearchBotVoice</td>\n",
       "      <td>GenerativeAISearchBotVoice_RequestSummaryVoice</td>\n",
       "      <td>443</td>\n",
       "      <td>7e3e254a-dca1-47f6-87c6-8e89271227c6</td>\n",
       "      <td>69ee8dc9-c717-4c2b-9a89-5c0bee5ff9d8</td>\n",
       "      <td>0.004538922999927308</td>\n",
       "    </tr>\n",
       "    <tr>\n",
       "      <th>3</th>\n",
       "      <td>1.994491477000338</td>\n",
       "      <td>verizon</td>\n",
       "      <td>No_CallSid</td>\n",
       "      <td>ingestion.events.asurion.com</td>\n",
       "      <td>Python/3.10 aiohttp/3.8.5</td>\n",
       "      <td>1.161403453001185</td>\n",
       "      <td>RequestSummaryVoice</td>\n",
       "      <td>eip-ingestion-data-science</td>\n",
       "      <td>true</td>\n",
       "      <td>Analytics</td>\n",
       "      <td>6dc7edb1-1036-40f0-8800-c9c14aa09044</td>\n",
       "      <td>*/*</td>\n",
       "      <td>event</td>\n",
       "      <td>analytics.ingestion.v1</td>\n",
       "      <td>6dc7edb1-1036-40f0-8800-c9c14aa09044</td>\n",
       "      <td>GenerativeAISearchBotVoice</td>\n",
       "      <td>426097</td>\n",
       "      <td>analytics</td>\n",
       "      <td>gzip, deflate</td>\n",
       "      <td>For the iPhone 12 trade-in promotion, the cust...</td>\n",
       "      <td>HTTP</td>\n",
       "      <td>iphone 12</td>\n",
       "      <td>0.04198042399912083</td>\n",
       "      <td>us-east-2</td>\n",
       "      <td>1695768714746</td>\n",
       "      <td>ingestion</td>\n",
       "      <td>[{\"callSid\":\"No_CallSid\",\"content\":\"how long d...</td>\n",
       "      <td>EDaaS|Eventing|US</td>\n",
       "      <td>34.203.46.168</td>\n",
       "      <td>0</td>\n",
       "      <td>2023-09-26T22:51:54.746Z</td>\n",
       "      <td>2023-09-26T22:51:54.757917332Z</td>\n",
       "      <td>verizon</td>\n",
       "      <td>https</td>\n",
       "      <td>2023-09-26 17:51:54.701721</td>\n",
       "      <td>2023-09-26T22:51:54.746Z</td>\n",
       "      <td>[]</td>\n",
       "      <td>1695768714757</td>\n",
       "      <td>0.052259408999816515</td>\n",
       "      <td>event</td>\n",
       "      <td>Root=1-6513608a-6ea2b3296d1c4bdb47bbfaed</td>\n",
       "      <td>EIP</td>\n",
       "      <td>1515</td>\n",
       "      <td>false</td>\n",
       "      <td>0b5af463-5375-433a-9bf2-7f036334a97b</td>\n",
       "      <td>0.5767025780005497</td>\n",
       "      <td>2023-09-26 17:51:52.694149</td>\n",
       "      <td>0.06722075499965285</td>\n",
       "      <td>created</td>\n",
       "      <td>application/json</td>\n",
       "      <td>GenerativeAISearchBotVoice</td>\n",
       "      <td>GenerativeAISearchBotVoice_RequestSummaryVoice</td>\n",
       "      <td>443</td>\n",
       "      <td>f19fea0b-9335-49d0-8b81-0ff0009e8213</td>\n",
       "      <td>6ff051b7-e887-446c-aee9-cf28a69ea367</td>\n",
       "      <td>0.0001445400012016762</td>\n",
       "    </tr>\n",
       "    <tr>\n",
       "      <th>4</th>\n",
       "      <td>3.921798305000266</td>\n",
       "      <td>verizon</td>\n",
       "      <td>No_CallSid</td>\n",
       "      <td>ingestion.events.asurion.com</td>\n",
       "      <td>Python/3.10 aiohttp/3.8.5</td>\n",
       "      <td>2.738929796998491</td>\n",
       "      <td>RequestSummaryVoice</td>\n",
       "      <td>eip-ingestion-data-science</td>\n",
       "      <td>true</td>\n",
       "      <td>Analytics</td>\n",
       "      <td>d094bce2-b8d7-4e3d-b0e8-22a760a8139a</td>\n",
       "      <td>*/*</td>\n",
       "      <td>event</td>\n",
       "      <td>analytics.ingestion.v1</td>\n",
       "      <td>d094bce2-b8d7-4e3d-b0e8-22a760a8139a</td>\n",
       "      <td>GenerativeAISearchBotVoice</td>\n",
       "      <td>569375</td>\n",
       "      <td>analytics</td>\n",
       "      <td>gzip, deflate</td>\n",
       "      <td>To disable voicemail on your Verizon phone, yo...</td>\n",
       "      <td>HTTP</td>\n",
       "      <td>disable voicemail</td>\n",
       "      <td>0.032008490999942296</td>\n",
       "      <td>us-east-1</td>\n",
       "      <td>1695768347399</td>\n",
       "      <td>ingestion</td>\n",
       "      <td>[{\"callSid\":\"No_CallSid\",\"content\":\"blocking v...</td>\n",
       "      <td>EDaaS|Eventing|US</td>\n",
       "      <td>34.203.46.168</td>\n",
       "      <td>0</td>\n",
       "      <td>2023-09-26T22:45:47.399Z</td>\n",
       "      <td>2023-09-26T22:45:47.408633711Z</td>\n",
       "      <td>verizon</td>\n",
       "      <td>https</td>\n",
       "      <td>2023-09-26 17:45:47.365616</td>\n",
       "      <td>2023-09-26T22:45:47.399Z</td>\n",
       "      <td>[]</td>\n",
       "      <td>1695768347408</td>\n",
       "      <td>0.06252433100053167</td>\n",
       "      <td>event</td>\n",
       "      <td>Root=1-65135f1b-70ad3d406a4f741e0cdb71e4</td>\n",
       "      <td>EIP</td>\n",
       "      <td>1726</td>\n",
       "      <td>false</td>\n",
       "      <td>5708f6d3-32af-42ab-a5df-ac9c8df004b2</td>\n",
       "      <td>0.9288417700008722</td>\n",
       "      <td>2023-09-26 17:45:43.425614</td>\n",
       "      <td>0.07013455399828672</td>\n",
       "      <td>created</td>\n",
       "      <td>application/json</td>\n",
       "      <td>GenerativeAISearchBotVoice</td>\n",
       "      <td>GenerativeAISearchBotVoice_RequestSummaryVoice</td>\n",
       "      <td>443</td>\n",
       "      <td>9ec17995-a80b-4867-8718-756931ed16e5</td>\n",
       "      <td>cef87902-1bf4-4757-8b14-fb65e5150e95</td>\n",
       "      <td>0.0002552880014263792</td>\n",
       "    </tr>\n",
       "  </tbody>\n",
       "</table>\n",
       "</div>"
      ],
      "text/plain": [
       "  ExtraData_totalTime _header_client Identities_callSid  \\\n",
       "0  3.8022686690001137        verizon         No_CallSid   \n",
       "1  2.7861030620006204        verizon         No_CallSid   \n",
       "2   3.334132605999912        verizon         No_CallSid   \n",
       "3   1.994491477000338        verizon         No_CallSid   \n",
       "4   3.921798305000266        verizon         No_CallSid   \n",
       "\n",
       "   MetaData_RequestContext_Host MetaData_RequestContext_User-Agent  \\\n",
       "0  ingestion.events.asurion.com          Python/3.10 aiohttp/3.8.5   \n",
       "1  ingestion.events.asurion.com          Python/3.10 aiohttp/3.8.5   \n",
       "2  ingestion.events.asurion.com          Python/3.10 aiohttp/3.8.5   \n",
       "3  ingestion.events.asurion.com          Python/3.10 aiohttp/3.8.5   \n",
       "4  ingestion.events.asurion.com          Python/3.10 aiohttp/3.8.5   \n",
       "\n",
       "  ExtraData_openAITime                 Name _header_eventContext_producer  \\\n",
       "0    3.081180687999222  RequestSummaryVoice    eip-ingestion-data-science   \n",
       "1    2.079903544999979  RequestSummaryVoice    eip-ingestion-data-science   \n",
       "2   2.4827243970012205  RequestSummaryVoice    eip-ingestion-data-science   \n",
       "3    1.161403453001185  RequestSummaryVoice    eip-ingestion-data-science   \n",
       "4    2.738929796998491  RequestSummaryVoice    eip-ingestion-data-science   \n",
       "\n",
       "  ExtraData_isLive _header_category                       _header_eventId  \\\n",
       "0             true        Analytics  387bd557-69bc-46c2-9d2d-b83d532d45ec   \n",
       "1             true        Analytics  7d96c350-08f9-4f3c-a09e-627866db9796   \n",
       "2             true        Analytics  7fb24bb3-b5df-47ac-b2b9-dc3c3cf17355   \n",
       "3             true        Analytics  6dc7edb1-1036-40f0-8800-c9c14aa09044   \n",
       "4             true        Analytics  d094bce2-b8d7-4e3d-b0e8-22a760a8139a   \n",
       "\n",
       "  MetaData_RequestContext_Accept _header_domain          _header_schema  \\\n",
       "0                            */*          event  analytics.ingestion.v1   \n",
       "1                            */*          event  analytics.ingestion.v1   \n",
       "2                            */*          event  analytics.ingestion.v1   \n",
       "3                            */*          event  analytics.ingestion.v1   \n",
       "4                            */*          event  analytics.ingestion.v1   \n",
       "\n",
       "                                EventId              _header_object  \\\n",
       "0  387bd557-69bc-46c2-9d2d-b83d532d45ec  GenerativeAISearchBotVoice   \n",
       "1  7d96c350-08f9-4f3c-a09e-627866db9796  GenerativeAISearchBotVoice   \n",
       "2  7fb24bb3-b5df-47ac-b2b9-dc3c3cf17355  GenerativeAISearchBotVoice   \n",
       "3  6dc7edb1-1036-40f0-8800-c9c14aa09044  GenerativeAISearchBotVoice   \n",
       "4  d094bce2-b8d7-4e3d-b0e8-22a760a8139a  GenerativeAISearchBotVoice   \n",
       "\n",
       "  ExtraData_agentId _header_eventContext_category  \\\n",
       "0            575731                     analytics   \n",
       "1            573192                     analytics   \n",
       "2            573192                     analytics   \n",
       "3            426097                     analytics   \n",
       "4            569375                     analytics   \n",
       "\n",
       "  MetaData_RequestContext_Accept-Encoding  \\\n",
       "0                           gzip, deflate   \n",
       "1                           gzip, deflate   \n",
       "2                           gzip, deflate   \n",
       "3                           gzip, deflate   \n",
       "4                           gzip, deflate   \n",
       "\n",
       "                               ExtraData_botResponse  \\\n",
       "0  If your network extender is not activating, he...   \n",
       "1  Okay, let's try resetting the network settings...   \n",
       "2  I'm sorry to hear that the previous solution d...   \n",
       "3  For the iPhone 12 trade-in promotion, the cust...   \n",
       "4  To disable voicemail on your Verizon phone, yo...   \n",
       "\n",
       "  _header_eventContext_sourceType ExtraData_inputMessage  \\\n",
       "0                            HTTP         not activating   \n",
       "1                            HTTP                    yes   \n",
       "2                            HTTP             didnt work   \n",
       "3                            HTTP              iphone 12   \n",
       "4                            HTTP      disable voicemail   \n",
       "\n",
       "    ExtraData_helixTime _header_eventContext_region  \\\n",
       "0  0.030364360000021406                   us-east-1   \n",
       "1   0.03296359299929463                   us-east-2   \n",
       "2   0.03825017400049546                   us-east-2   \n",
       "3   0.04198042399912083                   us-east-2   \n",
       "4  0.032008490999942296                   us-east-1   \n",
       "\n",
       "  _header_eventContext_ingestionTimestamp _header_eventContext_endpoint  \\\n",
       "0                           1695770180092                     ingestion   \n",
       "1                           1695768471287                     ingestion   \n",
       "2                           1695768880438                     ingestion   \n",
       "3                           1695768714746                     ingestion   \n",
       "4                           1695768347399                     ingestion   \n",
       "\n",
       "                          ExtraData_promptTranscript     _header_source  \\\n",
       "0  [{\"callSid\":\"No_CallSid\",\"content\":\"step 11 d ...  EDaaS|Eventing|US   \n",
       "1  [{\"callSid\":\"No_CallSid\",\"content\":\"galaxy s23...  EDaaS|Eventing|US   \n",
       "2  [{\"callSid\":\"No_CallSid\",\"content\":\"Galaxy s23...  EDaaS|Eventing|US   \n",
       "3  [{\"callSid\":\"No_CallSid\",\"content\":\"how long d...  EDaaS|Eventing|US   \n",
       "4  [{\"callSid\":\"No_CallSid\",\"content\":\"blocking v...  EDaaS|Eventing|US   \n",
       "\n",
       "  MetaData_RequestContext_X-Forwarded-For ExtraData_ozmoTime  \\\n",
       "0                           34.205.188.78                  0   \n",
       "1                           34.203.46.168                  0   \n",
       "2                           34.203.46.168                  0   \n",
       "3                           34.203.46.168                  0   \n",
       "4                           34.203.46.168                  0   \n",
       "\n",
       "             ExtraData_Time             MetaData_ServerTime MetaData_Client  \\\n",
       "0  2023-09-26T23:16:20.092Z  2023-09-26T23:16:20.100328458Z         verizon   \n",
       "1  2023-09-26T22:47:51.287Z  2023-09-26T22:47:51.304571439Z         verizon   \n",
       "2  2023-09-26T22:54:40.438Z  2023-09-26T22:54:40.450029970Z         verizon   \n",
       "3  2023-09-26T22:51:54.746Z  2023-09-26T22:51:54.757917332Z         verizon   \n",
       "4  2023-09-26T22:45:47.399Z  2023-09-26T22:45:47.408633711Z         verizon   \n",
       "\n",
       "  MetaData_RequestContext_X-Forwarded-Proto    ExtraData_endRequestTime  \\\n",
       "0                                     https  2023-09-26 18:16:20.053577   \n",
       "1                                     https  2023-09-26 17:47:51.246594   \n",
       "2                                     https  2023-09-26 17:54:40.386673   \n",
       "3                                     https  2023-09-26 17:51:54.701721   \n",
       "4                                     https  2023-09-26 17:45:47.365616   \n",
       "\n",
       "                       Time _header_tags _header_timestamp  \\\n",
       "0  2023-09-26T23:16:20.092Z           []     1695770180100   \n",
       "1  2023-09-26T22:47:51.287Z           []     1695768471304   \n",
       "2  2023-09-26T22:54:40.438Z           []     1695768880450   \n",
       "3  2023-09-26T22:51:54.746Z           []     1695768714757   \n",
       "4  2023-09-26T22:45:47.399Z           []     1695768347408   \n",
       "\n",
       "  ExtraData_transcriptsTime MetaData__eventType  \\\n",
       "0       0.05530893299874151               event   \n",
       "1       0.04840254800001276               event   \n",
       "2       0.11415497899906768               event   \n",
       "3      0.052259408999816515               event   \n",
       "4       0.06252433100053167               event   \n",
       "\n",
       "    MetaData_RequestContext_X-Amzn-Trace-Id MetaData_ProcessorType  \\\n",
       "0  Root=1-65136644-7063bf0816eefcf41c144323                    EIP   \n",
       "1  Root=1-65135f97-660ade4660f07b111de0922c                    EIP   \n",
       "2  Root=1-65136130-3be3b7be7815fc2c493b248f                    EIP   \n",
       "3  Root=1-6513608a-6ea2b3296d1c4bdb47bbfaed                    EIP   \n",
       "4  Root=1-65135f1b-70ad3d406a4f741e0cdb71e4                    EIP   \n",
       "\n",
       "  ExtraData_totalTokens MetaData_IsTest                 Identities_messageSid  \\\n",
       "0                  1729           false  349e81b9-01fc-49c4-89e7-6c052ebdf61d   \n",
       "1                  1711           false  67417a9d-00cd-40c8-b16a-53f7eceff8c8   \n",
       "2                  1777           false  2a36c6ec-4134-42c6-aa78-f453b9c202d3   \n",
       "3                  1515           false  0b5af463-5375-433a-9bf2-7f036334a97b   \n",
       "4                  1726           false  5708f6d3-32af-42ab-a5df-ac9c8df004b2   \n",
       "\n",
       "  ExtraData_embeddingsTime  ExtraData_startRequestTime ExtraData_helixNewTime  \\\n",
       "0      0.48574388599990925  2023-09-26 18:16:16.238988    0.06988517699937802   \n",
       "1       0.4644443269990006  2023-09-26 17:47:48.447687    0.04149109399986628   \n",
       "2       0.5510034550006822  2023-09-26 17:54:37.039836    0.07380995499988785   \n",
       "3       0.5767025780005497  2023-09-26 17:51:52.694149    0.06722075499965285   \n",
       "4       0.9288417700008722  2023-09-26 17:45:43.425614    0.07013455399828672   \n",
       "\n",
       "  _header_action MetaData_RequestContext_Content-Type  \\\n",
       "0        created                     application/json   \n",
       "1        created                     application/json   \n",
       "2        created                     application/json   \n",
       "3        created                     application/json   \n",
       "4        created                     application/json   \n",
       "\n",
       "                        Scope                                        FullName  \\\n",
       "0  GenerativeAISearchBotVoice  GenerativeAISearchBotVoice_RequestSummaryVoice   \n",
       "1  GenerativeAISearchBotVoice  GenerativeAISearchBotVoice_RequestSummaryVoice   \n",
       "2  GenerativeAISearchBotVoice  GenerativeAISearchBotVoice_RequestSummaryVoice   \n",
       "3  GenerativeAISearchBotVoice  GenerativeAISearchBotVoice_RequestSummaryVoice   \n",
       "4  GenerativeAISearchBotVoice  GenerativeAISearchBotVoice_RequestSummaryVoice   \n",
       "\n",
       "  MetaData_RequestContext_X-Forwarded-Port  \\\n",
       "0                                      443   \n",
       "1                                      443   \n",
       "2                                      443   \n",
       "3                                      443   \n",
       "4                                      443   \n",
       "\n",
       "     _header_eventContext_correlationId                  Identities_SessionId  \\\n",
       "0  220d2d60-ced3-4921-9b3f-3428c0d0a0c2  b2dc7364-4dbd-45a8-a1b8-e9ee5483ef81   \n",
       "1  1c6bee25-9f72-40dc-8846-a0e08184e8f3  79876eba-fcfe-4747-b475-d863689f6333   \n",
       "2  7e3e254a-dca1-47f6-87c6-8e89271227c6  69ee8dc9-c717-4c2b-9a89-5c0bee5ff9d8   \n",
       "3  f19fea0b-9335-49d0-8b81-0ff0009e8213  6ff051b7-e887-446c-aee9-cf28a69ea367   \n",
       "4  9ec17995-a80b-4867-8718-756931ed16e5  cef87902-1bf4-4757-8b14-fb65e5150e95   \n",
       "\n",
       "  ExtraData_deviceDetectionTime  \n",
       "0          0.000260409999100375  \n",
       "1          0.004443159999937052  \n",
       "2          0.004538922999927308  \n",
       "3         0.0001445400012016762  \n",
       "4         0.0002552880014263792  "
      ]
     },
     "metadata": {},
     "output_type": "display_data"
    },
    {
     "data": {
      "text/html": [
       "<div>\n",
       "<style scoped>\n",
       "    .dataframe tbody tr th:only-of-type {\n",
       "        vertical-align: middle;\n",
       "    }\n",
       "\n",
       "    .dataframe tbody tr th {\n",
       "        vertical-align: top;\n",
       "    }\n",
       "\n",
       "    .dataframe thead th {\n",
       "        text-align: right;\n",
       "    }\n",
       "</style>\n",
       "<table border=\"1\" class=\"dataframe\">\n",
       "  <thead>\n",
       "    <tr style=\"text-align: right;\">\n",
       "      <th></th>\n",
       "      <th>ExtraData_totalTime</th>\n",
       "    </tr>\n",
       "  </thead>\n",
       "  <tbody>\n",
       "    <tr>\n",
       "      <th>0</th>\n",
       "      <td>3.8022686690001137</td>\n",
       "    </tr>\n",
       "    <tr>\n",
       "      <th>1</th>\n",
       "      <td>2.7861030620006204</td>\n",
       "    </tr>\n",
       "    <tr>\n",
       "      <th>2</th>\n",
       "      <td>3.334132605999912</td>\n",
       "    </tr>\n",
       "    <tr>\n",
       "      <th>3</th>\n",
       "      <td>1.994491477000338</td>\n",
       "    </tr>\n",
       "    <tr>\n",
       "      <th>4</th>\n",
       "      <td>3.921798305000266</td>\n",
       "    </tr>\n",
       "  </tbody>\n",
       "</table>\n",
       "</div>"
      ],
      "text/plain": [
       "  ExtraData_totalTime\n",
       "0  3.8022686690001137\n",
       "1  2.7861030620006204\n",
       "2   3.334132605999912\n",
       "3   1.994491477000338\n",
       "4   3.921798305000266"
      ]
     },
     "metadata": {},
     "output_type": "display_data"
    },
    {
     "data": {
      "text/html": [
       "<div>\n",
       "<style scoped>\n",
       "    .dataframe tbody tr th:only-of-type {\n",
       "        vertical-align: middle;\n",
       "    }\n",
       "\n",
       "    .dataframe tbody tr th {\n",
       "        vertical-align: top;\n",
       "    }\n",
       "\n",
       "    .dataframe thead th {\n",
       "        text-align: right;\n",
       "    }\n",
       "</style>\n",
       "<table border=\"1\" class=\"dataframe\">\n",
       "  <thead>\n",
       "    <tr style=\"text-align: right;\">\n",
       "      <th></th>\n",
       "      <th>ExtraData_totalTime</th>\n",
       "      <th>_header_client</th>\n",
       "      <th>Identities_callSid</th>\n",
       "      <th>MetaData_RequestContext_Host</th>\n",
       "      <th>MetaData_RequestContext_User-Agent</th>\n",
       "      <th>ExtraData_openAITime</th>\n",
       "      <th>Name</th>\n",
       "      <th>_header_eventContext_producer</th>\n",
       "      <th>ExtraData_isLive</th>\n",
       "      <th>_header_category</th>\n",
       "      <th>_header_eventId</th>\n",
       "      <th>MetaData_RequestContext_Accept</th>\n",
       "      <th>_header_domain</th>\n",
       "      <th>_header_schema</th>\n",
       "      <th>EventId</th>\n",
       "      <th>_header_object</th>\n",
       "      <th>ExtraData_agentId</th>\n",
       "      <th>_header_eventContext_category</th>\n",
       "      <th>MetaData_RequestContext_Accept-Encoding</th>\n",
       "      <th>ExtraData_botResponse</th>\n",
       "      <th>_header_eventContext_sourceType</th>\n",
       "      <th>ExtraData_inputMessage</th>\n",
       "      <th>ExtraData_helixTime</th>\n",
       "      <th>_header_eventContext_region</th>\n",
       "      <th>_header_eventContext_ingestionTimestamp</th>\n",
       "      <th>_header_eventContext_endpoint</th>\n",
       "      <th>ExtraData_promptTranscript</th>\n",
       "      <th>_header_source</th>\n",
       "      <th>MetaData_RequestContext_X-Forwarded-For</th>\n",
       "      <th>ExtraData_ozmoTime</th>\n",
       "      <th>ExtraData_Time</th>\n",
       "      <th>MetaData_ServerTime</th>\n",
       "      <th>MetaData_Client</th>\n",
       "      <th>MetaData_RequestContext_X-Forwarded-Proto</th>\n",
       "      <th>ExtraData_endRequestTime</th>\n",
       "      <th>Time</th>\n",
       "      <th>_header_tags</th>\n",
       "      <th>_header_timestamp</th>\n",
       "      <th>ExtraData_transcriptsTime</th>\n",
       "      <th>MetaData__eventType</th>\n",
       "      <th>MetaData_RequestContext_X-Amzn-Trace-Id</th>\n",
       "      <th>MetaData_ProcessorType</th>\n",
       "      <th>ExtraData_totalTokens</th>\n",
       "      <th>MetaData_IsTest</th>\n",
       "      <th>Identities_messageSid</th>\n",
       "      <th>ExtraData_embeddingsTime</th>\n",
       "      <th>ExtraData_startRequestTime</th>\n",
       "      <th>ExtraData_helixNewTime</th>\n",
       "      <th>_header_action</th>\n",
       "      <th>MetaData_RequestContext_Content-Type</th>\n",
       "      <th>Scope</th>\n",
       "      <th>FullName</th>\n",
       "      <th>MetaData_RequestContext_X-Forwarded-Port</th>\n",
       "      <th>_header_eventContext_correlationId</th>\n",
       "      <th>Identities_SessionId</th>\n",
       "      <th>ExtraData_deviceDetectionTime</th>\n",
       "    </tr>\n",
       "  </thead>\n",
       "  <tbody>\n",
       "    <tr>\n",
       "      <th>0</th>\n",
       "      <td>3.8022686690001137</td>\n",
       "      <td>verizon</td>\n",
       "      <td>No_CallSid</td>\n",
       "      <td>ingestion.events.asurion.com</td>\n",
       "      <td>Python/3.10 aiohttp/3.8.5</td>\n",
       "      <td>3.081180687999222</td>\n",
       "      <td>RequestSummaryVoice</td>\n",
       "      <td>eip-ingestion-data-science</td>\n",
       "      <td>true</td>\n",
       "      <td>Analytics</td>\n",
       "      <td>387bd557-69bc-46c2-9d2d-b83d532d45ec</td>\n",
       "      <td>*/*</td>\n",
       "      <td>event</td>\n",
       "      <td>analytics.ingestion.v1</td>\n",
       "      <td>387bd557-69bc-46c2-9d2d-b83d532d45ec</td>\n",
       "      <td>GenerativeAISearchBotVoice</td>\n",
       "      <td>575731</td>\n",
       "      <td>analytics</td>\n",
       "      <td>gzip, deflate</td>\n",
       "      <td>If your network extender is not activating, he...</td>\n",
       "      <td>HTTP</td>\n",
       "      <td>not activating</td>\n",
       "      <td>0.030364360000021406</td>\n",
       "      <td>us-east-1</td>\n",
       "      <td>1695770180092</td>\n",
       "      <td>ingestion</td>\n",
       "      <td>[{\"callSid\":\"No_CallSid\",\"content\":\"step 11 d ...</td>\n",
       "      <td>EDaaS|Eventing|US</td>\n",
       "      <td>34.205.188.78</td>\n",
       "      <td>0</td>\n",
       "      <td>2023-09-26T23:16:20.092Z</td>\n",
       "      <td>2023-09-26T23:16:20.100328458Z</td>\n",
       "      <td>verizon</td>\n",
       "      <td>https</td>\n",
       "      <td>2023-09-26 18:16:20.053577</td>\n",
       "      <td>2023-09-26T23:16:20.092Z</td>\n",
       "      <td>[]</td>\n",
       "      <td>1695770180100</td>\n",
       "      <td>0.05530893299874151</td>\n",
       "      <td>event</td>\n",
       "      <td>Root=1-65136644-7063bf0816eefcf41c144323</td>\n",
       "      <td>EIP</td>\n",
       "      <td>1729</td>\n",
       "      <td>false</td>\n",
       "      <td>349e81b9-01fc-49c4-89e7-6c052ebdf61d</td>\n",
       "      <td>0.48574388599990925</td>\n",
       "      <td>2023-09-26 18:16:16.238988</td>\n",
       "      <td>0.06988517699937802</td>\n",
       "      <td>created</td>\n",
       "      <td>application/json</td>\n",
       "      <td>GenerativeAISearchBotVoice</td>\n",
       "      <td>GenerativeAISearchBotVoice_RequestSummaryVoice</td>\n",
       "      <td>443</td>\n",
       "      <td>220d2d60-ced3-4921-9b3f-3428c0d0a0c2</td>\n",
       "      <td>b2dc7364-4dbd-45a8-a1b8-e9ee5483ef81</td>\n",
       "      <td>0.000260409999100375</td>\n",
       "    </tr>\n",
       "    <tr>\n",
       "      <th>1</th>\n",
       "      <td>2.7861030620006204</td>\n",
       "      <td>verizon</td>\n",
       "      <td>No_CallSid</td>\n",
       "      <td>ingestion.events.asurion.com</td>\n",
       "      <td>Python/3.10 aiohttp/3.8.5</td>\n",
       "      <td>2.079903544999979</td>\n",
       "      <td>RequestSummaryVoice</td>\n",
       "      <td>eip-ingestion-data-science</td>\n",
       "      <td>true</td>\n",
       "      <td>Analytics</td>\n",
       "      <td>7d96c350-08f9-4f3c-a09e-627866db9796</td>\n",
       "      <td>*/*</td>\n",
       "      <td>event</td>\n",
       "      <td>analytics.ingestion.v1</td>\n",
       "      <td>7d96c350-08f9-4f3c-a09e-627866db9796</td>\n",
       "      <td>GenerativeAISearchBotVoice</td>\n",
       "      <td>573192</td>\n",
       "      <td>analytics</td>\n",
       "      <td>gzip, deflate</td>\n",
       "      <td>Okay, let's try resetting the network settings...</td>\n",
       "      <td>HTTP</td>\n",
       "      <td>yes</td>\n",
       "      <td>0.03296359299929463</td>\n",
       "      <td>us-east-2</td>\n",
       "      <td>1695768471287</td>\n",
       "      <td>ingestion</td>\n",
       "      <td>[{\"callSid\":\"No_CallSid\",\"content\":\"galaxy s23...</td>\n",
       "      <td>EDaaS|Eventing|US</td>\n",
       "      <td>34.203.46.168</td>\n",
       "      <td>0</td>\n",
       "      <td>2023-09-26T22:47:51.287Z</td>\n",
       "      <td>2023-09-26T22:47:51.304571439Z</td>\n",
       "      <td>verizon</td>\n",
       "      <td>https</td>\n",
       "      <td>2023-09-26 17:47:51.246594</td>\n",
       "      <td>2023-09-26T22:47:51.287Z</td>\n",
       "      <td>[]</td>\n",
       "      <td>1695768471304</td>\n",
       "      <td>0.04840254800001276</td>\n",
       "      <td>event</td>\n",
       "      <td>Root=1-65135f97-660ade4660f07b111de0922c</td>\n",
       "      <td>EIP</td>\n",
       "      <td>1711</td>\n",
       "      <td>false</td>\n",
       "      <td>67417a9d-00cd-40c8-b16a-53f7eceff8c8</td>\n",
       "      <td>0.4644443269990006</td>\n",
       "      <td>2023-09-26 17:47:48.447687</td>\n",
       "      <td>0.04149109399986628</td>\n",
       "      <td>created</td>\n",
       "      <td>application/json</td>\n",
       "      <td>GenerativeAISearchBotVoice</td>\n",
       "      <td>GenerativeAISearchBotVoice_RequestSummaryVoice</td>\n",
       "      <td>443</td>\n",
       "      <td>1c6bee25-9f72-40dc-8846-a0e08184e8f3</td>\n",
       "      <td>79876eba-fcfe-4747-b475-d863689f6333</td>\n",
       "      <td>0.004443159999937052</td>\n",
       "    </tr>\n",
       "    <tr>\n",
       "      <th>2</th>\n",
       "      <td>3.334132605999912</td>\n",
       "      <td>verizon</td>\n",
       "      <td>No_CallSid</td>\n",
       "      <td>ingestion.events.asurion.com</td>\n",
       "      <td>Python/3.10 aiohttp/3.8.5</td>\n",
       "      <td>2.4827243970012205</td>\n",
       "      <td>RequestSummaryVoice</td>\n",
       "      <td>eip-ingestion-data-science</td>\n",
       "      <td>true</td>\n",
       "      <td>Analytics</td>\n",
       "      <td>7fb24bb3-b5df-47ac-b2b9-dc3c3cf17355</td>\n",
       "      <td>*/*</td>\n",
       "      <td>event</td>\n",
       "      <td>analytics.ingestion.v1</td>\n",
       "      <td>7fb24bb3-b5df-47ac-b2b9-dc3c3cf17355</td>\n",
       "      <td>GenerativeAISearchBotVoice</td>\n",
       "      <td>573192</td>\n",
       "      <td>analytics</td>\n",
       "      <td>gzip, deflate</td>\n",
       "      <td>I'm sorry to hear that the previous solution d...</td>\n",
       "      <td>HTTP</td>\n",
       "      <td>didnt work</td>\n",
       "      <td>0.03825017400049546</td>\n",
       "      <td>us-east-2</td>\n",
       "      <td>1695768880438</td>\n",
       "      <td>ingestion</td>\n",
       "      <td>[{\"callSid\":\"No_CallSid\",\"content\":\"Galaxy s23...</td>\n",
       "      <td>EDaaS|Eventing|US</td>\n",
       "      <td>34.203.46.168</td>\n",
       "      <td>0</td>\n",
       "      <td>2023-09-26T22:54:40.438Z</td>\n",
       "      <td>2023-09-26T22:54:40.450029970Z</td>\n",
       "      <td>verizon</td>\n",
       "      <td>https</td>\n",
       "      <td>2023-09-26 17:54:40.386673</td>\n",
       "      <td>2023-09-26T22:54:40.438Z</td>\n",
       "      <td>[]</td>\n",
       "      <td>1695768880450</td>\n",
       "      <td>0.11415497899906768</td>\n",
       "      <td>event</td>\n",
       "      <td>Root=1-65136130-3be3b7be7815fc2c493b248f</td>\n",
       "      <td>EIP</td>\n",
       "      <td>1777</td>\n",
       "      <td>false</td>\n",
       "      <td>2a36c6ec-4134-42c6-aa78-f453b9c202d3</td>\n",
       "      <td>0.5510034550006822</td>\n",
       "      <td>2023-09-26 17:54:37.039836</td>\n",
       "      <td>0.07380995499988785</td>\n",
       "      <td>created</td>\n",
       "      <td>application/json</td>\n",
       "      <td>GenerativeAISearchBotVoice</td>\n",
       "      <td>GenerativeAISearchBotVoice_RequestSummaryVoice</td>\n",
       "      <td>443</td>\n",
       "      <td>7e3e254a-dca1-47f6-87c6-8e89271227c6</td>\n",
       "      <td>69ee8dc9-c717-4c2b-9a89-5c0bee5ff9d8</td>\n",
       "      <td>0.004538922999927308</td>\n",
       "    </tr>\n",
       "    <tr>\n",
       "      <th>3</th>\n",
       "      <td>1.994491477000338</td>\n",
       "      <td>verizon</td>\n",
       "      <td>No_CallSid</td>\n",
       "      <td>ingestion.events.asurion.com</td>\n",
       "      <td>Python/3.10 aiohttp/3.8.5</td>\n",
       "      <td>1.161403453001185</td>\n",
       "      <td>RequestSummaryVoice</td>\n",
       "      <td>eip-ingestion-data-science</td>\n",
       "      <td>true</td>\n",
       "      <td>Analytics</td>\n",
       "      <td>6dc7edb1-1036-40f0-8800-c9c14aa09044</td>\n",
       "      <td>*/*</td>\n",
       "      <td>event</td>\n",
       "      <td>analytics.ingestion.v1</td>\n",
       "      <td>6dc7edb1-1036-40f0-8800-c9c14aa09044</td>\n",
       "      <td>GenerativeAISearchBotVoice</td>\n",
       "      <td>426097</td>\n",
       "      <td>analytics</td>\n",
       "      <td>gzip, deflate</td>\n",
       "      <td>For the iPhone 12 trade-in promotion, the cust...</td>\n",
       "      <td>HTTP</td>\n",
       "      <td>iphone 12</td>\n",
       "      <td>0.04198042399912083</td>\n",
       "      <td>us-east-2</td>\n",
       "      <td>1695768714746</td>\n",
       "      <td>ingestion</td>\n",
       "      <td>[{\"callSid\":\"No_CallSid\",\"content\":\"how long d...</td>\n",
       "      <td>EDaaS|Eventing|US</td>\n",
       "      <td>34.203.46.168</td>\n",
       "      <td>0</td>\n",
       "      <td>2023-09-26T22:51:54.746Z</td>\n",
       "      <td>2023-09-26T22:51:54.757917332Z</td>\n",
       "      <td>verizon</td>\n",
       "      <td>https</td>\n",
       "      <td>2023-09-26 17:51:54.701721</td>\n",
       "      <td>2023-09-26T22:51:54.746Z</td>\n",
       "      <td>[]</td>\n",
       "      <td>1695768714757</td>\n",
       "      <td>0.052259408999816515</td>\n",
       "      <td>event</td>\n",
       "      <td>Root=1-6513608a-6ea2b3296d1c4bdb47bbfaed</td>\n",
       "      <td>EIP</td>\n",
       "      <td>1515</td>\n",
       "      <td>false</td>\n",
       "      <td>0b5af463-5375-433a-9bf2-7f036334a97b</td>\n",
       "      <td>0.5767025780005497</td>\n",
       "      <td>2023-09-26 17:51:52.694149</td>\n",
       "      <td>0.06722075499965285</td>\n",
       "      <td>created</td>\n",
       "      <td>application/json</td>\n",
       "      <td>GenerativeAISearchBotVoice</td>\n",
       "      <td>GenerativeAISearchBotVoice_RequestSummaryVoice</td>\n",
       "      <td>443</td>\n",
       "      <td>f19fea0b-9335-49d0-8b81-0ff0009e8213</td>\n",
       "      <td>6ff051b7-e887-446c-aee9-cf28a69ea367</td>\n",
       "      <td>0.0001445400012016762</td>\n",
       "    </tr>\n",
       "    <tr>\n",
       "      <th>4</th>\n",
       "      <td>3.921798305000266</td>\n",
       "      <td>verizon</td>\n",
       "      <td>No_CallSid</td>\n",
       "      <td>ingestion.events.asurion.com</td>\n",
       "      <td>Python/3.10 aiohttp/3.8.5</td>\n",
       "      <td>2.738929796998491</td>\n",
       "      <td>RequestSummaryVoice</td>\n",
       "      <td>eip-ingestion-data-science</td>\n",
       "      <td>true</td>\n",
       "      <td>Analytics</td>\n",
       "      <td>d094bce2-b8d7-4e3d-b0e8-22a760a8139a</td>\n",
       "      <td>*/*</td>\n",
       "      <td>event</td>\n",
       "      <td>analytics.ingestion.v1</td>\n",
       "      <td>d094bce2-b8d7-4e3d-b0e8-22a760a8139a</td>\n",
       "      <td>GenerativeAISearchBotVoice</td>\n",
       "      <td>569375</td>\n",
       "      <td>analytics</td>\n",
       "      <td>gzip, deflate</td>\n",
       "      <td>To disable voicemail on your Verizon phone, yo...</td>\n",
       "      <td>HTTP</td>\n",
       "      <td>disable voicemail</td>\n",
       "      <td>0.032008490999942296</td>\n",
       "      <td>us-east-1</td>\n",
       "      <td>1695768347399</td>\n",
       "      <td>ingestion</td>\n",
       "      <td>[{\"callSid\":\"No_CallSid\",\"content\":\"blocking v...</td>\n",
       "      <td>EDaaS|Eventing|US</td>\n",
       "      <td>34.203.46.168</td>\n",
       "      <td>0</td>\n",
       "      <td>2023-09-26T22:45:47.399Z</td>\n",
       "      <td>2023-09-26T22:45:47.408633711Z</td>\n",
       "      <td>verizon</td>\n",
       "      <td>https</td>\n",
       "      <td>2023-09-26 17:45:47.365616</td>\n",
       "      <td>2023-09-26T22:45:47.399Z</td>\n",
       "      <td>[]</td>\n",
       "      <td>1695768347408</td>\n",
       "      <td>0.06252433100053167</td>\n",
       "      <td>event</td>\n",
       "      <td>Root=1-65135f1b-70ad3d406a4f741e0cdb71e4</td>\n",
       "      <td>EIP</td>\n",
       "      <td>1726</td>\n",
       "      <td>false</td>\n",
       "      <td>5708f6d3-32af-42ab-a5df-ac9c8df004b2</td>\n",
       "      <td>0.9288417700008722</td>\n",
       "      <td>2023-09-26 17:45:43.425614</td>\n",
       "      <td>0.07013455399828672</td>\n",
       "      <td>created</td>\n",
       "      <td>application/json</td>\n",
       "      <td>GenerativeAISearchBotVoice</td>\n",
       "      <td>GenerativeAISearchBotVoice_RequestSummaryVoice</td>\n",
       "      <td>443</td>\n",
       "      <td>9ec17995-a80b-4867-8718-756931ed16e5</td>\n",
       "      <td>cef87902-1bf4-4757-8b14-fb65e5150e95</td>\n",
       "      <td>0.0002552880014263792</td>\n",
       "    </tr>\n",
       "  </tbody>\n",
       "</table>\n",
       "</div>"
      ],
      "text/plain": [
       "  ExtraData_totalTime _header_client Identities_callSid  \\\n",
       "0  3.8022686690001137        verizon         No_CallSid   \n",
       "1  2.7861030620006204        verizon         No_CallSid   \n",
       "2   3.334132605999912        verizon         No_CallSid   \n",
       "3   1.994491477000338        verizon         No_CallSid   \n",
       "4   3.921798305000266        verizon         No_CallSid   \n",
       "\n",
       "   MetaData_RequestContext_Host MetaData_RequestContext_User-Agent  \\\n",
       "0  ingestion.events.asurion.com          Python/3.10 aiohttp/3.8.5   \n",
       "1  ingestion.events.asurion.com          Python/3.10 aiohttp/3.8.5   \n",
       "2  ingestion.events.asurion.com          Python/3.10 aiohttp/3.8.5   \n",
       "3  ingestion.events.asurion.com          Python/3.10 aiohttp/3.8.5   \n",
       "4  ingestion.events.asurion.com          Python/3.10 aiohttp/3.8.5   \n",
       "\n",
       "  ExtraData_openAITime                 Name _header_eventContext_producer  \\\n",
       "0    3.081180687999222  RequestSummaryVoice    eip-ingestion-data-science   \n",
       "1    2.079903544999979  RequestSummaryVoice    eip-ingestion-data-science   \n",
       "2   2.4827243970012205  RequestSummaryVoice    eip-ingestion-data-science   \n",
       "3    1.161403453001185  RequestSummaryVoice    eip-ingestion-data-science   \n",
       "4    2.738929796998491  RequestSummaryVoice    eip-ingestion-data-science   \n",
       "\n",
       "  ExtraData_isLive _header_category                       _header_eventId  \\\n",
       "0             true        Analytics  387bd557-69bc-46c2-9d2d-b83d532d45ec   \n",
       "1             true        Analytics  7d96c350-08f9-4f3c-a09e-627866db9796   \n",
       "2             true        Analytics  7fb24bb3-b5df-47ac-b2b9-dc3c3cf17355   \n",
       "3             true        Analytics  6dc7edb1-1036-40f0-8800-c9c14aa09044   \n",
       "4             true        Analytics  d094bce2-b8d7-4e3d-b0e8-22a760a8139a   \n",
       "\n",
       "  MetaData_RequestContext_Accept _header_domain          _header_schema  \\\n",
       "0                            */*          event  analytics.ingestion.v1   \n",
       "1                            */*          event  analytics.ingestion.v1   \n",
       "2                            */*          event  analytics.ingestion.v1   \n",
       "3                            */*          event  analytics.ingestion.v1   \n",
       "4                            */*          event  analytics.ingestion.v1   \n",
       "\n",
       "                                EventId              _header_object  \\\n",
       "0  387bd557-69bc-46c2-9d2d-b83d532d45ec  GenerativeAISearchBotVoice   \n",
       "1  7d96c350-08f9-4f3c-a09e-627866db9796  GenerativeAISearchBotVoice   \n",
       "2  7fb24bb3-b5df-47ac-b2b9-dc3c3cf17355  GenerativeAISearchBotVoice   \n",
       "3  6dc7edb1-1036-40f0-8800-c9c14aa09044  GenerativeAISearchBotVoice   \n",
       "4  d094bce2-b8d7-4e3d-b0e8-22a760a8139a  GenerativeAISearchBotVoice   \n",
       "\n",
       "  ExtraData_agentId _header_eventContext_category  \\\n",
       "0            575731                     analytics   \n",
       "1            573192                     analytics   \n",
       "2            573192                     analytics   \n",
       "3            426097                     analytics   \n",
       "4            569375                     analytics   \n",
       "\n",
       "  MetaData_RequestContext_Accept-Encoding  \\\n",
       "0                           gzip, deflate   \n",
       "1                           gzip, deflate   \n",
       "2                           gzip, deflate   \n",
       "3                           gzip, deflate   \n",
       "4                           gzip, deflate   \n",
       "\n",
       "                               ExtraData_botResponse  \\\n",
       "0  If your network extender is not activating, he...   \n",
       "1  Okay, let's try resetting the network settings...   \n",
       "2  I'm sorry to hear that the previous solution d...   \n",
       "3  For the iPhone 12 trade-in promotion, the cust...   \n",
       "4  To disable voicemail on your Verizon phone, yo...   \n",
       "\n",
       "  _header_eventContext_sourceType ExtraData_inputMessage  \\\n",
       "0                            HTTP         not activating   \n",
       "1                            HTTP                    yes   \n",
       "2                            HTTP             didnt work   \n",
       "3                            HTTP              iphone 12   \n",
       "4                            HTTP      disable voicemail   \n",
       "\n",
       "    ExtraData_helixTime _header_eventContext_region  \\\n",
       "0  0.030364360000021406                   us-east-1   \n",
       "1   0.03296359299929463                   us-east-2   \n",
       "2   0.03825017400049546                   us-east-2   \n",
       "3   0.04198042399912083                   us-east-2   \n",
       "4  0.032008490999942296                   us-east-1   \n",
       "\n",
       "  _header_eventContext_ingestionTimestamp _header_eventContext_endpoint  \\\n",
       "0                           1695770180092                     ingestion   \n",
       "1                           1695768471287                     ingestion   \n",
       "2                           1695768880438                     ingestion   \n",
       "3                           1695768714746                     ingestion   \n",
       "4                           1695768347399                     ingestion   \n",
       "\n",
       "                          ExtraData_promptTranscript     _header_source  \\\n",
       "0  [{\"callSid\":\"No_CallSid\",\"content\":\"step 11 d ...  EDaaS|Eventing|US   \n",
       "1  [{\"callSid\":\"No_CallSid\",\"content\":\"galaxy s23...  EDaaS|Eventing|US   \n",
       "2  [{\"callSid\":\"No_CallSid\",\"content\":\"Galaxy s23...  EDaaS|Eventing|US   \n",
       "3  [{\"callSid\":\"No_CallSid\",\"content\":\"how long d...  EDaaS|Eventing|US   \n",
       "4  [{\"callSid\":\"No_CallSid\",\"content\":\"blocking v...  EDaaS|Eventing|US   \n",
       "\n",
       "  MetaData_RequestContext_X-Forwarded-For ExtraData_ozmoTime  \\\n",
       "0                           34.205.188.78                  0   \n",
       "1                           34.203.46.168                  0   \n",
       "2                           34.203.46.168                  0   \n",
       "3                           34.203.46.168                  0   \n",
       "4                           34.203.46.168                  0   \n",
       "\n",
       "             ExtraData_Time             MetaData_ServerTime MetaData_Client  \\\n",
       "0  2023-09-26T23:16:20.092Z  2023-09-26T23:16:20.100328458Z         verizon   \n",
       "1  2023-09-26T22:47:51.287Z  2023-09-26T22:47:51.304571439Z         verizon   \n",
       "2  2023-09-26T22:54:40.438Z  2023-09-26T22:54:40.450029970Z         verizon   \n",
       "3  2023-09-26T22:51:54.746Z  2023-09-26T22:51:54.757917332Z         verizon   \n",
       "4  2023-09-26T22:45:47.399Z  2023-09-26T22:45:47.408633711Z         verizon   \n",
       "\n",
       "  MetaData_RequestContext_X-Forwarded-Proto    ExtraData_endRequestTime  \\\n",
       "0                                     https  2023-09-26 18:16:20.053577   \n",
       "1                                     https  2023-09-26 17:47:51.246594   \n",
       "2                                     https  2023-09-26 17:54:40.386673   \n",
       "3                                     https  2023-09-26 17:51:54.701721   \n",
       "4                                     https  2023-09-26 17:45:47.365616   \n",
       "\n",
       "                       Time _header_tags _header_timestamp  \\\n",
       "0  2023-09-26T23:16:20.092Z           []     1695770180100   \n",
       "1  2023-09-26T22:47:51.287Z           []     1695768471304   \n",
       "2  2023-09-26T22:54:40.438Z           []     1695768880450   \n",
       "3  2023-09-26T22:51:54.746Z           []     1695768714757   \n",
       "4  2023-09-26T22:45:47.399Z           []     1695768347408   \n",
       "\n",
       "  ExtraData_transcriptsTime MetaData__eventType  \\\n",
       "0       0.05530893299874151               event   \n",
       "1       0.04840254800001276               event   \n",
       "2       0.11415497899906768               event   \n",
       "3      0.052259408999816515               event   \n",
       "4       0.06252433100053167               event   \n",
       "\n",
       "    MetaData_RequestContext_X-Amzn-Trace-Id MetaData_ProcessorType  \\\n",
       "0  Root=1-65136644-7063bf0816eefcf41c144323                    EIP   \n",
       "1  Root=1-65135f97-660ade4660f07b111de0922c                    EIP   \n",
       "2  Root=1-65136130-3be3b7be7815fc2c493b248f                    EIP   \n",
       "3  Root=1-6513608a-6ea2b3296d1c4bdb47bbfaed                    EIP   \n",
       "4  Root=1-65135f1b-70ad3d406a4f741e0cdb71e4                    EIP   \n",
       "\n",
       "  ExtraData_totalTokens MetaData_IsTest                 Identities_messageSid  \\\n",
       "0                  1729           false  349e81b9-01fc-49c4-89e7-6c052ebdf61d   \n",
       "1                  1711           false  67417a9d-00cd-40c8-b16a-53f7eceff8c8   \n",
       "2                  1777           false  2a36c6ec-4134-42c6-aa78-f453b9c202d3   \n",
       "3                  1515           false  0b5af463-5375-433a-9bf2-7f036334a97b   \n",
       "4                  1726           false  5708f6d3-32af-42ab-a5df-ac9c8df004b2   \n",
       "\n",
       "  ExtraData_embeddingsTime  ExtraData_startRequestTime ExtraData_helixNewTime  \\\n",
       "0      0.48574388599990925  2023-09-26 18:16:16.238988    0.06988517699937802   \n",
       "1       0.4644443269990006  2023-09-26 17:47:48.447687    0.04149109399986628   \n",
       "2       0.5510034550006822  2023-09-26 17:54:37.039836    0.07380995499988785   \n",
       "3       0.5767025780005497  2023-09-26 17:51:52.694149    0.06722075499965285   \n",
       "4       0.9288417700008722  2023-09-26 17:45:43.425614    0.07013455399828672   \n",
       "\n",
       "  _header_action MetaData_RequestContext_Content-Type  \\\n",
       "0        created                     application/json   \n",
       "1        created                     application/json   \n",
       "2        created                     application/json   \n",
       "3        created                     application/json   \n",
       "4        created                     application/json   \n",
       "\n",
       "                        Scope                                        FullName  \\\n",
       "0  GenerativeAISearchBotVoice  GenerativeAISearchBotVoice_RequestSummaryVoice   \n",
       "1  GenerativeAISearchBotVoice  GenerativeAISearchBotVoice_RequestSummaryVoice   \n",
       "2  GenerativeAISearchBotVoice  GenerativeAISearchBotVoice_RequestSummaryVoice   \n",
       "3  GenerativeAISearchBotVoice  GenerativeAISearchBotVoice_RequestSummaryVoice   \n",
       "4  GenerativeAISearchBotVoice  GenerativeAISearchBotVoice_RequestSummaryVoice   \n",
       "\n",
       "  MetaData_RequestContext_X-Forwarded-Port  \\\n",
       "0                                      443   \n",
       "1                                      443   \n",
       "2                                      443   \n",
       "3                                      443   \n",
       "4                                      443   \n",
       "\n",
       "     _header_eventContext_correlationId                  Identities_SessionId  \\\n",
       "0  220d2d60-ced3-4921-9b3f-3428c0d0a0c2  b2dc7364-4dbd-45a8-a1b8-e9ee5483ef81   \n",
       "1  1c6bee25-9f72-40dc-8846-a0e08184e8f3  79876eba-fcfe-4747-b475-d863689f6333   \n",
       "2  7e3e254a-dca1-47f6-87c6-8e89271227c6  69ee8dc9-c717-4c2b-9a89-5c0bee5ff9d8   \n",
       "3  f19fea0b-9335-49d0-8b81-0ff0009e8213  6ff051b7-e887-446c-aee9-cf28a69ea367   \n",
       "4  9ec17995-a80b-4867-8718-756931ed16e5  cef87902-1bf4-4757-8b14-fb65e5150e95   \n",
       "\n",
       "  ExtraData_deviceDetectionTime  \n",
       "0          0.000260409999100375  \n",
       "1          0.004443159999937052  \n",
       "2          0.004538922999927308  \n",
       "3         0.0001445400012016762  \n",
       "4         0.0002552880014263792  "
      ]
     },
     "execution_count": 9,
     "metadata": {},
     "output_type": "execute_result"
    }
   ],
   "source": [
    "df =run_query(\n",
    "\"\"\"\n",
    "SELECT *,element_at(edp_raw_data_map, 'ExtraData_totalTime'),element_at(VHE.edp_raw_data_map, 'Identities_messageSid')\n",
    "FROM hive.care.l1_verizon_home_events vhe\n",
    "where \n",
    "    edp_updated_date = '2023-09-26' and \n",
    "    element_at(edp_raw_data_map, '_header_eventContext_producer') = 'eip-ingestion-data-science' and\n",
    "    element_at(edp_raw_data_map, 'Identities_messageSid') is not null and\n",
    "    element_at(edp_raw_data_map, 'Name') = 'RequestSummaryVoice'\n",
    "    \n",
    "limit 1000\n",
    "\"\"\")\n",
    "\n",
    "display(df.head())\n",
    "json_df =  pd.DataFrame.from_records(df['edp_raw_data_map'].copy().apply(json.loads))\n",
    "display(json_df.head())\n",
    "display(json_df[['ExtraData_totalTime']].head())\n",
    "cols = json_df.columns.copy()\n",
    "cols.sort_values()\n",
    "json_df[cols].head()"
   ]
  },
  {
   "cell_type": "code",
   "execution_count": 13,
   "metadata": {},
   "outputs": [
    {
     "data": {
      "application/vnd.plotly.v1+json": {
       "config": {
        "plotlyServerURL": "https://plot.ly"
       },
       "data": [
        {
         "hovertemplate": "variable=BackendLatency<br>Date=%{x}<br>value=%{y}<extra></extra>",
         "legendgroup": "BackendLatency",
         "line": {
          "color": "#636efa",
          "dash": "solid"
         },
         "marker": {
          "symbol": "circle"
         },
         "mode": "lines",
         "name": "BackendLatency",
         "orientation": "v",
         "showlegend": true,
         "type": "scatter",
         "x": [
          "2023-09-26",
          "2023-09-27",
          "2023-09-28",
          "2023-09-29"
         ],
         "xaxis": "x",
         "y": [
          666.5254497528076,
          910.2882061004639,
          979.1832683086395,
          85.47337067127228
         ],
         "yaxis": "y"
        },
        {
         "hovertemplate": "variable=CallsWithUse<br>Date=%{x}<br>value=%{y}<extra></extra>",
         "legendgroup": "CallsWithUse",
         "line": {
          "color": "#EF553B",
          "dash": "solid"
         },
         "marker": {
          "symbol": "circle"
         },
         "mode": "lines",
         "name": "CallsWithUse",
         "orientation": "v",
         "showlegend": true,
         "type": "scatter",
         "x": [
          "2023-09-26",
          "2023-09-27",
          "2023-09-28",
          "2023-09-29"
         ],
         "xaxis": "x",
         "y": [
          68,
          99,
          82,
          10
         ],
         "yaxis": "y"
        },
        {
         "hovertemplate": "variable=TotalUses<br>Date=%{x}<br>value=%{y}<extra></extra>",
         "legendgroup": "TotalUses",
         "line": {
          "color": "#00cc96",
          "dash": "solid"
         },
         "marker": {
          "symbol": "circle"
         },
         "mode": "lines",
         "name": "TotalUses",
         "orientation": "v",
         "showlegend": true,
         "type": "scatter",
         "x": [
          "2023-09-26",
          "2023-09-27",
          "2023-09-28",
          "2023-09-29"
         ],
         "xaxis": "x",
         "y": [
          204,
          269,
          249,
          20
         ],
         "yaxis": "y"
        },
        {
         "hovertemplate": "variable=AvgLatency<br>Date=%{x}<br>value=%{y}<extra></extra>",
         "legendgroup": "AvgLatency",
         "line": {
          "color": "#ab63fa",
          "dash": "solid"
         },
         "marker": {
          "symbol": "circle"
         },
         "mode": "lines",
         "name": "AvgLatency",
         "orientation": "v",
         "showlegend": true,
         "type": "scatter",
         "x": [
          "2023-09-26",
          "2023-09-27",
          "2023-09-28",
          "2023-09-29"
         ],
         "xaxis": "x",
         "y": [
          3.2672816164353313,
          3.3839710263957765,
          3.9324629249342955,
          4.2736685335636135
         ],
         "yaxis": "y"
        }
       ],
       "layout": {
        "legend": {
         "title": {
          "text": "variable"
         },
         "tracegroupgap": 0
        },
        "margin": {
         "t": 60
        },
        "template": {
         "data": {
          "bar": [
           {
            "error_x": {
             "color": "#2a3f5f"
            },
            "error_y": {
             "color": "#2a3f5f"
            },
            "marker": {
             "line": {
              "color": "#E5ECF6",
              "width": 0.5
             },
             "pattern": {
              "fillmode": "overlay",
              "size": 10,
              "solidity": 0.2
             }
            },
            "type": "bar"
           }
          ],
          "barpolar": [
           {
            "marker": {
             "line": {
              "color": "#E5ECF6",
              "width": 0.5
             },
             "pattern": {
              "fillmode": "overlay",
              "size": 10,
              "solidity": 0.2
             }
            },
            "type": "barpolar"
           }
          ],
          "carpet": [
           {
            "aaxis": {
             "endlinecolor": "#2a3f5f",
             "gridcolor": "white",
             "linecolor": "white",
             "minorgridcolor": "white",
             "startlinecolor": "#2a3f5f"
            },
            "baxis": {
             "endlinecolor": "#2a3f5f",
             "gridcolor": "white",
             "linecolor": "white",
             "minorgridcolor": "white",
             "startlinecolor": "#2a3f5f"
            },
            "type": "carpet"
           }
          ],
          "choropleth": [
           {
            "colorbar": {
             "outlinewidth": 0,
             "ticks": ""
            },
            "type": "choropleth"
           }
          ],
          "contour": [
           {
            "colorbar": {
             "outlinewidth": 0,
             "ticks": ""
            },
            "colorscale": [
             [
              0,
              "#0d0887"
             ],
             [
              0.1111111111111111,
              "#46039f"
             ],
             [
              0.2222222222222222,
              "#7201a8"
             ],
             [
              0.3333333333333333,
              "#9c179e"
             ],
             [
              0.4444444444444444,
              "#bd3786"
             ],
             [
              0.5555555555555556,
              "#d8576b"
             ],
             [
              0.6666666666666666,
              "#ed7953"
             ],
             [
              0.7777777777777778,
              "#fb9f3a"
             ],
             [
              0.8888888888888888,
              "#fdca26"
             ],
             [
              1,
              "#f0f921"
             ]
            ],
            "type": "contour"
           }
          ],
          "contourcarpet": [
           {
            "colorbar": {
             "outlinewidth": 0,
             "ticks": ""
            },
            "type": "contourcarpet"
           }
          ],
          "heatmap": [
           {
            "colorbar": {
             "outlinewidth": 0,
             "ticks": ""
            },
            "colorscale": [
             [
              0,
              "#0d0887"
             ],
             [
              0.1111111111111111,
              "#46039f"
             ],
             [
              0.2222222222222222,
              "#7201a8"
             ],
             [
              0.3333333333333333,
              "#9c179e"
             ],
             [
              0.4444444444444444,
              "#bd3786"
             ],
             [
              0.5555555555555556,
              "#d8576b"
             ],
             [
              0.6666666666666666,
              "#ed7953"
             ],
             [
              0.7777777777777778,
              "#fb9f3a"
             ],
             [
              0.8888888888888888,
              "#fdca26"
             ],
             [
              1,
              "#f0f921"
             ]
            ],
            "type": "heatmap"
           }
          ],
          "heatmapgl": [
           {
            "colorbar": {
             "outlinewidth": 0,
             "ticks": ""
            },
            "colorscale": [
             [
              0,
              "#0d0887"
             ],
             [
              0.1111111111111111,
              "#46039f"
             ],
             [
              0.2222222222222222,
              "#7201a8"
             ],
             [
              0.3333333333333333,
              "#9c179e"
             ],
             [
              0.4444444444444444,
              "#bd3786"
             ],
             [
              0.5555555555555556,
              "#d8576b"
             ],
             [
              0.6666666666666666,
              "#ed7953"
             ],
             [
              0.7777777777777778,
              "#fb9f3a"
             ],
             [
              0.8888888888888888,
              "#fdca26"
             ],
             [
              1,
              "#f0f921"
             ]
            ],
            "type": "heatmapgl"
           }
          ],
          "histogram": [
           {
            "marker": {
             "pattern": {
              "fillmode": "overlay",
              "size": 10,
              "solidity": 0.2
             }
            },
            "type": "histogram"
           }
          ],
          "histogram2d": [
           {
            "colorbar": {
             "outlinewidth": 0,
             "ticks": ""
            },
            "colorscale": [
             [
              0,
              "#0d0887"
             ],
             [
              0.1111111111111111,
              "#46039f"
             ],
             [
              0.2222222222222222,
              "#7201a8"
             ],
             [
              0.3333333333333333,
              "#9c179e"
             ],
             [
              0.4444444444444444,
              "#bd3786"
             ],
             [
              0.5555555555555556,
              "#d8576b"
             ],
             [
              0.6666666666666666,
              "#ed7953"
             ],
             [
              0.7777777777777778,
              "#fb9f3a"
             ],
             [
              0.8888888888888888,
              "#fdca26"
             ],
             [
              1,
              "#f0f921"
             ]
            ],
            "type": "histogram2d"
           }
          ],
          "histogram2dcontour": [
           {
            "colorbar": {
             "outlinewidth": 0,
             "ticks": ""
            },
            "colorscale": [
             [
              0,
              "#0d0887"
             ],
             [
              0.1111111111111111,
              "#46039f"
             ],
             [
              0.2222222222222222,
              "#7201a8"
             ],
             [
              0.3333333333333333,
              "#9c179e"
             ],
             [
              0.4444444444444444,
              "#bd3786"
             ],
             [
              0.5555555555555556,
              "#d8576b"
             ],
             [
              0.6666666666666666,
              "#ed7953"
             ],
             [
              0.7777777777777778,
              "#fb9f3a"
             ],
             [
              0.8888888888888888,
              "#fdca26"
             ],
             [
              1,
              "#f0f921"
             ]
            ],
            "type": "histogram2dcontour"
           }
          ],
          "mesh3d": [
           {
            "colorbar": {
             "outlinewidth": 0,
             "ticks": ""
            },
            "type": "mesh3d"
           }
          ],
          "parcoords": [
           {
            "line": {
             "colorbar": {
              "outlinewidth": 0,
              "ticks": ""
             }
            },
            "type": "parcoords"
           }
          ],
          "pie": [
           {
            "automargin": true,
            "type": "pie"
           }
          ],
          "scatter": [
           {
            "fillpattern": {
             "fillmode": "overlay",
             "size": 10,
             "solidity": 0.2
            },
            "type": "scatter"
           }
          ],
          "scatter3d": [
           {
            "line": {
             "colorbar": {
              "outlinewidth": 0,
              "ticks": ""
             }
            },
            "marker": {
             "colorbar": {
              "outlinewidth": 0,
              "ticks": ""
             }
            },
            "type": "scatter3d"
           }
          ],
          "scattercarpet": [
           {
            "marker": {
             "colorbar": {
              "outlinewidth": 0,
              "ticks": ""
             }
            },
            "type": "scattercarpet"
           }
          ],
          "scattergeo": [
           {
            "marker": {
             "colorbar": {
              "outlinewidth": 0,
              "ticks": ""
             }
            },
            "type": "scattergeo"
           }
          ],
          "scattergl": [
           {
            "marker": {
             "colorbar": {
              "outlinewidth": 0,
              "ticks": ""
             }
            },
            "type": "scattergl"
           }
          ],
          "scattermapbox": [
           {
            "marker": {
             "colorbar": {
              "outlinewidth": 0,
              "ticks": ""
             }
            },
            "type": "scattermapbox"
           }
          ],
          "scatterpolar": [
           {
            "marker": {
             "colorbar": {
              "outlinewidth": 0,
              "ticks": ""
             }
            },
            "type": "scatterpolar"
           }
          ],
          "scatterpolargl": [
           {
            "marker": {
             "colorbar": {
              "outlinewidth": 0,
              "ticks": ""
             }
            },
            "type": "scatterpolargl"
           }
          ],
          "scatterternary": [
           {
            "marker": {
             "colorbar": {
              "outlinewidth": 0,
              "ticks": ""
             }
            },
            "type": "scatterternary"
           }
          ],
          "surface": [
           {
            "colorbar": {
             "outlinewidth": 0,
             "ticks": ""
            },
            "colorscale": [
             [
              0,
              "#0d0887"
             ],
             [
              0.1111111111111111,
              "#46039f"
             ],
             [
              0.2222222222222222,
              "#7201a8"
             ],
             [
              0.3333333333333333,
              "#9c179e"
             ],
             [
              0.4444444444444444,
              "#bd3786"
             ],
             [
              0.5555555555555556,
              "#d8576b"
             ],
             [
              0.6666666666666666,
              "#ed7953"
             ],
             [
              0.7777777777777778,
              "#fb9f3a"
             ],
             [
              0.8888888888888888,
              "#fdca26"
             ],
             [
              1,
              "#f0f921"
             ]
            ],
            "type": "surface"
           }
          ],
          "table": [
           {
            "cells": {
             "fill": {
              "color": "#EBF0F8"
             },
             "line": {
              "color": "white"
             }
            },
            "header": {
             "fill": {
              "color": "#C8D4E3"
             },
             "line": {
              "color": "white"
             }
            },
            "type": "table"
           }
          ]
         },
         "layout": {
          "annotationdefaults": {
           "arrowcolor": "#2a3f5f",
           "arrowhead": 0,
           "arrowwidth": 1
          },
          "autotypenumbers": "strict",
          "coloraxis": {
           "colorbar": {
            "outlinewidth": 0,
            "ticks": ""
           }
          },
          "colorscale": {
           "diverging": [
            [
             0,
             "#8e0152"
            ],
            [
             0.1,
             "#c51b7d"
            ],
            [
             0.2,
             "#de77ae"
            ],
            [
             0.3,
             "#f1b6da"
            ],
            [
             0.4,
             "#fde0ef"
            ],
            [
             0.5,
             "#f7f7f7"
            ],
            [
             0.6,
             "#e6f5d0"
            ],
            [
             0.7,
             "#b8e186"
            ],
            [
             0.8,
             "#7fbc41"
            ],
            [
             0.9,
             "#4d9221"
            ],
            [
             1,
             "#276419"
            ]
           ],
           "sequential": [
            [
             0,
             "#0d0887"
            ],
            [
             0.1111111111111111,
             "#46039f"
            ],
            [
             0.2222222222222222,
             "#7201a8"
            ],
            [
             0.3333333333333333,
             "#9c179e"
            ],
            [
             0.4444444444444444,
             "#bd3786"
            ],
            [
             0.5555555555555556,
             "#d8576b"
            ],
            [
             0.6666666666666666,
             "#ed7953"
            ],
            [
             0.7777777777777778,
             "#fb9f3a"
            ],
            [
             0.8888888888888888,
             "#fdca26"
            ],
            [
             1,
             "#f0f921"
            ]
           ],
           "sequentialminus": [
            [
             0,
             "#0d0887"
            ],
            [
             0.1111111111111111,
             "#46039f"
            ],
            [
             0.2222222222222222,
             "#7201a8"
            ],
            [
             0.3333333333333333,
             "#9c179e"
            ],
            [
             0.4444444444444444,
             "#bd3786"
            ],
            [
             0.5555555555555556,
             "#d8576b"
            ],
            [
             0.6666666666666666,
             "#ed7953"
            ],
            [
             0.7777777777777778,
             "#fb9f3a"
            ],
            [
             0.8888888888888888,
             "#fdca26"
            ],
            [
             1,
             "#f0f921"
            ]
           ]
          },
          "colorway": [
           "#636efa",
           "#EF553B",
           "#00cc96",
           "#ab63fa",
           "#FFA15A",
           "#19d3f3",
           "#FF6692",
           "#B6E880",
           "#FF97FF",
           "#FECB52"
          ],
          "font": {
           "color": "#2a3f5f"
          },
          "geo": {
           "bgcolor": "white",
           "lakecolor": "white",
           "landcolor": "#E5ECF6",
           "showlakes": true,
           "showland": true,
           "subunitcolor": "white"
          },
          "hoverlabel": {
           "align": "left"
          },
          "hovermode": "closest",
          "mapbox": {
           "style": "light"
          },
          "paper_bgcolor": "white",
          "plot_bgcolor": "#E5ECF6",
          "polar": {
           "angularaxis": {
            "gridcolor": "white",
            "linecolor": "white",
            "ticks": ""
           },
           "bgcolor": "#E5ECF6",
           "radialaxis": {
            "gridcolor": "white",
            "linecolor": "white",
            "ticks": ""
           }
          },
          "scene": {
           "xaxis": {
            "backgroundcolor": "#E5ECF6",
            "gridcolor": "white",
            "gridwidth": 2,
            "linecolor": "white",
            "showbackground": true,
            "ticks": "",
            "zerolinecolor": "white"
           },
           "yaxis": {
            "backgroundcolor": "#E5ECF6",
            "gridcolor": "white",
            "gridwidth": 2,
            "linecolor": "white",
            "showbackground": true,
            "ticks": "",
            "zerolinecolor": "white"
           },
           "zaxis": {
            "backgroundcolor": "#E5ECF6",
            "gridcolor": "white",
            "gridwidth": 2,
            "linecolor": "white",
            "showbackground": true,
            "ticks": "",
            "zerolinecolor": "white"
           }
          },
          "shapedefaults": {
           "line": {
            "color": "#2a3f5f"
           }
          },
          "ternary": {
           "aaxis": {
            "gridcolor": "white",
            "linecolor": "white",
            "ticks": ""
           },
           "baxis": {
            "gridcolor": "white",
            "linecolor": "white",
            "ticks": ""
           },
           "bgcolor": "#E5ECF6",
           "caxis": {
            "gridcolor": "white",
            "linecolor": "white",
            "ticks": ""
           }
          },
          "title": {
           "x": 0.05
          },
          "xaxis": {
           "automargin": true,
           "gridcolor": "white",
           "linecolor": "white",
           "ticks": "",
           "title": {
            "standoff": 15
           },
           "zerolinecolor": "white",
           "zerolinewidth": 2
          },
          "yaxis": {
           "automargin": true,
           "gridcolor": "white",
           "linecolor": "white",
           "ticks": "",
           "title": {
            "standoff": 15
           },
           "zerolinecolor": "white",
           "zerolinewidth": 2
          }
         }
        },
        "xaxis": {
         "anchor": "y",
         "domain": [
          0,
          1
         ],
         "title": {
          "text": "Date"
         }
        },
        "yaxis": {
         "anchor": "x",
         "domain": [
          0,
          1
         ],
         "title": {
          "text": "value"
         }
        }
       }
      }
     },
     "metadata": {},
     "output_type": "display_data"
    }
   ],
   "source": [
    "# test_df = run_query(query_file_to_string('SQL/ExpertAssist.SQL'))\n",
    "test_df.head()\n",
    "pivot = pd.pivot_table(test_df, index='Date', values=['TotalUses','BackendLatency','CallsWithUse'], aggfunc=sum)\n",
    "pivot['AvgLatency']= pivot['BackendLatency']/pivot['TotalUses']\n",
    "px.line(pivot)"
   ]
  },
  {
   "cell_type": "code",
   "execution_count": 11,
   "metadata": {},
   "outputs": [
    {
     "data": {
      "text/plain": [
       "'Sales.SQL 2023-09-29 11:35:43 AM'"
      ]
     },
     "metadata": {},
     "output_type": "display_data"
    },
    {
     "name": "stderr",
     "output_type": "stream",
     "text": [
      "C:\\Users\\austen.moore\\AppData\\Local\\Temp\\ipykernel_21196\\85752655.py:21: UserWarning: pandas only supports SQLAlchemy connectable (engine/connection) or database string URI or sqlite3 DBAPI2 connection. Other DBAPI2 objects are not tested. Please consider using SQLAlchemy.\n",
      "  df = pd.read_sql_query(query,cnxn)\n"
     ]
    },
    {
     "data": {
      "text/html": [
       "<div>\n",
       "<style scoped>\n",
       "    .dataframe tbody tr th:only-of-type {\n",
       "        vertical-align: middle;\n",
       "    }\n",
       "\n",
       "    .dataframe tbody tr th {\n",
       "        vertical-align: top;\n",
       "    }\n",
       "\n",
       "    .dataframe thead th {\n",
       "        text-align: right;\n",
       "    }\n",
       "</style>\n",
       "<table border=\"1\" class=\"dataframe\">\n",
       "  <thead>\n",
       "    <tr style=\"text-align: right;\">\n",
       "      <th></th>\n",
       "      <th>Employee</th>\n",
       "      <th>Date</th>\n",
       "      <th>work_type</th>\n",
       "      <th>Total_Eligible</th>\n",
       "      <th>Total_Accepted</th>\n",
       "    </tr>\n",
       "  </thead>\n",
       "  <tbody>\n",
       "    <tr>\n",
       "      <th>0</th>\n",
       "      <td>573276</td>\n",
       "      <td>2023-09-21</td>\n",
       "      <td>PPX</td>\n",
       "      <td>7.0</td>\n",
       "      <td>1.0</td>\n",
       "    </tr>\n",
       "    <tr>\n",
       "      <th>1</th>\n",
       "      <td>567923</td>\n",
       "      <td>2023-06-16</td>\n",
       "      <td>PPX</td>\n",
       "      <td>11.0</td>\n",
       "      <td>0.0</td>\n",
       "    </tr>\n",
       "    <tr>\n",
       "      <th>2</th>\n",
       "      <td>576911</td>\n",
       "      <td>2023-09-06</td>\n",
       "      <td>PPX</td>\n",
       "      <td>10.0</td>\n",
       "      <td>1.0</td>\n",
       "    </tr>\n",
       "    <tr>\n",
       "      <th>3</th>\n",
       "      <td>573573</td>\n",
       "      <td>2023-08-28</td>\n",
       "      <td>PPX</td>\n",
       "      <td>11.0</td>\n",
       "      <td>1.0</td>\n",
       "    </tr>\n",
       "    <tr>\n",
       "      <th>4</th>\n",
       "      <td>567923</td>\n",
       "      <td>2023-07-20</td>\n",
       "      <td>PPX</td>\n",
       "      <td>13.0</td>\n",
       "      <td>0.0</td>\n",
       "    </tr>\n",
       "  </tbody>\n",
       "</table>\n",
       "</div>"
      ],
      "text/plain": [
       "   Employee        Date work_type  Total_Eligible  Total_Accepted\n",
       "0    573276  2023-09-21       PPX             7.0             1.0\n",
       "1    567923  2023-06-16       PPX            11.0             0.0\n",
       "2    576911  2023-09-06       PPX            10.0             1.0\n",
       "3    573573  2023-08-28       PPX            11.0             1.0\n",
       "4    567923  2023-07-20       PPX            13.0             0.0"
      ]
     },
     "metadata": {},
     "output_type": "display_data"
    },
    {
     "data": {
      "text/plain": [
       "'HelixSearch.SQL 2023-09-29 11:36:01 AM'"
      ]
     },
     "metadata": {},
     "output_type": "display_data"
    },
    {
     "name": "stderr",
     "output_type": "stream",
     "text": [
      "C:\\Users\\austen.moore\\AppData\\Local\\Temp\\ipykernel_21196\\85752655.py:21: UserWarning: pandas only supports SQLAlchemy connectable (engine/connection) or database string URI or sqlite3 DBAPI2 connection. Other DBAPI2 objects are not tested. Please consider using SQLAlchemy.\n",
      "  df = pd.read_sql_query(query,cnxn)\n"
     ]
    },
    {
     "data": {
      "text/html": [
       "<div>\n",
       "<style scoped>\n",
       "    .dataframe tbody tr th:only-of-type {\n",
       "        vertical-align: middle;\n",
       "    }\n",
       "\n",
       "    .dataframe tbody tr th {\n",
       "        vertical-align: top;\n",
       "    }\n",
       "\n",
       "    .dataframe thead th {\n",
       "        text-align: right;\n",
       "    }\n",
       "</style>\n",
       "<table border=\"1\" class=\"dataframe\">\n",
       "  <thead>\n",
       "    <tr style=\"text-align: right;\">\n",
       "      <th></th>\n",
       "      <th>Employee</th>\n",
       "      <th>Date</th>\n",
       "      <th>work_type</th>\n",
       "      <th>Helix Searches</th>\n",
       "      <th>Sessions With Helix Search</th>\n",
       "    </tr>\n",
       "  </thead>\n",
       "  <tbody>\n",
       "    <tr>\n",
       "      <th>0</th>\n",
       "      <td>552712</td>\n",
       "      <td>2023-06-14</td>\n",
       "      <td>PPX</td>\n",
       "      <td>2</td>\n",
       "      <td>1</td>\n",
       "    </tr>\n",
       "    <tr>\n",
       "      <th>1</th>\n",
       "      <td>552712</td>\n",
       "      <td>2023-08-16</td>\n",
       "      <td>PPX</td>\n",
       "      <td>12</td>\n",
       "      <td>5</td>\n",
       "    </tr>\n",
       "    <tr>\n",
       "      <th>2</th>\n",
       "      <td>552712</td>\n",
       "      <td>2023-09-26</td>\n",
       "      <td>PPX</td>\n",
       "      <td>5</td>\n",
       "      <td>2</td>\n",
       "    </tr>\n",
       "    <tr>\n",
       "      <th>3</th>\n",
       "      <td>581275</td>\n",
       "      <td>2023-06-07</td>\n",
       "      <td>PPX</td>\n",
       "      <td>1</td>\n",
       "      <td>1</td>\n",
       "    </tr>\n",
       "    <tr>\n",
       "      <th>4</th>\n",
       "      <td>552712</td>\n",
       "      <td>2023-07-31</td>\n",
       "      <td>PPX</td>\n",
       "      <td>1</td>\n",
       "      <td>1</td>\n",
       "    </tr>\n",
       "  </tbody>\n",
       "</table>\n",
       "</div>"
      ],
      "text/plain": [
       "   Employee        Date work_type  Helix Searches  Sessions With Helix Search\n",
       "0    552712  2023-06-14       PPX               2                           1\n",
       "1    552712  2023-08-16       PPX              12                           5\n",
       "2    552712  2023-09-26       PPX               5                           2\n",
       "3    581275  2023-06-07       PPX               1                           1\n",
       "4    552712  2023-07-31       PPX               1                           1"
      ]
     },
     "metadata": {},
     "output_type": "display_data"
    },
    {
     "data": {
      "text/plain": [
       "'EfficiencyMetrics.SQL 2023-09-29 11:36:24 AM'"
      ]
     },
     "metadata": {},
     "output_type": "display_data"
    },
    {
     "name": "stderr",
     "output_type": "stream",
     "text": [
      "C:\\Users\\austen.moore\\AppData\\Local\\Temp\\ipykernel_21196\\85752655.py:21: UserWarning: pandas only supports SQLAlchemy connectable (engine/connection) or database string URI or sqlite3 DBAPI2 connection. Other DBAPI2 objects are not tested. Please consider using SQLAlchemy.\n",
      "  df = pd.read_sql_query(query,cnxn)\n"
     ]
    },
    {
     "data": {
      "text/html": [
       "<div>\n",
       "<style scoped>\n",
       "    .dataframe tbody tr th:only-of-type {\n",
       "        vertical-align: middle;\n",
       "    }\n",
       "\n",
       "    .dataframe tbody tr th {\n",
       "        vertical-align: top;\n",
       "    }\n",
       "\n",
       "    .dataframe thead th {\n",
       "        text-align: right;\n",
       "    }\n",
       "</style>\n",
       "<table border=\"1\" class=\"dataframe\">\n",
       "  <thead>\n",
       "    <tr style=\"text-align: right;\">\n",
       "      <th></th>\n",
       "      <th>Employee</th>\n",
       "      <th>Date</th>\n",
       "      <th>work_type</th>\n",
       "      <th>HoursWorked</th>\n",
       "      <th>Sessions</th>\n",
       "      <th>Total_Resolution_Time</th>\n",
       "    </tr>\n",
       "  </thead>\n",
       "  <tbody>\n",
       "    <tr>\n",
       "      <th>0</th>\n",
       "      <td>557903</td>\n",
       "      <td>2023-07-14</td>\n",
       "      <td>PPX</td>\n",
       "      <td>8.02</td>\n",
       "      <td>9</td>\n",
       "      <td>13612</td>\n",
       "    </tr>\n",
       "    <tr>\n",
       "      <th>1</th>\n",
       "      <td>568438</td>\n",
       "      <td>2023-07-19</td>\n",
       "      <td>PPX</td>\n",
       "      <td>7.84</td>\n",
       "      <td>17</td>\n",
       "      <td>15541</td>\n",
       "    </tr>\n",
       "    <tr>\n",
       "      <th>2</th>\n",
       "      <td>557903</td>\n",
       "      <td>2023-09-19</td>\n",
       "      <td>PPX</td>\n",
       "      <td>8.20</td>\n",
       "      <td>10</td>\n",
       "      <td>15028</td>\n",
       "    </tr>\n",
       "    <tr>\n",
       "      <th>3</th>\n",
       "      <td>557903</td>\n",
       "      <td>2023-07-18</td>\n",
       "      <td>PPX</td>\n",
       "      <td>8.00</td>\n",
       "      <td>7</td>\n",
       "      <td>10871</td>\n",
       "    </tr>\n",
       "    <tr>\n",
       "      <th>4</th>\n",
       "      <td>557903</td>\n",
       "      <td>2023-07-06</td>\n",
       "      <td>PPX</td>\n",
       "      <td>8.03</td>\n",
       "      <td>13</td>\n",
       "      <td>16009</td>\n",
       "    </tr>\n",
       "  </tbody>\n",
       "</table>\n",
       "</div>"
      ],
      "text/plain": [
       "   Employee        Date work_type  HoursWorked  Sessions  \\\n",
       "0    557903  2023-07-14       PPX         8.02         9   \n",
       "1    568438  2023-07-19       PPX         7.84        17   \n",
       "2    557903  2023-09-19       PPX         8.20        10   \n",
       "3    557903  2023-07-18       PPX         8.00         7   \n",
       "4    557903  2023-07-06       PPX         8.03        13   \n",
       "\n",
       "   Total_Resolution_Time  \n",
       "0                  13612  \n",
       "1                  15541  \n",
       "2                  15028  \n",
       "3                  10871  \n",
       "4                  16009  "
      ]
     },
     "metadata": {},
     "output_type": "display_data"
    },
    {
     "data": {
      "text/plain": [
       "'CXP.SQL 2023-09-29 11:36:37 AM'"
      ]
     },
     "metadata": {},
     "output_type": "display_data"
    },
    {
     "name": "stderr",
     "output_type": "stream",
     "text": [
      "C:\\Users\\austen.moore\\AppData\\Local\\Temp\\ipykernel_21196\\85752655.py:21: UserWarning: pandas only supports SQLAlchemy connectable (engine/connection) or database string URI or sqlite3 DBAPI2 connection. Other DBAPI2 objects are not tested. Please consider using SQLAlchemy.\n",
      "  df = pd.read_sql_query(query,cnxn)\n"
     ]
    },
    {
     "data": {
      "text/html": [
       "<div>\n",
       "<style scoped>\n",
       "    .dataframe tbody tr th:only-of-type {\n",
       "        vertical-align: middle;\n",
       "    }\n",
       "\n",
       "    .dataframe tbody tr th {\n",
       "        vertical-align: top;\n",
       "    }\n",
       "\n",
       "    .dataframe thead th {\n",
       "        text-align: right;\n",
       "    }\n",
       "</style>\n",
       "<table border=\"1\" class=\"dataframe\">\n",
       "  <thead>\n",
       "    <tr style=\"text-align: right;\">\n",
       "      <th></th>\n",
       "      <th>Date</th>\n",
       "      <th>Employee</th>\n",
       "      <th>CXP_Prob_Sum</th>\n",
       "      <th>CXP_Prob_Count</th>\n",
       "      <th>work_type</th>\n",
       "    </tr>\n",
       "  </thead>\n",
       "  <tbody>\n",
       "    <tr>\n",
       "      <th>0</th>\n",
       "      <td>2023-07-24</td>\n",
       "      <td>393510</td>\n",
       "      <td>6.702235</td>\n",
       "      <td>13</td>\n",
       "      <td>PPX</td>\n",
       "    </tr>\n",
       "    <tr>\n",
       "      <th>1</th>\n",
       "      <td>2023-06-26</td>\n",
       "      <td>552121</td>\n",
       "      <td>0.530424</td>\n",
       "      <td>1</td>\n",
       "      <td>PPX</td>\n",
       "    </tr>\n",
       "    <tr>\n",
       "      <th>2</th>\n",
       "      <td>2023-07-25</td>\n",
       "      <td>541226</td>\n",
       "      <td>15.232828</td>\n",
       "      <td>30</td>\n",
       "      <td>PPX</td>\n",
       "    </tr>\n",
       "    <tr>\n",
       "      <th>3</th>\n",
       "      <td>2023-07-10</td>\n",
       "      <td>554487</td>\n",
       "      <td>7.249915</td>\n",
       "      <td>14</td>\n",
       "      <td>PPX</td>\n",
       "    </tr>\n",
       "    <tr>\n",
       "      <th>4</th>\n",
       "      <td>2023-07-28</td>\n",
       "      <td>552121</td>\n",
       "      <td>2.605552</td>\n",
       "      <td>5</td>\n",
       "      <td>PPX</td>\n",
       "    </tr>\n",
       "  </tbody>\n",
       "</table>\n",
       "</div>"
      ],
      "text/plain": [
       "         Date  Employee  CXP_Prob_Sum  CXP_Prob_Count work_type\n",
       "0  2023-07-24    393510      6.702235              13       PPX\n",
       "1  2023-06-26    552121      0.530424               1       PPX\n",
       "2  2023-07-25    541226     15.232828              30       PPX\n",
       "3  2023-07-10    554487      7.249915              14       PPX\n",
       "4  2023-07-28    552121      2.605552               5       PPX"
      ]
     },
     "metadata": {},
     "output_type": "display_data"
    }
   ],
   "source": [
    "for query in [\n",
    "        'Sales.SQL',\n",
    "        'HelixSearch.SQL',\n",
    "        'EfficiencyMetrics.SQL',\n",
    "        'CXP.SQL'\n",
    "        ]:\n",
    "    display(query+\" \"+timestamp())\n",
    "    display(run_query(query_file_to_string('SQL/'+query)).head())"
   ]
  },
  {
   "cell_type": "code",
   "execution_count": null,
   "metadata": {},
   "outputs": [],
   "source": [
    "run_query(\"SELECT * FROM hive.information_schema.tables where table_name like '%home%' and table_schema = 'care'\")\n"
   ]
  },
  {
   "cell_type": "code",
   "execution_count": null,
   "metadata": {},
   "outputs": [],
   "source": [
    "duplicateChecker = run_query(\n",
    "\"\"\"\n",
    "SELECT element_at(VHE.edp_raw_data_map, 'Identities_SessionId'), vsc.support_session_id\n",
    "FROM\n",
    "    hive.care.l1_verizon_home_events vhe\n",
    "    LEFT OUTER JOIN\n",
    "    hive.care.l3_verizon_soluto_crm vsc\n",
    "    ON  element_at(VHE.edp_raw_data_map, 'Identities_SessionId') = vsc.support_session_id\n",
    "WHERE \n",
    "    element_at(VHE.edp_raw_data_map, '_header_eventContext_producer') = 'eip-ingestion-data-science' and\n",
    "    element_at(VHE.edp_raw_data_map, 'Identities_messageSid') is not null and\n",
    "    element_at(VHE.edp_raw_data_map, 'Name') = 'RequestSummaryVoice'\n",
    "\"\"\")"
   ]
  },
  {
   "cell_type": "code",
   "execution_count": null,
   "metadata": {},
   "outputs": [],
   "source": [
    "display(duplicateChecker.columns)\n",
    "duplicateChecker"
   ]
  },
  {
   "cell_type": "code",
   "execution_count": 50,
   "metadata": {},
   "outputs": [
    {
     "name": "stderr",
     "output_type": "stream",
     "text": [
      "C:\\Users\\austen.moore\\AppData\\Local\\Temp\\ipykernel_3772\\1418089109.py:17: UserWarning: pandas only supports SQLAlchemy connectable (engine/connection) or database string URI or sqlite3 DBAPI2 connection. Other DBAPI2 objects are not tested. Please consider using SQLAlchemy.\n",
      "  df = pd.read_sql_query(query,cnxn)\n"
     ]
    },
    {
     "data": {
      "text/html": [
       "<div>\n",
       "<style scoped>\n",
       "    .dataframe tbody tr th:only-of-type {\n",
       "        vertical-align: middle;\n",
       "    }\n",
       "\n",
       "    .dataframe tbody tr th {\n",
       "        vertical-align: top;\n",
       "    }\n",
       "\n",
       "    .dataframe thead th {\n",
       "        text-align: right;\n",
       "    }\n",
       "</style>\n",
       "<table border=\"1\" class=\"dataframe\">\n",
       "  <thead>\n",
       "    <tr style=\"text-align: right;\">\n",
       "      <th></th>\n",
       "      <th>_col0</th>\n",
       "      <th>Date1</th>\n",
       "      <th>Date2</th>\n",
       "      <th>Date3</th>\n",
       "    </tr>\n",
       "  </thead>\n",
       "  <tbody>\n",
       "    <tr>\n",
       "      <th>0</th>\n",
       "      <td>08c60eb5-f7e5-415d-8226-1212d7dad67e</td>\n",
       "      <td>:01.015052</td>\n",
       "      <td>2023-09-25</td>\n",
       "      <td>5 18:09:01.015052</td>\n",
       "    </tr>\n",
       "    <tr>\n",
       "      <th>1</th>\n",
       "      <td>13d7b6c4-8005-4833-bed8-f278115c3e38</td>\n",
       "      <td>:38.518442</td>\n",
       "      <td>2023-09-25</td>\n",
       "      <td>5 18:18:38.518442</td>\n",
       "    </tr>\n",
       "    <tr>\n",
       "      <th>2</th>\n",
       "      <td>bdf3f329-1548-4505-afd5-332c2fa1214c</td>\n",
       "      <td>:53.842888</td>\n",
       "      <td>2023-09-27</td>\n",
       "      <td>7 08:07:53.842888</td>\n",
       "    </tr>\n",
       "    <tr>\n",
       "      <th>3</th>\n",
       "      <td>bfe9aaaa-fc27-4fa1-8953-5307b4080b4b</td>\n",
       "      <td>:29.487274</td>\n",
       "      <td>2023-09-27</td>\n",
       "      <td>7 07:59:29.487274</td>\n",
       "    </tr>\n",
       "    <tr>\n",
       "      <th>4</th>\n",
       "      <td>c587e1f9-7461-4333-9e8e-04101101df36</td>\n",
       "      <td>:16.351127</td>\n",
       "      <td>2023-09-27</td>\n",
       "      <td>7 08:06:16.351127</td>\n",
       "    </tr>\n",
       "    <tr>\n",
       "      <th>...</th>\n",
       "      <td>...</td>\n",
       "      <td>...</td>\n",
       "      <td>...</td>\n",
       "      <td>...</td>\n",
       "    </tr>\n",
       "    <tr>\n",
       "      <th>1361</th>\n",
       "      <td>69ee8dc9-c717-4c2b-9a89-5c0bee5ff9d8</td>\n",
       "      <td>:32.294672</td>\n",
       "      <td>2023-09-26</td>\n",
       "      <td>6 17:48:32.294672</td>\n",
       "    </tr>\n",
       "    <tr>\n",
       "      <th>1362</th>\n",
       "      <td>1956ba0e-87f7-461d-9546-6ebe97f9db8a</td>\n",
       "      <td>:31.144620</td>\n",
       "      <td>2023-09-28</td>\n",
       "      <td>8 19:54:31.144620</td>\n",
       "    </tr>\n",
       "    <tr>\n",
       "      <th>1363</th>\n",
       "      <td>0d3ea442-c454-4e8f-9aa2-3ba568495d8d</td>\n",
       "      <td>:05.746993</td>\n",
       "      <td>2023-09-28</td>\n",
       "      <td>8 19:01:05.746993</td>\n",
       "    </tr>\n",
       "    <tr>\n",
       "      <th>1364</th>\n",
       "      <td>595e11f2-3976-473a-aa70-a15899cbd917</td>\n",
       "      <td>:33.121318</td>\n",
       "      <td>2023-09-28</td>\n",
       "      <td>8 19:01:33.121318</td>\n",
       "    </tr>\n",
       "    <tr>\n",
       "      <th>1365</th>\n",
       "      <td>0d3ea442-c454-4e8f-9aa2-3ba568495d8d</td>\n",
       "      <td>:45.143379</td>\n",
       "      <td>2023-09-28</td>\n",
       "      <td>8 19:01:45.143379</td>\n",
       "    </tr>\n",
       "  </tbody>\n",
       "</table>\n",
       "<p>1366 rows × 4 columns</p>\n",
       "</div>"
      ],
      "text/plain": [
       "                                     _col0       Date1       Date2  \\\n",
       "0     08c60eb5-f7e5-415d-8226-1212d7dad67e  :01.015052  2023-09-25   \n",
       "1     13d7b6c4-8005-4833-bed8-f278115c3e38  :38.518442  2023-09-25   \n",
       "2     bdf3f329-1548-4505-afd5-332c2fa1214c  :53.842888  2023-09-27   \n",
       "3     bfe9aaaa-fc27-4fa1-8953-5307b4080b4b  :29.487274  2023-09-27   \n",
       "4     c587e1f9-7461-4333-9e8e-04101101df36  :16.351127  2023-09-27   \n",
       "...                                    ...         ...         ...   \n",
       "1361  69ee8dc9-c717-4c2b-9a89-5c0bee5ff9d8  :32.294672  2023-09-26   \n",
       "1362  1956ba0e-87f7-461d-9546-6ebe97f9db8a  :31.144620  2023-09-28   \n",
       "1363  0d3ea442-c454-4e8f-9aa2-3ba568495d8d  :05.746993  2023-09-28   \n",
       "1364  595e11f2-3976-473a-aa70-a15899cbd917  :33.121318  2023-09-28   \n",
       "1365  0d3ea442-c454-4e8f-9aa2-3ba568495d8d  :45.143379  2023-09-28   \n",
       "\n",
       "                  Date3  \n",
       "0     5 18:09:01.015052  \n",
       "1     5 18:18:38.518442  \n",
       "2     7 08:07:53.842888  \n",
       "3     7 07:59:29.487274  \n",
       "4     7 08:06:16.351127  \n",
       "...                 ...  \n",
       "1361  6 17:48:32.294672  \n",
       "1362  8 19:54:31.144620  \n",
       "1363  8 19:01:05.746993  \n",
       "1364  8 19:01:33.121318  \n",
       "1365  8 19:01:45.143379  \n",
       "\n",
       "[1366 rows x 4 columns]"
      ]
     },
     "execution_count": 50,
     "metadata": {},
     "output_type": "execute_result"
    }
   ],
   "source": [
    "run_query(\n",
    "\"\"\"\n",
    "SELECT\n",
    "    element_at(VHE.edp_raw_data_map,'Identities_SessionId'),\n",
    "    substring(element_at(VHE.edp_raw_data_map, 'ExtraData_endRequestTime'),-10) as \"Date1\",\n",
    "    substring(element_at(VHE.edp_raw_data_map, 'ExtraData_endRequestTime'),1, 10) as \"Date2\",\n",
    "    substring(element_at(VHE.edp_raw_data_map, 'ExtraData_endRequestTime'),+10) as \"Date3\"\n",
    "FROM\n",
    "     hive.care.l1_verizon_home_events VHE\n",
    "WHERE 1=1\n",
    "    AND element_at(VHE.edp_raw_data_map, '_header_eventContext_producer') = 'eip-ingestion-data-science'\n",
    "    AND element_at(VHE.edp_raw_data_map, 'Identities_messageSid') IS NOT NULL\n",
    "    AND element_at(VHE.edp_raw_data_map, 'Name') = 'RequestSummaryVoice'\n",
    "\"\"\")"
   ]
  }
 ],
 "metadata": {
  "kernelspec": {
   "display_name": "Python 3",
   "language": "python",
   "name": "python3"
  },
  "language_info": {
   "codemirror_mode": {
    "name": "ipython",
    "version": 3
   },
   "file_extension": ".py",
   "mimetype": "text/x-python",
   "name": "python",
   "nbconvert_exporter": "python",
   "pygments_lexer": "ipython3",
   "version": "3.11.2"
  },
  "orig_nbformat": 4
 },
 "nbformat": 4,
 "nbformat_minor": 2
}
